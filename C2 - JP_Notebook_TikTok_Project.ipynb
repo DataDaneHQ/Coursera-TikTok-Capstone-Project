{
 "cells": [
  {
   "cell_type": "markdown",
   "metadata": {
    "id": "DtNBZFHO3M7n"
   },
   "source": [
    "# **TikTok Project: Preliminary EDA**"
   ]
  },
  {
   "cell_type": "markdown",
   "metadata": {
    "id": "DtNBZFHO3M7n"
   },
   "source": [
    "<img src=\"C:\\Users\\danet\\Documents\\Images\\Bubble logo.png\" alt=\"Logo\" style=\"float:left; width:120px; height:120px;\">"
   ]
  },
  {
   "cell_type": "markdown",
   "metadata": {
    "jp-MarkdownHeadingCollapsed": true
   },
   "source": [
    "## **Introduction**\n",
    "\n",
    "The goal of this preliminary exploratory data analysis (EDA) is to uncover key relationships within the TikTok claims classification dataset, laying the groundwork for more advanced analysis. By focusing on the distribution of video content types, particularly claims versus opinions, and examining claims status, author ban status, and video engagement metrics, the data team aimed to identify potential trends. Three new engagement columns were created to deepen the analysis. This groundwork enhances the dataset’s utility for building a machine learning model that will improve content moderation, reduce user report backlogs, and ultimately contribute to a safer and more engaging TikTok platform."
   ]
  },
  {
   "cell_type": "markdown",
   "metadata": {},
   "source": [
    "## **Dataset Inspection**\n",
    "\n",
    "* Import packages and upload dataset\n",
    "* Initial Inspection"
   ]
  },
  {
   "cell_type": "code",
   "execution_count": 4,
   "metadata": {
    "id": "I4Jj3QLINOsL"
   },
   "outputs": [],
   "source": [
    "# Import packages\n",
    "import pandas as pd\n",
    "import numpy as np\n",
    "import matplotlib.pyplot as plt\n",
    "import seaborn as sns"
   ]
  },
  {
   "cell_type": "code",
   "execution_count": 29,
   "metadata": {
    "id": "oYk-rdaWNN4G",
    "scrolled": true
   },
   "outputs": [],
   "source": [
    "# Load dataset into dataframe\n",
    "df = pd.read_csv(r'C:\\Users\\danet\\Documents\\tiktok_dataset.csv')"
   ]
  },
  {
   "cell_type": "code",
   "execution_count": 30,
   "metadata": {
    "colab": {
     "base_uri": "https://localhost:8080/",
     "height": 556
    },
    "id": "pW7syBEskCS8",
    "outputId": "de59a1e0-2569-4fd2-a238-e72f4e7c724d"
   },
   "outputs": [
    {
     "data": {
      "text/html": [
       "<div>\n",
       "<style scoped>\n",
       "    .dataframe tbody tr th:only-of-type {\n",
       "        vertical-align: middle;\n",
       "    }\n",
       "\n",
       "    .dataframe tbody tr th {\n",
       "        vertical-align: top;\n",
       "    }\n",
       "\n",
       "    .dataframe thead th {\n",
       "        text-align: right;\n",
       "    }\n",
       "</style>\n",
       "<table border=\"1\" class=\"dataframe\">\n",
       "  <thead>\n",
       "    <tr style=\"text-align: right;\">\n",
       "      <th></th>\n",
       "      <th>#</th>\n",
       "      <th>claim_status</th>\n",
       "      <th>video_id</th>\n",
       "      <th>video_duration_sec</th>\n",
       "      <th>video_transcription_text</th>\n",
       "      <th>verified_status</th>\n",
       "      <th>author_ban_status</th>\n",
       "      <th>video_view_count</th>\n",
       "      <th>video_like_count</th>\n",
       "      <th>video_share_count</th>\n",
       "      <th>video_download_count</th>\n",
       "      <th>video_comment_count</th>\n",
       "    </tr>\n",
       "  </thead>\n",
       "  <tbody>\n",
       "    <tr>\n",
       "      <th>0</th>\n",
       "      <td>1</td>\n",
       "      <td>claim</td>\n",
       "      <td>7017666017</td>\n",
       "      <td>59</td>\n",
       "      <td>someone shared with me that drone deliveries a...</td>\n",
       "      <td>not verified</td>\n",
       "      <td>under review</td>\n",
       "      <td>343296.0</td>\n",
       "      <td>19425.0</td>\n",
       "      <td>241.0</td>\n",
       "      <td>1.0</td>\n",
       "      <td>0.0</td>\n",
       "    </tr>\n",
       "    <tr>\n",
       "      <th>1</th>\n",
       "      <td>2</td>\n",
       "      <td>claim</td>\n",
       "      <td>4014381136</td>\n",
       "      <td>32</td>\n",
       "      <td>someone shared with me that there are more mic...</td>\n",
       "      <td>not verified</td>\n",
       "      <td>active</td>\n",
       "      <td>140877.0</td>\n",
       "      <td>77355.0</td>\n",
       "      <td>19034.0</td>\n",
       "      <td>1161.0</td>\n",
       "      <td>684.0</td>\n",
       "    </tr>\n",
       "    <tr>\n",
       "      <th>2</th>\n",
       "      <td>3</td>\n",
       "      <td>claim</td>\n",
       "      <td>9859838091</td>\n",
       "      <td>31</td>\n",
       "      <td>someone shared with me that american industria...</td>\n",
       "      <td>not verified</td>\n",
       "      <td>active</td>\n",
       "      <td>902185.0</td>\n",
       "      <td>97690.0</td>\n",
       "      <td>2858.0</td>\n",
       "      <td>833.0</td>\n",
       "      <td>329.0</td>\n",
       "    </tr>\n",
       "    <tr>\n",
       "      <th>3</th>\n",
       "      <td>4</td>\n",
       "      <td>claim</td>\n",
       "      <td>1866847991</td>\n",
       "      <td>25</td>\n",
       "      <td>someone shared with me that the metro of st. p...</td>\n",
       "      <td>not verified</td>\n",
       "      <td>active</td>\n",
       "      <td>437506.0</td>\n",
       "      <td>239954.0</td>\n",
       "      <td>34812.0</td>\n",
       "      <td>1234.0</td>\n",
       "      <td>584.0</td>\n",
       "    </tr>\n",
       "    <tr>\n",
       "      <th>4</th>\n",
       "      <td>5</td>\n",
       "      <td>claim</td>\n",
       "      <td>7105231098</td>\n",
       "      <td>19</td>\n",
       "      <td>someone shared with me that the number of busi...</td>\n",
       "      <td>not verified</td>\n",
       "      <td>active</td>\n",
       "      <td>56167.0</td>\n",
       "      <td>34987.0</td>\n",
       "      <td>4110.0</td>\n",
       "      <td>547.0</td>\n",
       "      <td>152.0</td>\n",
       "    </tr>\n",
       "  </tbody>\n",
       "</table>\n",
       "</div>"
      ],
      "text/plain": [
       "   # claim_status    video_id  video_duration_sec  \\\n",
       "0  1        claim  7017666017                  59   \n",
       "1  2        claim  4014381136                  32   \n",
       "2  3        claim  9859838091                  31   \n",
       "3  4        claim  1866847991                  25   \n",
       "4  5        claim  7105231098                  19   \n",
       "\n",
       "                            video_transcription_text verified_status  \\\n",
       "0  someone shared with me that drone deliveries a...    not verified   \n",
       "1  someone shared with me that there are more mic...    not verified   \n",
       "2  someone shared with me that american industria...    not verified   \n",
       "3  someone shared with me that the metro of st. p...    not verified   \n",
       "4  someone shared with me that the number of busi...    not verified   \n",
       "\n",
       "  author_ban_status  video_view_count  video_like_count  video_share_count  \\\n",
       "0      under review          343296.0           19425.0              241.0   \n",
       "1            active          140877.0           77355.0            19034.0   \n",
       "2            active          902185.0           97690.0             2858.0   \n",
       "3            active          437506.0          239954.0            34812.0   \n",
       "4            active           56167.0           34987.0             4110.0   \n",
       "\n",
       "   video_download_count  video_comment_count  \n",
       "0                   1.0                  0.0  \n",
       "1                1161.0                684.0  \n",
       "2                 833.0                329.0  \n",
       "3                1234.0                584.0  \n",
       "4                 547.0                152.0  "
      ]
     },
     "execution_count": 30,
     "metadata": {},
     "output_type": "execute_result"
    }
   ],
   "source": [
    "# Display and examine the first ten rows of the dataframe\n",
    "df.head(5)"
   ]
  },
  {
   "cell_type": "markdown",
   "metadata": {
    "id": "PCUJD_o4SWXN"
   },
   "source": [
    "***Insights***\n",
    "- Each row represents the claim status of an individual video along video metrics, including but not limited to video id,duration, view count, etc., while also showing a video transcript, the varification status and the ban status.\n",
    "\n",
    "<br>\n"
   ]
  },
  {
   "cell_type": "code",
   "execution_count": 31,
   "metadata": {
    "colab": {
     "base_uri": "https://localhost:8080/"
    },
    "id": "uo90wIjK7z-k",
    "outputId": "84f1bca6-088e-4be9-b543-54e396c6982c"
   },
   "outputs": [
    {
     "name": "stdout",
     "output_type": "stream",
     "text": [
      "<class 'pandas.core.frame.DataFrame'>\n",
      "RangeIndex: 19382 entries, 0 to 19381\n",
      "Data columns (total 12 columns):\n",
      " #   Column                    Non-Null Count  Dtype  \n",
      "---  ------                    --------------  -----  \n",
      " 0   #                         19382 non-null  int64  \n",
      " 1   claim_status              19084 non-null  object \n",
      " 2   video_id                  19382 non-null  int64  \n",
      " 3   video_duration_sec        19382 non-null  int64  \n",
      " 4   video_transcription_text  19084 non-null  object \n",
      " 5   verified_status           19382 non-null  object \n",
      " 6   author_ban_status         19382 non-null  object \n",
      " 7   video_view_count          19084 non-null  float64\n",
      " 8   video_like_count          19084 non-null  float64\n",
      " 9   video_share_count         19084 non-null  float64\n",
      " 10  video_download_count      19084 non-null  float64\n",
      " 11  video_comment_count       19084 non-null  float64\n",
      "dtypes: float64(5), int64(3), object(4)\n",
      "memory usage: 1.8+ MB\n"
     ]
    }
   ],
   "source": [
    "# Get summary info\n",
    "df.info()"
   ]
  },
  {
   "cell_type": "markdown",
   "metadata": {
    "id": "aGKid5i3SN8s"
   },
   "source": [
    "***Insights***\n",
    "- The Dataframe contains 19,382 entries, 12 columns, dtypes = float64(5), int64(3), object(4), memory usage of 1.8+ MB. There are 7 columns with 298 null or missing entries.\n",
    "\n",
    "<br>\n"
   ]
  },
  {
   "cell_type": "code",
   "execution_count": 32,
   "metadata": {
    "colab": {
     "base_uri": "https://localhost:8080/",
     "height": 300
    },
    "id": "rrdPW1l67zrR",
    "outputId": "bdddf815-34d3-46ba-a350-ddb5ba13f1f7"
   },
   "outputs": [
    {
     "data": {
      "text/html": [
       "<div>\n",
       "<style scoped>\n",
       "    .dataframe tbody tr th:only-of-type {\n",
       "        vertical-align: middle;\n",
       "    }\n",
       "\n",
       "    .dataframe tbody tr th {\n",
       "        vertical-align: top;\n",
       "    }\n",
       "\n",
       "    .dataframe thead th {\n",
       "        text-align: right;\n",
       "    }\n",
       "</style>\n",
       "<table border=\"1\" class=\"dataframe\">\n",
       "  <thead>\n",
       "    <tr style=\"text-align: right;\">\n",
       "      <th></th>\n",
       "      <th>#</th>\n",
       "      <th>video_id</th>\n",
       "      <th>video_duration_sec</th>\n",
       "      <th>video_view_count</th>\n",
       "      <th>video_like_count</th>\n",
       "      <th>video_share_count</th>\n",
       "      <th>video_download_count</th>\n",
       "      <th>video_comment_count</th>\n",
       "    </tr>\n",
       "  </thead>\n",
       "  <tbody>\n",
       "    <tr>\n",
       "      <th>count</th>\n",
       "      <td>19382.000000</td>\n",
       "      <td>1.938200e+04</td>\n",
       "      <td>19382.000000</td>\n",
       "      <td>19084.000000</td>\n",
       "      <td>19084.000000</td>\n",
       "      <td>19084.000000</td>\n",
       "      <td>19084.000000</td>\n",
       "      <td>19084.000000</td>\n",
       "    </tr>\n",
       "    <tr>\n",
       "      <th>mean</th>\n",
       "      <td>9691.500000</td>\n",
       "      <td>5.627454e+09</td>\n",
       "      <td>32.421732</td>\n",
       "      <td>254708.558688</td>\n",
       "      <td>84304.636030</td>\n",
       "      <td>16735.248323</td>\n",
       "      <td>1049.429627</td>\n",
       "      <td>349.312146</td>\n",
       "    </tr>\n",
       "    <tr>\n",
       "      <th>std</th>\n",
       "      <td>5595.245794</td>\n",
       "      <td>2.536440e+09</td>\n",
       "      <td>16.229967</td>\n",
       "      <td>322893.280814</td>\n",
       "      <td>133420.546814</td>\n",
       "      <td>32036.174350</td>\n",
       "      <td>2004.299894</td>\n",
       "      <td>799.638865</td>\n",
       "    </tr>\n",
       "    <tr>\n",
       "      <th>min</th>\n",
       "      <td>1.000000</td>\n",
       "      <td>1.234959e+09</td>\n",
       "      <td>5.000000</td>\n",
       "      <td>20.000000</td>\n",
       "      <td>0.000000</td>\n",
       "      <td>0.000000</td>\n",
       "      <td>0.000000</td>\n",
       "      <td>0.000000</td>\n",
       "    </tr>\n",
       "    <tr>\n",
       "      <th>25%</th>\n",
       "      <td>4846.250000</td>\n",
       "      <td>3.430417e+09</td>\n",
       "      <td>18.000000</td>\n",
       "      <td>4942.500000</td>\n",
       "      <td>810.750000</td>\n",
       "      <td>115.000000</td>\n",
       "      <td>7.000000</td>\n",
       "      <td>1.000000</td>\n",
       "    </tr>\n",
       "    <tr>\n",
       "      <th>50%</th>\n",
       "      <td>9691.500000</td>\n",
       "      <td>5.618664e+09</td>\n",
       "      <td>32.000000</td>\n",
       "      <td>9954.500000</td>\n",
       "      <td>3403.500000</td>\n",
       "      <td>717.000000</td>\n",
       "      <td>46.000000</td>\n",
       "      <td>9.000000</td>\n",
       "    </tr>\n",
       "    <tr>\n",
       "      <th>75%</th>\n",
       "      <td>14536.750000</td>\n",
       "      <td>7.843960e+09</td>\n",
       "      <td>47.000000</td>\n",
       "      <td>504327.000000</td>\n",
       "      <td>125020.000000</td>\n",
       "      <td>18222.000000</td>\n",
       "      <td>1156.250000</td>\n",
       "      <td>292.000000</td>\n",
       "    </tr>\n",
       "    <tr>\n",
       "      <th>max</th>\n",
       "      <td>19382.000000</td>\n",
       "      <td>9.999873e+09</td>\n",
       "      <td>60.000000</td>\n",
       "      <td>999817.000000</td>\n",
       "      <td>657830.000000</td>\n",
       "      <td>256130.000000</td>\n",
       "      <td>14994.000000</td>\n",
       "      <td>9599.000000</td>\n",
       "    </tr>\n",
       "  </tbody>\n",
       "</table>\n",
       "</div>"
      ],
      "text/plain": [
       "                  #      video_id  video_duration_sec  video_view_count  \\\n",
       "count  19382.000000  1.938200e+04        19382.000000      19084.000000   \n",
       "mean    9691.500000  5.627454e+09           32.421732     254708.558688   \n",
       "std     5595.245794  2.536440e+09           16.229967     322893.280814   \n",
       "min        1.000000  1.234959e+09            5.000000         20.000000   \n",
       "25%     4846.250000  3.430417e+09           18.000000       4942.500000   \n",
       "50%     9691.500000  5.618664e+09           32.000000       9954.500000   \n",
       "75%    14536.750000  7.843960e+09           47.000000     504327.000000   \n",
       "max    19382.000000  9.999873e+09           60.000000     999817.000000   \n",
       "\n",
       "       video_like_count  video_share_count  video_download_count  \\\n",
       "count      19084.000000       19084.000000          19084.000000   \n",
       "mean       84304.636030       16735.248323           1049.429627   \n",
       "std       133420.546814       32036.174350           2004.299894   \n",
       "min            0.000000           0.000000              0.000000   \n",
       "25%          810.750000         115.000000              7.000000   \n",
       "50%         3403.500000         717.000000             46.000000   \n",
       "75%       125020.000000       18222.000000           1156.250000   \n",
       "max       657830.000000      256130.000000          14994.000000   \n",
       "\n",
       "       video_comment_count  \n",
       "count         19084.000000  \n",
       "mean            349.312146  \n",
       "std             799.638865  \n",
       "min               0.000000  \n",
       "25%               1.000000  \n",
       "50%               9.000000  \n",
       "75%             292.000000  \n",
       "max            9599.000000  "
      ]
     },
     "execution_count": 32,
     "metadata": {},
     "output_type": "execute_result"
    }
   ],
   "source": [
    "# Get summary statistics\n",
    "df.describe()"
   ]
  },
  {
   "cell_type": "markdown",
   "metadata": {
    "id": "jrENd-iQZRdA"
   },
   "source": [
    "***Insights***\n",
    "- There is significant variations in view counts, like counts, share counts, download counts and comment counts suggesting a wide range of video popularity.  Looking at the mean vs median values along with some high standard deviations in the numerical columns indicate the presence of outliers.\n",
    "\n",
    "<br>\n"
   ]
  },
  {
   "cell_type": "code",
   "execution_count": 33,
   "metadata": {
    "colab": {
     "base_uri": "https://localhost:8080/",
     "height": 243
    },
    "id": "jaWqtj3yENy0",
    "outputId": "9530d822-e845-4a3d-a098-268a49e0edcc"
   },
   "outputs": [
    {
     "name": "stdout",
     "output_type": "stream",
     "text": [
      "Total null values in 'claim_status' column: 298\n"
     ]
    },
    {
     "data": {
      "text/html": [
       "<div>\n",
       "<style scoped>\n",
       "    .dataframe tbody tr th:only-of-type {\n",
       "        vertical-align: middle;\n",
       "    }\n",
       "\n",
       "    .dataframe tbody tr th {\n",
       "        vertical-align: top;\n",
       "    }\n",
       "\n",
       "    .dataframe thead th {\n",
       "        text-align: right;\n",
       "    }\n",
       "</style>\n",
       "<table border=\"1\" class=\"dataframe\">\n",
       "  <thead>\n",
       "    <tr style=\"text-align: right;\">\n",
       "      <th></th>\n",
       "      <th>#</th>\n",
       "      <th>claim_status</th>\n",
       "      <th>video_id</th>\n",
       "      <th>video_duration_sec</th>\n",
       "      <th>video_transcription_text</th>\n",
       "      <th>verified_status</th>\n",
       "      <th>author_ban_status</th>\n",
       "      <th>video_view_count</th>\n",
       "      <th>video_like_count</th>\n",
       "      <th>video_share_count</th>\n",
       "      <th>video_download_count</th>\n",
       "      <th>video_comment_count</th>\n",
       "    </tr>\n",
       "  </thead>\n",
       "  <tbody>\n",
       "    <tr>\n",
       "      <th>19084</th>\n",
       "      <td>19085</td>\n",
       "      <td>NaN</td>\n",
       "      <td>4380513697</td>\n",
       "      <td>39</td>\n",
       "      <td>NaN</td>\n",
       "      <td>not verified</td>\n",
       "      <td>active</td>\n",
       "      <td>NaN</td>\n",
       "      <td>NaN</td>\n",
       "      <td>NaN</td>\n",
       "      <td>NaN</td>\n",
       "      <td>NaN</td>\n",
       "    </tr>\n",
       "    <tr>\n",
       "      <th>19085</th>\n",
       "      <td>19086</td>\n",
       "      <td>NaN</td>\n",
       "      <td>8352130892</td>\n",
       "      <td>60</td>\n",
       "      <td>NaN</td>\n",
       "      <td>not verified</td>\n",
       "      <td>active</td>\n",
       "      <td>NaN</td>\n",
       "      <td>NaN</td>\n",
       "      <td>NaN</td>\n",
       "      <td>NaN</td>\n",
       "      <td>NaN</td>\n",
       "    </tr>\n",
       "    <tr>\n",
       "      <th>19086</th>\n",
       "      <td>19087</td>\n",
       "      <td>NaN</td>\n",
       "      <td>4443076562</td>\n",
       "      <td>25</td>\n",
       "      <td>NaN</td>\n",
       "      <td>not verified</td>\n",
       "      <td>active</td>\n",
       "      <td>NaN</td>\n",
       "      <td>NaN</td>\n",
       "      <td>NaN</td>\n",
       "      <td>NaN</td>\n",
       "      <td>NaN</td>\n",
       "    </tr>\n",
       "    <tr>\n",
       "      <th>19087</th>\n",
       "      <td>19088</td>\n",
       "      <td>NaN</td>\n",
       "      <td>8328300333</td>\n",
       "      <td>7</td>\n",
       "      <td>NaN</td>\n",
       "      <td>not verified</td>\n",
       "      <td>active</td>\n",
       "      <td>NaN</td>\n",
       "      <td>NaN</td>\n",
       "      <td>NaN</td>\n",
       "      <td>NaN</td>\n",
       "      <td>NaN</td>\n",
       "    </tr>\n",
       "    <tr>\n",
       "      <th>19088</th>\n",
       "      <td>19089</td>\n",
       "      <td>NaN</td>\n",
       "      <td>3968729520</td>\n",
       "      <td>8</td>\n",
       "      <td>NaN</td>\n",
       "      <td>not verified</td>\n",
       "      <td>active</td>\n",
       "      <td>NaN</td>\n",
       "      <td>NaN</td>\n",
       "      <td>NaN</td>\n",
       "      <td>NaN</td>\n",
       "      <td>NaN</td>\n",
       "    </tr>\n",
       "  </tbody>\n",
       "</table>\n",
       "</div>"
      ],
      "text/plain": [
       "           # claim_status    video_id  video_duration_sec  \\\n",
       "19084  19085          NaN  4380513697                  39   \n",
       "19085  19086          NaN  8352130892                  60   \n",
       "19086  19087          NaN  4443076562                  25   \n",
       "19087  19088          NaN  8328300333                   7   \n",
       "19088  19089          NaN  3968729520                   8   \n",
       "\n",
       "      video_transcription_text verified_status author_ban_status  \\\n",
       "19084                      NaN    not verified            active   \n",
       "19085                      NaN    not verified            active   \n",
       "19086                      NaN    not verified            active   \n",
       "19087                      NaN    not verified            active   \n",
       "19088                      NaN    not verified            active   \n",
       "\n",
       "       video_view_count  video_like_count  video_share_count  \\\n",
       "19084               NaN               NaN                NaN   \n",
       "19085               NaN               NaN                NaN   \n",
       "19086               NaN               NaN                NaN   \n",
       "19087               NaN               NaN                NaN   \n",
       "19088               NaN               NaN                NaN   \n",
       "\n",
       "       video_download_count  video_comment_count  \n",
       "19084                   NaN                  NaN  \n",
       "19085                   NaN                  NaN  \n",
       "19086                   NaN                  NaN  \n",
       "19087                   NaN                  NaN  \n",
       "19088                   NaN                  NaN  "
      ]
     },
     "execution_count": 33,
     "metadata": {},
     "output_type": "execute_result"
    }
   ],
   "source": [
    "null_claim_status_count = df['claim_status'].isnull().sum()\n",
    "\n",
    "# Show a preview of the rows with null values in the 'claim_status' column\n",
    "null_claim_status_rows = df[df['claim_status'].isnull()]\n",
    "\n",
    "print(f\"Total null values in 'claim_status' column: {null_claim_status_count}\")\n",
    "null_claim_status_rows.head()"
   ]
  },
  {
   "cell_type": "markdown",
   "metadata": {
    "id": "EW2kEOHTU4Bw"
   },
   "source": [
    "***Insights***\n",
    "- Investigated the presence of NaN values or Null values within the dataset and found 7 columns, each with 298 rows of null values\n",
    "\n",
    "<br>\n"
   ]
  },
  {
   "cell_type": "markdown",
   "metadata": {
    "id": "gYx1emvno7U_"
   },
   "source": [
    "## **Understand the data - Investigate the variables**\n",
    "\n",
    "I began to investigate the variables more closely to better understand them.\n",
    "\n",
    "The project proposal states that the ultimate objective is to use machine learning to classify videos as either claims or opinions. Therefore, a good first step is to examine the `claim_status` variable."
   ]
  },
  {
   "cell_type": "code",
   "execution_count": 35,
   "metadata": {
    "colab": {
     "base_uri": "https://localhost:8080/"
    },
    "id": "Kb8fPcw3rvvo",
    "outputId": "fbd9dbc5-a949-4639-d814-2a1dde8dff9a"
   },
   "outputs": [
    {
     "data": {
      "text/plain": [
       "claim_status\n",
       "claim      9608\n",
       "opinion    9476\n",
       "Name: count, dtype: int64"
      ]
     },
     "execution_count": 35,
     "metadata": {},
     "output_type": "execute_result"
    }
   ],
   "source": [
    "# Determine the count of videos for each claim status\n",
    "claim_status_counts = df['claim_status'].value_counts()\n",
    "claim_status_counts"
   ]
  },
  {
   "cell_type": "markdown",
   "metadata": {
    "id": "QSE317zdZp1q"
   },
   "source": [
    "***Insights***\n",
    "- Relatively balanced count values for each claim status\n",
    "\n",
    "<br>\n"
   ]
  },
  {
   "cell_type": "code",
   "execution_count": 37,
   "metadata": {
    "colab": {
     "base_uri": "https://localhost:8080/"
    },
    "id": "fuwMO66VCri1",
    "outputId": "82e85209-e6a7-429b-b7c3-d60000c83808"
   },
   "outputs": [
    {
     "name": "stdout",
     "output_type": "stream",
     "text": [
      "Mean view count claims: 501029.45\n",
      "Median view count claims: 501555.0\n"
     ]
    }
   ],
   "source": [
    "# What is the mean and median view count of videos with \"claim\" status?\n",
    "claims = df[df['claim_status'] == 'claim']\n",
    "print(f\"Mean view count claims: {round(claims['video_view_count'].mean(), 2)}\")\n",
    "print(f\"Median view count claims: {round(claims['video_view_count'].median(), 2)}\")"
   ]
  },
  {
   "cell_type": "code",
   "execution_count": 38,
   "metadata": {
    "colab": {
     "base_uri": "https://localhost:8080/"
    },
    "id": "FCRPxmpHCrQW",
    "outputId": "f07277be-4ca7-4e73-b6f1-4aaa6f4318c2"
   },
   "outputs": [
    {
     "name": "stdout",
     "output_type": "stream",
     "text": [
      "Mean view count opinions: 4956.43\n",
      "Median view count opinions: 4953.0\n"
     ]
    }
   ],
   "source": [
    "# What is the mean and median view count of videos with \"opinion\" status?\n",
    "opinions = df[df['claim_status'] == 'opinion']\n",
    "print(f\"Mean view count opinions: {round(opinions['video_view_count'].mean(), 2)}\")\n",
    "print(f\"Median view count opinions: {round(opinions['video_view_count'].median(), 2)}\")"
   ]
  },
  {
   "cell_type": "markdown",
   "metadata": {
    "id": "6zIf6L7cC9be"
   },
   "source": [
    "***Insights***\n",
    "- Used Boolean masking to filter the data according to claim status, then calculating the mean and median view counts for each claim status.\n",
    "- The mean and median values are relatively balanced per category; however, there is a more than 100-fold difference in mean/median view counts between the claims and opinions.\n",
    "\n",
    "<br>\n"
   ]
  },
  {
   "cell_type": "code",
   "execution_count": 39,
   "metadata": {
    "colab": {
     "base_uri": "https://localhost:8080/",
     "height": 237
    },
    "id": "Luu6W5b7DGtt",
    "outputId": "7fb03b53-fc7d-41ad-e338-a147d99a19b6"
   },
   "outputs": [
    {
     "data": {
      "text/html": [
       "<div>\n",
       "<style scoped>\n",
       "    .dataframe tbody tr th:only-of-type {\n",
       "        vertical-align: middle;\n",
       "    }\n",
       "\n",
       "    .dataframe tbody tr th {\n",
       "        vertical-align: top;\n",
       "    }\n",
       "\n",
       "    .dataframe thead th {\n",
       "        text-align: right;\n",
       "    }\n",
       "</style>\n",
       "<table border=\"1\" class=\"dataframe\">\n",
       "  <thead>\n",
       "    <tr style=\"text-align: right;\">\n",
       "      <th></th>\n",
       "      <th>claim_status</th>\n",
       "      <th>author_ban_status</th>\n",
       "      <th>counts</th>\n",
       "    </tr>\n",
       "  </thead>\n",
       "  <tbody>\n",
       "    <tr>\n",
       "      <th>0</th>\n",
       "      <td>claim</td>\n",
       "      <td>active</td>\n",
       "      <td>6566</td>\n",
       "    </tr>\n",
       "    <tr>\n",
       "      <th>1</th>\n",
       "      <td>claim</td>\n",
       "      <td>banned</td>\n",
       "      <td>1439</td>\n",
       "    </tr>\n",
       "    <tr>\n",
       "      <th>2</th>\n",
       "      <td>claim</td>\n",
       "      <td>under review</td>\n",
       "      <td>1603</td>\n",
       "    </tr>\n",
       "    <tr>\n",
       "      <th>3</th>\n",
       "      <td>opinion</td>\n",
       "      <td>active</td>\n",
       "      <td>8817</td>\n",
       "    </tr>\n",
       "    <tr>\n",
       "      <th>4</th>\n",
       "      <td>opinion</td>\n",
       "      <td>banned</td>\n",
       "      <td>196</td>\n",
       "    </tr>\n",
       "    <tr>\n",
       "      <th>5</th>\n",
       "      <td>opinion</td>\n",
       "      <td>under review</td>\n",
       "      <td>463</td>\n",
       "    </tr>\n",
       "  </tbody>\n",
       "</table>\n",
       "</div>"
      ],
      "text/plain": [
       "  claim_status author_ban_status  counts\n",
       "0        claim            active    6566\n",
       "1        claim            banned    1439\n",
       "2        claim      under review    1603\n",
       "3      opinion            active    8817\n",
       "4      opinion            banned     196\n",
       "5      opinion      under review     463"
      ]
     },
     "execution_count": 39,
     "metadata": {},
     "output_type": "execute_result"
    }
   ],
   "source": [
    "# Get counts for each group combination of claim status and author ban status\n",
    "df.groupby(['claim_status', 'author_ban_status']).size().reset_index(name='counts')"
   ]
  },
  {
   "cell_type": "code",
   "execution_count": 40,
   "metadata": {
    "colab": {
     "base_uri": "https://localhost:8080/",
     "height": 143
    },
    "id": "aOoMOb69DZon",
    "outputId": "548aaeed-3247-40c7-e691-a8b3393bebb5"
   },
   "outputs": [
    {
     "data": {
      "text/html": [
       "<div>\n",
       "<style scoped>\n",
       "    .dataframe tbody tr th:only-of-type {\n",
       "        vertical-align: middle;\n",
       "    }\n",
       "\n",
       "    .dataframe tbody tr th {\n",
       "        vertical-align: top;\n",
       "    }\n",
       "\n",
       "    .dataframe thead th {\n",
       "        text-align: right;\n",
       "    }\n",
       "</style>\n",
       "<table border=\"1\" class=\"dataframe\">\n",
       "  <thead>\n",
       "    <tr style=\"text-align: right;\">\n",
       "      <th></th>\n",
       "      <th>author_ban_status</th>\n",
       "      <th>counts</th>\n",
       "      <th>percentage</th>\n",
       "    </tr>\n",
       "  </thead>\n",
       "  <tbody>\n",
       "    <tr>\n",
       "      <th>0</th>\n",
       "      <td>active</td>\n",
       "      <td>6566</td>\n",
       "      <td>68.338884</td>\n",
       "    </tr>\n",
       "    <tr>\n",
       "      <th>1</th>\n",
       "      <td>banned</td>\n",
       "      <td>1439</td>\n",
       "      <td>14.977102</td>\n",
       "    </tr>\n",
       "    <tr>\n",
       "      <th>2</th>\n",
       "      <td>under review</td>\n",
       "      <td>1603</td>\n",
       "      <td>16.684013</td>\n",
       "    </tr>\n",
       "  </tbody>\n",
       "</table>\n",
       "</div>"
      ],
      "text/plain": [
       "  author_ban_status  counts  percentage\n",
       "0            active    6566   68.338884\n",
       "1            banned    1439   14.977102\n",
       "2      under review    1603   16.684013"
      ]
     },
     "execution_count": 40,
     "metadata": {},
     "output_type": "execute_result"
    }
   ],
   "source": [
    "# Group by 'claim_status' and 'author_ban_status', and calculate the counts\n",
    "claims_df = df[df['claim_status'] == 'claim'].groupby(['author_ban_status']).size().reset_index(name='counts')\n",
    "\n",
    "# Calculate and add the percentage column\n",
    "claims_df['percentage'] = (claims_df['counts'] / claims_df['counts'].sum()) * 100\n",
    "\n",
    "# Display the updated DataFrame\n",
    "claims_df"
   ]
  },
  {
   "cell_type": "code",
   "execution_count": 43,
   "metadata": {
    "colab": {
     "base_uri": "https://localhost:8080/",
     "height": 143
    },
    "id": "SMpApV6FE64O",
    "outputId": "adbbda09-4b6a-487d-e494-78c0453bd6f8"
   },
   "outputs": [
    {
     "data": {
      "text/html": [
       "<div>\n",
       "<style scoped>\n",
       "    .dataframe tbody tr th:only-of-type {\n",
       "        vertical-align: middle;\n",
       "    }\n",
       "\n",
       "    .dataframe tbody tr th {\n",
       "        vertical-align: top;\n",
       "    }\n",
       "\n",
       "    .dataframe thead th {\n",
       "        text-align: right;\n",
       "    }\n",
       "</style>\n",
       "<table border=\"1\" class=\"dataframe\">\n",
       "  <thead>\n",
       "    <tr style=\"text-align: right;\">\n",
       "      <th></th>\n",
       "      <th>author_ban_status</th>\n",
       "      <th>counts</th>\n",
       "      <th>percentage</th>\n",
       "    </tr>\n",
       "  </thead>\n",
       "  <tbody>\n",
       "    <tr>\n",
       "      <th>0</th>\n",
       "      <td>active</td>\n",
       "      <td>8817</td>\n",
       "      <td>93.045589</td>\n",
       "    </tr>\n",
       "    <tr>\n",
       "      <th>1</th>\n",
       "      <td>banned</td>\n",
       "      <td>196</td>\n",
       "      <td>2.068383</td>\n",
       "    </tr>\n",
       "    <tr>\n",
       "      <th>2</th>\n",
       "      <td>under review</td>\n",
       "      <td>463</td>\n",
       "      <td>4.886028</td>\n",
       "    </tr>\n",
       "  </tbody>\n",
       "</table>\n",
       "</div>"
      ],
      "text/plain": [
       "  author_ban_status  counts  percentage\n",
       "0            active    8817   93.045589\n",
       "1            banned     196    2.068383\n",
       "2      under review     463    4.886028"
      ]
     },
     "execution_count": 43,
     "metadata": {},
     "output_type": "execute_result"
    }
   ],
   "source": [
    "# Group by 'claim_status' and 'author_ban_status', and calculate the counts\n",
    "opinions_df = df[df['claim_status'] == 'opinion'].groupby(['author_ban_status']).size().reset_index(name='counts')\n",
    "\n",
    "# Calculate and add the percentage column\n",
    "opinions_df['percentage'] = (opinions_df['counts'] / opinions_df['counts'].sum()) * 100\n",
    "\n",
    "# Display the updated DataFrame\n",
    "opinions_df"
   ]
  },
  {
   "cell_type": "markdown",
   "metadata": {
    "id": "xWpGkxCTDHlE"
   },
   "source": [
    "***Insights***\n",
    "- Used `groupby()` to count the number of videos for each combination of claim status and author ban status.\n",
    "- Active authors are predominant in both claim statuses. However, there is a significant difference: those in the claim category have a much higher number of banned and under-review statuses compared to the opinion category. This suggests that moderation efforts might be more stringent for claims, indicating that claims are more likely to be flagged for review or result in author bans.\n",
    "\n",
    "<br>\n"
   ]
  },
  {
   "cell_type": "code",
   "execution_count": 45,
   "metadata": {
    "colab": {
     "base_uri": "https://localhost:8080/",
     "height": 143
    },
    "id": "V9eIkY8TENkK",
    "outputId": "d5c822e5-0a4f-4d03-8743-6c5405d77026"
   },
   "outputs": [
    {
     "data": {
      "text/html": [
       "<div>\n",
       "<style scoped>\n",
       "    .dataframe tbody tr th:only-of-type {\n",
       "        vertical-align: middle;\n",
       "    }\n",
       "\n",
       "    .dataframe tbody tr th {\n",
       "        vertical-align: top;\n",
       "    }\n",
       "\n",
       "    .dataframe thead th {\n",
       "        text-align: right;\n",
       "    }\n",
       "</style>\n",
       "<table border=\"1\" class=\"dataframe\">\n",
       "  <thead>\n",
       "    <tr style=\"text-align: right;\">\n",
       "      <th></th>\n",
       "      <th>author_ban_status</th>\n",
       "      <th>number_of_accounts</th>\n",
       "      <th>video_share_count_median</th>\n",
       "      <th>video_share_count_max</th>\n",
       "      <th>video_share_count_sum</th>\n",
       "      <th>percent_of_accounts</th>\n",
       "      <th>video_share_count_percent</th>\n",
       "    </tr>\n",
       "  </thead>\n",
       "  <tbody>\n",
       "    <tr>\n",
       "      <th>0</th>\n",
       "      <td>active</td>\n",
       "      <td>15663</td>\n",
       "      <td>437.0</td>\n",
       "      <td>256130.0</td>\n",
       "      <td>217076684.0</td>\n",
       "      <td>80.812094</td>\n",
       "      <td>67.969114</td>\n",
       "    </tr>\n",
       "    <tr>\n",
       "      <th>1</th>\n",
       "      <td>banned</td>\n",
       "      <td>1639</td>\n",
       "      <td>14468.0</td>\n",
       "      <td>249672.0</td>\n",
       "      <td>49048271.0</td>\n",
       "      <td>8.456300</td>\n",
       "      <td>15.357557</td>\n",
       "    </tr>\n",
       "    <tr>\n",
       "      <th>2</th>\n",
       "      <td>under review</td>\n",
       "      <td>2080</td>\n",
       "      <td>9444.0</td>\n",
       "      <td>238004.0</td>\n",
       "      <td>53250524.0</td>\n",
       "      <td>10.731607</td>\n",
       "      <td>16.673329</td>\n",
       "    </tr>\n",
       "  </tbody>\n",
       "</table>\n",
       "</div>"
      ],
      "text/plain": [
       "  author_ban_status  number_of_accounts  video_share_count_median  \\\n",
       "0            active               15663                     437.0   \n",
       "1            banned                1639                   14468.0   \n",
       "2      under review                2080                    9444.0   \n",
       "\n",
       "   video_share_count_max  video_share_count_sum  percent_of_accounts  \\\n",
       "0               256130.0            217076684.0            80.812094   \n",
       "1               249672.0             49048271.0             8.456300   \n",
       "2               238004.0             53250524.0            10.731607   \n",
       "\n",
       "   video_share_count_percent  \n",
       "0                  67.969114  \n",
       "1                  15.357557  \n",
       "2                  16.673329  "
      ]
     },
     "execution_count": 45,
     "metadata": {},
     "output_type": "execute_result"
    }
   ],
   "source": [
    "# Group by 'author_ban_status' and calculate median, max, and sum\n",
    "author_data = df.groupby('author_ban_status').agg(\n",
    "    number_of_accounts=('author_ban_status', 'size'),\n",
    "    video_share_count_median=('video_share_count', 'median'),\n",
    "    video_share_count_max=('video_share_count', 'max'),\n",
    "    video_share_count_sum=('video_share_count', 'sum')\n",
    ").reset_index()\n",
    "\n",
    "# Calculate the total number of accounts\n",
    "total_number_of_accounts = author_data['number_of_accounts'].sum()\n",
    "\n",
    "# Calculate the percentage of accounts for each 'author_ban_status'\n",
    "author_data['percent_of_accounts'] = (author_data['number_of_accounts'] / total_number_of_accounts) * 100\n",
    "\n",
    "# Calculate the total sum of 'video_share_count'\n",
    "total_video_share_count = df['video_share_count'].sum()\n",
    "\n",
    "# Calculate the percentage of each 'video_share_count'\n",
    "author_data['video_share_count_percent'] = (author_data['video_share_count_sum'] / total_video_share_count) * 100\n",
    "\n",
    "# Display the updated DataFrame\n",
    "author_data"
   ]
  },
  {
   "cell_type": "markdown",
   "metadata": {
    "id": "gLLZObEHEOQf"
   },
   "source": [
    "***Insights***\n",
    "- Banned and Under Review authors have significantly higher median video share counts than Active authors.\n",
    "- Active authors contribute the majority of total video shares, largely because they represent 80.81% of all accounts.\n",
    " - The total videos shared by author status shows the Active authors just over 217 million (67.96%) over 4x more than Banned and Under Review statuses at 49M (15.35%) and 53M (16.67%) respectively.\n",
    " - The distribution makes sense given the majority presence of active authors.\n",
    "\n",
    "<br>\n"
   ]
  },
  {
   "cell_type": "code",
   "execution_count": 46,
   "metadata": {
    "colab": {
     "base_uri": "https://localhost:8080/",
     "height": 206
    },
    "id": "fVlTvmO-Ebgc",
    "outputId": "424ada22-10a1-4434-fb02-207d04288b0b"
   },
   "outputs": [
    {
     "data": {
      "text/html": [
       "<div>\n",
       "<style scoped>\n",
       "    .dataframe tbody tr th:only-of-type {\n",
       "        vertical-align: middle;\n",
       "    }\n",
       "\n",
       "    .dataframe tbody tr th {\n",
       "        vertical-align: top;\n",
       "    }\n",
       "\n",
       "    .dataframe thead tr th {\n",
       "        text-align: left;\n",
       "    }\n",
       "\n",
       "    .dataframe thead tr:last-of-type th {\n",
       "        text-align: right;\n",
       "    }\n",
       "</style>\n",
       "<table border=\"1\" class=\"dataframe\">\n",
       "  <thead>\n",
       "    <tr>\n",
       "      <th></th>\n",
       "      <th colspan=\"3\" halign=\"left\">video_view_count</th>\n",
       "      <th colspan=\"3\" halign=\"left\">video_like_count</th>\n",
       "      <th colspan=\"3\" halign=\"left\">video_share_count</th>\n",
       "    </tr>\n",
       "    <tr>\n",
       "      <th></th>\n",
       "      <th>count</th>\n",
       "      <th>mean</th>\n",
       "      <th>median</th>\n",
       "      <th>count</th>\n",
       "      <th>mean</th>\n",
       "      <th>median</th>\n",
       "      <th>count</th>\n",
       "      <th>mean</th>\n",
       "      <th>median</th>\n",
       "    </tr>\n",
       "    <tr>\n",
       "      <th>author_ban_status</th>\n",
       "      <th></th>\n",
       "      <th></th>\n",
       "      <th></th>\n",
       "      <th></th>\n",
       "      <th></th>\n",
       "      <th></th>\n",
       "      <th></th>\n",
       "      <th></th>\n",
       "      <th></th>\n",
       "    </tr>\n",
       "  </thead>\n",
       "  <tbody>\n",
       "    <tr>\n",
       "      <th>active</th>\n",
       "      <td>15383</td>\n",
       "      <td>215927.039524</td>\n",
       "      <td>8616.0</td>\n",
       "      <td>15383</td>\n",
       "      <td>71036.533836</td>\n",
       "      <td>2222.0</td>\n",
       "      <td>15383</td>\n",
       "      <td>14111.466164</td>\n",
       "      <td>437.0</td>\n",
       "    </tr>\n",
       "    <tr>\n",
       "      <th>banned</th>\n",
       "      <td>1635</td>\n",
       "      <td>445845.439144</td>\n",
       "      <td>448201.0</td>\n",
       "      <td>1635</td>\n",
       "      <td>153017.236697</td>\n",
       "      <td>105573.0</td>\n",
       "      <td>1635</td>\n",
       "      <td>29998.942508</td>\n",
       "      <td>14468.0</td>\n",
       "    </tr>\n",
       "    <tr>\n",
       "      <th>under review</th>\n",
       "      <td>2066</td>\n",
       "      <td>392204.836399</td>\n",
       "      <td>365245.5</td>\n",
       "      <td>2066</td>\n",
       "      <td>128718.050339</td>\n",
       "      <td>71204.5</td>\n",
       "      <td>2066</td>\n",
       "      <td>25774.696999</td>\n",
       "      <td>9444.0</td>\n",
       "    </tr>\n",
       "  </tbody>\n",
       "</table>\n",
       "</div>"
      ],
      "text/plain": [
       "                  video_view_count                          video_like_count  \\\n",
       "                             count           mean    median            count   \n",
       "author_ban_status                                                              \n",
       "active                       15383  215927.039524    8616.0            15383   \n",
       "banned                        1635  445845.439144  448201.0             1635   \n",
       "under review                  2066  392204.836399  365245.5             2066   \n",
       "\n",
       "                                           video_share_count                \\\n",
       "                            mean    median             count          mean   \n",
       "author_ban_status                                                            \n",
       "active              71036.533836    2222.0             15383  14111.466164   \n",
       "banned             153017.236697  105573.0              1635  29998.942508   \n",
       "under review       128718.050339   71204.5              2066  25774.696999   \n",
       "\n",
       "                            \n",
       "                    median  \n",
       "author_ban_status           \n",
       "active               437.0  \n",
       "banned             14468.0  \n",
       "under review        9444.0  "
      ]
     },
     "execution_count": 46,
     "metadata": {},
     "output_type": "execute_result"
    }
   ],
   "source": [
    "# Calculate engagement statistics (count, mean, median) for video views, likes, and shares by author ban status\n",
    "engagement_stats = df.groupby('author_ban_status').agg({\n",
    "    'video_view_count': ['count', 'mean', 'median'],\n",
    "    'video_like_count': ['count', 'mean', 'median'],\n",
    "    'video_share_count': ['count','mean', 'median']\n",
    "})\n",
    "engagement_stats"
   ]
  },
  {
   "cell_type": "markdown",
   "metadata": {
    "id": "i7R3vKUhEb8_"
   },
   "source": [
    "***Insights***\n",
    "- Banned authors have high engagement, indicating their content garners significant attention.\n",
    "- Average video share counts are higher among banned authors (29,998) and those under review (25,774) compared to active authors (14,111), suggesting more frequent sharing due to potentially controversial content.\n",
    "- Despite being fewer in number (1,635 banned and 2,066 under review vs. 15,383 active), banned and under review authors have much higher average engagement metrics, indicating a potentially impactful minority.\n",
    "\n",
    "<br>\n",
    "\n",
    "Create three new columns to help better understand engagement rates:\n",
    "- `likes_per_view`: represents the number of likes divided by the number of views for each video\n",
    "- `comments_per_view`: represents the number of comments divided by the number of views for each video\n",
    "- `shares_per_view`: represents the number of shares divided by the number of views for each video"
   ]
  },
  {
   "cell_type": "code",
   "execution_count": 49,
   "metadata": {
    "colab": {
     "base_uri": "https://localhost:8080/",
     "height": 313
    },
    "id": "eyymCn6oFDP3",
    "outputId": "739cff75-fa00-4108-f6cf-fa38708196fc"
   },
   "outputs": [
    {
     "data": {
      "text/html": [
       "<div>\n",
       "<style scoped>\n",
       "    .dataframe tbody tr th:only-of-type {\n",
       "        vertical-align: middle;\n",
       "    }\n",
       "\n",
       "    .dataframe tbody tr th {\n",
       "        vertical-align: top;\n",
       "    }\n",
       "\n",
       "    .dataframe thead th {\n",
       "        text-align: right;\n",
       "    }\n",
       "</style>\n",
       "<table border=\"1\" class=\"dataframe\">\n",
       "  <thead>\n",
       "    <tr style=\"text-align: right;\">\n",
       "      <th></th>\n",
       "      <th>#</th>\n",
       "      <th>claim_status</th>\n",
       "      <th>video_id</th>\n",
       "      <th>video_duration_sec</th>\n",
       "      <th>video_transcription_text</th>\n",
       "      <th>verified_status</th>\n",
       "      <th>author_ban_status</th>\n",
       "      <th>video_view_count</th>\n",
       "      <th>video_like_count</th>\n",
       "      <th>video_share_count</th>\n",
       "      <th>video_download_count</th>\n",
       "      <th>video_comment_count</th>\n",
       "      <th>likes_per_view</th>\n",
       "      <th>comments_per_view</th>\n",
       "      <th>shares_per_view</th>\n",
       "    </tr>\n",
       "  </thead>\n",
       "  <tbody>\n",
       "    <tr>\n",
       "      <th>0</th>\n",
       "      <td>1</td>\n",
       "      <td>claim</td>\n",
       "      <td>7017666017</td>\n",
       "      <td>59</td>\n",
       "      <td>someone shared with me that drone deliveries a...</td>\n",
       "      <td>not verified</td>\n",
       "      <td>under review</td>\n",
       "      <td>343296.0</td>\n",
       "      <td>19425.0</td>\n",
       "      <td>241.0</td>\n",
       "      <td>1.0</td>\n",
       "      <td>0.0</td>\n",
       "      <td>0.056584</td>\n",
       "      <td>0.000000</td>\n",
       "      <td>0.000702</td>\n",
       "    </tr>\n",
       "    <tr>\n",
       "      <th>1</th>\n",
       "      <td>2</td>\n",
       "      <td>claim</td>\n",
       "      <td>4014381136</td>\n",
       "      <td>32</td>\n",
       "      <td>someone shared with me that there are more mic...</td>\n",
       "      <td>not verified</td>\n",
       "      <td>active</td>\n",
       "      <td>140877.0</td>\n",
       "      <td>77355.0</td>\n",
       "      <td>19034.0</td>\n",
       "      <td>1161.0</td>\n",
       "      <td>684.0</td>\n",
       "      <td>0.549096</td>\n",
       "      <td>0.004855</td>\n",
       "      <td>0.135111</td>\n",
       "    </tr>\n",
       "    <tr>\n",
       "      <th>2</th>\n",
       "      <td>3</td>\n",
       "      <td>claim</td>\n",
       "      <td>9859838091</td>\n",
       "      <td>31</td>\n",
       "      <td>someone shared with me that american industria...</td>\n",
       "      <td>not verified</td>\n",
       "      <td>active</td>\n",
       "      <td>902185.0</td>\n",
       "      <td>97690.0</td>\n",
       "      <td>2858.0</td>\n",
       "      <td>833.0</td>\n",
       "      <td>329.0</td>\n",
       "      <td>0.108282</td>\n",
       "      <td>0.000365</td>\n",
       "      <td>0.003168</td>\n",
       "    </tr>\n",
       "    <tr>\n",
       "      <th>3</th>\n",
       "      <td>4</td>\n",
       "      <td>claim</td>\n",
       "      <td>1866847991</td>\n",
       "      <td>25</td>\n",
       "      <td>someone shared with me that the metro of st. p...</td>\n",
       "      <td>not verified</td>\n",
       "      <td>active</td>\n",
       "      <td>437506.0</td>\n",
       "      <td>239954.0</td>\n",
       "      <td>34812.0</td>\n",
       "      <td>1234.0</td>\n",
       "      <td>584.0</td>\n",
       "      <td>0.548459</td>\n",
       "      <td>0.001335</td>\n",
       "      <td>0.079569</td>\n",
       "    </tr>\n",
       "    <tr>\n",
       "      <th>4</th>\n",
       "      <td>5</td>\n",
       "      <td>claim</td>\n",
       "      <td>7105231098</td>\n",
       "      <td>19</td>\n",
       "      <td>someone shared with me that the number of busi...</td>\n",
       "      <td>not verified</td>\n",
       "      <td>active</td>\n",
       "      <td>56167.0</td>\n",
       "      <td>34987.0</td>\n",
       "      <td>4110.0</td>\n",
       "      <td>547.0</td>\n",
       "      <td>152.0</td>\n",
       "      <td>0.622910</td>\n",
       "      <td>0.002706</td>\n",
       "      <td>0.073175</td>\n",
       "    </tr>\n",
       "  </tbody>\n",
       "</table>\n",
       "</div>"
      ],
      "text/plain": [
       "   # claim_status    video_id  video_duration_sec  \\\n",
       "0  1        claim  7017666017                  59   \n",
       "1  2        claim  4014381136                  32   \n",
       "2  3        claim  9859838091                  31   \n",
       "3  4        claim  1866847991                  25   \n",
       "4  5        claim  7105231098                  19   \n",
       "\n",
       "                            video_transcription_text verified_status  \\\n",
       "0  someone shared with me that drone deliveries a...    not verified   \n",
       "1  someone shared with me that there are more mic...    not verified   \n",
       "2  someone shared with me that american industria...    not verified   \n",
       "3  someone shared with me that the metro of st. p...    not verified   \n",
       "4  someone shared with me that the number of busi...    not verified   \n",
       "\n",
       "  author_ban_status  video_view_count  video_like_count  video_share_count  \\\n",
       "0      under review          343296.0           19425.0              241.0   \n",
       "1            active          140877.0           77355.0            19034.0   \n",
       "2            active          902185.0           97690.0             2858.0   \n",
       "3            active          437506.0          239954.0            34812.0   \n",
       "4            active           56167.0           34987.0             4110.0   \n",
       "\n",
       "   video_download_count  video_comment_count  likes_per_view  \\\n",
       "0                   1.0                  0.0        0.056584   \n",
       "1                1161.0                684.0        0.549096   \n",
       "2                 833.0                329.0        0.108282   \n",
       "3                1234.0                584.0        0.548459   \n",
       "4                 547.0                152.0        0.622910   \n",
       "\n",
       "   comments_per_view  shares_per_view  \n",
       "0           0.000000         0.000702  \n",
       "1           0.004855         0.135111  \n",
       "2           0.000365         0.003168  \n",
       "3           0.001335         0.079569  \n",
       "4           0.002706         0.073175  "
      ]
     },
     "execution_count": 49,
     "metadata": {},
     "output_type": "execute_result"
    }
   ],
   "source": [
    "# Create a likes_per_view column\n",
    "df['likes_per_view'] = df['video_like_count'] / df['video_view_count']\n",
    "\n",
    "# Create a comments_per_view column\n",
    "df['comments_per_view'] = df['video_comment_count'] / df['video_view_count']\n",
    "\n",
    "# Create a shares_per_view column\n",
    "df['shares_per_view'] = df['video_share_count'] / df['video_view_count']\n",
    "\n",
    "df.head()"
   ]
  },
  {
   "cell_type": "code",
   "execution_count": 50,
   "metadata": {
    "colab": {
     "base_uri": "https://localhost:8080/",
     "height": 300
    },
    "id": "WZoK3_-bFPW2",
    "outputId": "2932fb51-2c14-429f-b733-56091d54f1da"
   },
   "outputs": [
    {
     "data": {
      "text/html": [
       "<div>\n",
       "<style scoped>\n",
       "    .dataframe tbody tr th:only-of-type {\n",
       "        vertical-align: middle;\n",
       "    }\n",
       "\n",
       "    .dataframe tbody tr th {\n",
       "        vertical-align: top;\n",
       "    }\n",
       "\n",
       "    .dataframe thead tr th {\n",
       "        text-align: left;\n",
       "    }\n",
       "\n",
       "    .dataframe thead tr:last-of-type th {\n",
       "        text-align: right;\n",
       "    }\n",
       "</style>\n",
       "<table border=\"1\" class=\"dataframe\">\n",
       "  <thead>\n",
       "    <tr>\n",
       "      <th></th>\n",
       "      <th></th>\n",
       "      <th>video_view_count</th>\n",
       "      <th colspan=\"3\" halign=\"left\">likes_per_view</th>\n",
       "      <th colspan=\"3\" halign=\"left\">comments_per_view</th>\n",
       "      <th colspan=\"3\" halign=\"left\">shares_per_view</th>\n",
       "    </tr>\n",
       "    <tr>\n",
       "      <th></th>\n",
       "      <th></th>\n",
       "      <th>median</th>\n",
       "      <th>count</th>\n",
       "      <th>mean</th>\n",
       "      <th>median</th>\n",
       "      <th>count</th>\n",
       "      <th>mean</th>\n",
       "      <th>median</th>\n",
       "      <th>count</th>\n",
       "      <th>mean</th>\n",
       "      <th>median</th>\n",
       "    </tr>\n",
       "    <tr>\n",
       "      <th>claim_status</th>\n",
       "      <th>author_ban_status</th>\n",
       "      <th></th>\n",
       "      <th></th>\n",
       "      <th></th>\n",
       "      <th></th>\n",
       "      <th></th>\n",
       "      <th></th>\n",
       "      <th></th>\n",
       "      <th></th>\n",
       "      <th></th>\n",
       "      <th></th>\n",
       "    </tr>\n",
       "  </thead>\n",
       "  <tbody>\n",
       "    <tr>\n",
       "      <th rowspan=\"3\" valign=\"top\">claim</th>\n",
       "      <th>active</th>\n",
       "      <td>499500.5</td>\n",
       "      <td>6566</td>\n",
       "      <td>0.329542</td>\n",
       "      <td>0.326538</td>\n",
       "      <td>6566</td>\n",
       "      <td>0.001393</td>\n",
       "      <td>0.000776</td>\n",
       "      <td>6566</td>\n",
       "      <td>0.065456</td>\n",
       "      <td>0.049279</td>\n",
       "    </tr>\n",
       "    <tr>\n",
       "      <th>banned</th>\n",
       "      <td>512572.0</td>\n",
       "      <td>1439</td>\n",
       "      <td>0.345071</td>\n",
       "      <td>0.358909</td>\n",
       "      <td>1439</td>\n",
       "      <td>0.001377</td>\n",
       "      <td>0.000746</td>\n",
       "      <td>1439</td>\n",
       "      <td>0.067893</td>\n",
       "      <td>0.051606</td>\n",
       "    </tr>\n",
       "    <tr>\n",
       "      <th>under review</th>\n",
       "      <td>500774.0</td>\n",
       "      <td>1603</td>\n",
       "      <td>0.327997</td>\n",
       "      <td>0.320867</td>\n",
       "      <td>1603</td>\n",
       "      <td>0.001367</td>\n",
       "      <td>0.000789</td>\n",
       "      <td>1603</td>\n",
       "      <td>0.065733</td>\n",
       "      <td>0.049967</td>\n",
       "    </tr>\n",
       "    <tr>\n",
       "      <th rowspan=\"3\" valign=\"top\">opinion</th>\n",
       "      <th>active</th>\n",
       "      <td>4958.0</td>\n",
       "      <td>8817</td>\n",
       "      <td>0.219744</td>\n",
       "      <td>0.218330</td>\n",
       "      <td>8817</td>\n",
       "      <td>0.000517</td>\n",
       "      <td>0.000252</td>\n",
       "      <td>8817</td>\n",
       "      <td>0.043729</td>\n",
       "      <td>0.032405</td>\n",
       "    </tr>\n",
       "    <tr>\n",
       "      <th>banned</th>\n",
       "      <td>5083.5</td>\n",
       "      <td>196</td>\n",
       "      <td>0.206868</td>\n",
       "      <td>0.198483</td>\n",
       "      <td>196</td>\n",
       "      <td>0.000434</td>\n",
       "      <td>0.000193</td>\n",
       "      <td>196</td>\n",
       "      <td>0.040531</td>\n",
       "      <td>0.030728</td>\n",
       "    </tr>\n",
       "    <tr>\n",
       "      <th>under review</th>\n",
       "      <td>4884.0</td>\n",
       "      <td>463</td>\n",
       "      <td>0.226394</td>\n",
       "      <td>0.228051</td>\n",
       "      <td>463</td>\n",
       "      <td>0.000536</td>\n",
       "      <td>0.000293</td>\n",
       "      <td>463</td>\n",
       "      <td>0.044472</td>\n",
       "      <td>0.035027</td>\n",
       "    </tr>\n",
       "  </tbody>\n",
       "</table>\n",
       "</div>"
      ],
      "text/plain": [
       "                               video_view_count likes_per_view            \\\n",
       "                                         median          count      mean   \n",
       "claim_status author_ban_status                                             \n",
       "claim        active                    499500.5           6566  0.329542   \n",
       "             banned                    512572.0           1439  0.345071   \n",
       "             under review              500774.0           1603  0.327997   \n",
       "opinion      active                      4958.0           8817  0.219744   \n",
       "             banned                      5083.5            196  0.206868   \n",
       "             under review                4884.0            463  0.226394   \n",
       "\n",
       "                                         comments_per_view            \\\n",
       "                                  median             count      mean   \n",
       "claim_status author_ban_status                                         \n",
       "claim        active             0.326538              6566  0.001393   \n",
       "             banned             0.358909              1439  0.001377   \n",
       "             under review       0.320867              1603  0.001367   \n",
       "opinion      active             0.218330              8817  0.000517   \n",
       "             banned             0.198483               196  0.000434   \n",
       "             under review       0.228051               463  0.000536   \n",
       "\n",
       "                                         shares_per_view                      \n",
       "                                  median           count      mean    median  \n",
       "claim_status author_ban_status                                                \n",
       "claim        active             0.000776            6566  0.065456  0.049279  \n",
       "             banned             0.000746            1439  0.067893  0.051606  \n",
       "             under review       0.000789            1603  0.065733  0.049967  \n",
       "opinion      active             0.000252            8817  0.043729  0.032405  \n",
       "             banned             0.000193             196  0.040531  0.030728  \n",
       "             under review       0.000293             463  0.044472  0.035027  "
      ]
     },
     "execution_count": 50,
     "metadata": {},
     "output_type": "execute_result"
    }
   ],
   "source": [
    "# Calculate engagement stats (count, mean, median) for newly created columns\n",
    "df.groupby(['claim_status', 'author_ban_status']).agg({\n",
    "    'video_view_count': ['median'],\n",
    "    'likes_per_view': ['count', 'mean', 'median'],\n",
    "    'comments_per_view': ['count', 'mean', 'median'],\n",
    "    'shares_per_view': ['count', 'mean', 'median']\n",
    "})"
   ]
  },
  {
   "cell_type": "markdown",
   "metadata": {
    "id": "RLhoV4xDFp_o"
   },
   "source": [
    "***Insights***\n",
    "\n",
    "Impact of Content Type on Engagement:\n",
    "\n",
    "- Claim videos consistently show higher median view counts, likes per view, comments per view, and shares per view compared to opinion videos across all author ban statuses. This suggests that the type of content (claim vs. opinion) has a significant impact on engagement and attracts more interactions from viewers.\n",
    "\n",
    "Engagement Metrics for Claim Videos:\n",
    "- Banned claim videos have the highest median likes per view and shares per view, but have less comments per view compared to active and under review claim videos.\n",
    "- Under review claim videos also show high engagement, though slightly lower than banned claim videos.\n",
    "- Active claim videos have the highest comments per view rate, indicating active discussions and engagement.\n",
    "\n",
    "Engagement Metrics for Opinion Videos:\n",
    "- Among opinion videos, under review videos have the highest comments per view rate, while active videos have higher likes per view.\n",
    "\n",
    "Summary:\n",
    "- Claim videos are generally more engaging in terms of likes, comments, and shares, especially for banned authors. This suggests that claim videos, particularly from banned authors, tend to attract more attention.\n",
    "- For opinion videos, active and under review authors perform better in terms of engagement rates compared to banned authors.\n",
    "\n",
    "<br>\n"
   ]
  },
  {
   "cell_type": "markdown",
   "metadata": {
    "id": "HPVfDMum_xYl"
   },
   "source": [
    "### **Summarize Findings for Rosie Mae Bradshaw and the TikTok data team**\n",
    "\n",
    "Percentage of Claims and Opinions:\n",
    "- Claims: 49.6% (9608 videos)\n",
    "- Opinions: 48.9% (9476 videos)\n",
    "- Missing entries: 1.5% (298 entries out of 19,382 total)\n",
    "\n",
    "Core Insight: Factors Correlating with a Video's Claim Status:\n",
    "- Claim videos are more likely to be flagged for review or result in author bans, with banned authors having higher engagement metrics (likes, comments, shares).\n",
    "\n",
    "Core Insight: Factors Correlating with a Video's Engagement Level:\n",
    "- Videos from banned and under-review authors have significantly higher engagement (views, likes, shares) compared to active authors, indicating that controversial content garners more attention."
   ]
  },
  {
   "cell_type": "markdown",
   "metadata": {
    "id": "Vlz5B1m-2Z8J"
   },
   "source": [
    "### **Additional Graphs for Reference**"
   ]
  },
  {
   "cell_type": "code",
   "execution_count": 55,
   "metadata": {
    "colab": {
     "base_uri": "https://localhost:8080/",
     "height": 1000
    },
    "id": "X0wGpkV-zMIH",
    "outputId": "790dc858-29b5-414a-cb37-c81f3e69fac4"
   },
   "outputs": [
    {
     "data": {
      "image/png": "[encoded data removed]",
      "text/plain": [
       "<Figure size 750x450 with 2 Axes>"
      ]
     },
     "metadata": {},
     "output_type": "display_data"
    },
    {
     "data": {
      "image/png": "[encoded data removed]",
      "text/plain": [
       "<Figure size 750x450 with 2 Axes>"
      ]
     },
     "metadata": {},
     "output_type": "display_data"
    },
    {
     "data": {
      "image/png": "[encoded data removed]",
      "text/plain": [
       "<Figure size 750x450 with 2 Axes>"
      ]
     },
     "metadata": {},
     "output_type": "display_data"
    }
   ],
   "source": [
    "from matplotlib.colors import LinearSegmentedColormap\n",
    "\n",
    "# Group the data and calculate the required statistics\n",
    "grouped_data = df.groupby(['claim_status', 'author_ban_status']).agg({\n",
    "    'likes_per_view': ['mean'],\n",
    "    'comments_per_view': ['mean'],\n",
    "    'shares_per_view': ['mean']\n",
    "}).reset_index()\n",
    "\n",
    "# Flatten the MultiIndex columns\n",
    "grouped_data.columns = ['_'.join(col).strip() for col in grouped_data.columns.values]\n",
    "grouped_data.rename(columns={'claim_status_': 'claim_status', 'author_ban_status_': 'author_ban_status'}, inplace=True)\n",
    "\n",
    "# Create a custom colormap\n",
    "colors = ['#20c4cb', '#1c1c1c']\n",
    "cmap = LinearSegmentedColormap.from_list('custom_cmap', colors)\n",
    "\n",
    "# Adjusted figsize\n",
    "figsize_heatmap = (7.5, 4.5)\n",
    "\n",
    "# Pivot the data for heatmaps\n",
    "pivot_likes = grouped_data.pivot(index='claim_status', columns='author_ban_status', values='likes_per_view_mean')\n",
    "pivot_comments = grouped_data.pivot(index='claim_status', columns='author_ban_status', values='comments_per_view_mean')\n",
    "pivot_shares = grouped_data.pivot(index='claim_status', columns='author_ban_status', values='shares_per_view_mean')\n",
    "\n",
    "# Create a heatmap for likes_per_view mean\n",
    "plt.figure(figsize=figsize_heatmap)\n",
    "sns.heatmap(pivot_likes, annot=True, fmt=\".3f\", cmap=cmap)\n",
    "plt.title('Likes per View Mean Heatmap')\n",
    "plt.show()\n",
    "\n",
    "# Create a heatmap for comments_per_view mean\n",
    "plt.figure(figsize=figsize_heatmap)\n",
    "sns.heatmap(pivot_comments, annot=True, fmt=\".6f\", cmap=cmap)\n",
    "plt.title('Comments per View Mean Heatmap')\n",
    "plt.show()\n",
    "\n",
    "# Create a heatmap for shares_per_view mean\n",
    "plt.figure(figsize=figsize_heatmap)\n",
    "sns.heatmap(pivot_shares, annot=True, fmt=\".3f\", cmap=cmap)\n",
    "plt.title('Shares per View Mean Heatmap')\n",
    "plt.show()"
   ]
  },
  {
   "cell_type": "code",
   "execution_count": 58,
   "metadata": {
    "colab": {
     "base_uri": "https://localhost:8080/",
     "height": 457
    },
    "id": "qDZzEqRm2bxJ",
    "outputId": "6dc53da1-a5d0-45a3-c21e-243ec6bb2ff0"
   },
   "outputs": [
    {
     "data": {
      "image/png": "[encoded data removed]",
      "text/plain": [
       "<Figure size 750x450 with 1 Axes>"
      ]
     },
     "metadata": {},
     "output_type": "display_data"
    }
   ],
   "source": [
    "# Create a crosstab to get counts for each claim_status and author_ban_status combination\n",
    "pivot_df = pd.crosstab(index=df['author_ban_status'], columns=df['claim_status'])\n",
    "\n",
    "# Define custom colors\n",
    "colors = ['#20c4cb', '#d42646', '#1c1c1c']\n",
    "\n",
    "# Plot the bar chart\n",
    "ax = pivot_df.plot(kind='bar', figsize=(7.5, 4.5), rot=0, color=colors)\n",
    "\n",
    "# Set the title and labels\n",
    "plt.title('Claims vs Opinions by Author Ban Status')\n",
    "plt.xlabel('Author Ban Status')\n",
    "plt.ylabel('Counts')\n",
    "plt.legend(title='Claim Status')\n",
    "plt.tight_layout()\n",
    "\n",
    "# Show the plot\n",
    "plt.show()"
   ]
  },
  {
   "cell_type": "code",
   "execution_count": 59,
   "metadata": {
    "colab": {
     "base_uri": "https://localhost:8080/",
     "height": 636
    },
    "id": "gfSWOzT22VCR",
    "outputId": "47037a7c-d217-42a1-87f9-9c9378c1b115"
   },
   "outputs": [
    {
     "data": {
      "image/png": "[encoded data removed]",
      "text/plain": [
       "<Figure size 750x750 with 1 Axes>"
      ]
     },
     "metadata": {},
     "output_type": "display_data"
    }
   ],
   "source": [
    "# Create a series with counts for each claim_status\n",
    "claim_counts = df['claim_status'].value_counts()\n",
    "\n",
    "# Colors for the two claim statuses\n",
    "colors = ['#d42646', '#20c4cb']\n",
    "\n",
    "# Create the pie chart\n",
    "plt.figure(figsize=(7.5, 7.5))\n",
    "\n",
    "# Plot the pie chart with the specified colors\n",
    "plt.pie(claim_counts, labels=claim_counts.index, autopct='%1.1f%%', startangle=90, colors=colors)\n",
    "\n",
    "# Set the title and labels\n",
    "plt.title('Claims vs Opinions')\n",
    "plt.axis('equal') # Equal aspect ratio ensures that pie is drawn as a circle.\n",
    "plt.ylabel('') # Remove y-axis label\n",
    "\n",
    "# Show the plot\n",
    "plt.show()"
   ]
  },
  {
   "cell_type": "code",
   "execution_count": 63,
   "metadata": {
    "colab": {
     "base_uri": "https://localhost:8080/",
     "height": 444
    },
    "id": "o8uzyzY46TE8",
    "outputId": "884d5e86-eacd-40d7-bb1b-c0ecb88b33c9"
   },
   "outputs": [
    {
     "data": {
      "image/png": "[encoded data removed]",
      "text/plain": [
       "<Figure size 750x750 with 1 Axes>"
      ]
     },
     "metadata": {},
     "output_type": "display_data"
    }
   ],
   "source": [
    "claims_percentages = claims_df['percentage'].values\n",
    "opinions_percentages = opinions_df['percentage'].values\n",
    "\n",
    "# Sample data for the stacked bar chart\n",
    "sample_data = pd.DataFrame({\n",
    "    'status': ['active', 'banned', 'under review'],\n",
    "    'claims': claims_percentages,\n",
    "    'opinions': opinions_percentages\n",
    "})\n",
    "\n",
    "# Stacked Bar Chart for Core Insight on Claim Status\n",
    "plt.figure(figsize=(7.5, 7.5))\n",
    "plt.subplot(2, 2, 2)\n",
    "sample_data.set_index('status').T.plot(kind='bar', stacked=True, color=['#69C9D0', '#EE1D52', '#010101'], ax=plt.gca())\n",
    "plt.title(\"Distribution of Claim Status\")\n",
    "plt.xlabel(\"Claim Status\")\n",
    "plt.ylabel(\"Proportion\")\n",
    "plt.legend([\"Active\", \"Banned\", \"Under Review\"], loc='center left', bbox_to_anchor=(1, 0.5))\n",
    "\n",
    "# Show the plot\n",
    "plt.show()"
   ]
  },
  {
   "cell_type": "markdown",
   "metadata": {},
   "source": [
    "\n",
    "<br>\n",
    "\n",
    "### **Additional Tables for Reference**"
   ]
  },
  {
   "cell_type": "code",
   "execution_count": 64,
   "metadata": {
    "colab": {
     "base_uri": "https://localhost:8080/",
     "height": 237
    },
    "id": "XIK_N8GuQZpX",
    "outputId": "1800c555-5a33-4a7f-d88c-754312e53ef1"
   },
   "outputs": [
    {
     "data": {
      "text/html": [
       "<div>\n",
       "<style scoped>\n",
       "    .dataframe tbody tr th:only-of-type {\n",
       "        vertical-align: middle;\n",
       "    }\n",
       "\n",
       "    .dataframe tbody tr th {\n",
       "        vertical-align: top;\n",
       "    }\n",
       "\n",
       "    .dataframe thead th {\n",
       "        text-align: right;\n",
       "    }\n",
       "</style>\n",
       "<table border=\"1\" class=\"dataframe\">\n",
       "  <thead>\n",
       "    <tr style=\"text-align: right;\">\n",
       "      <th></th>\n",
       "      <th>claim_status</th>\n",
       "      <th>author_ban_status</th>\n",
       "      <th>counts</th>\n",
       "      <th>percentage</th>\n",
       "    </tr>\n",
       "  </thead>\n",
       "  <tbody>\n",
       "    <tr>\n",
       "      <th>0</th>\n",
       "      <td>claim</td>\n",
       "      <td>active</td>\n",
       "      <td>6566</td>\n",
       "      <td>68.338884</td>\n",
       "    </tr>\n",
       "    <tr>\n",
       "      <th>1</th>\n",
       "      <td>claim</td>\n",
       "      <td>banned</td>\n",
       "      <td>1439</td>\n",
       "      <td>14.977102</td>\n",
       "    </tr>\n",
       "    <tr>\n",
       "      <th>2</th>\n",
       "      <td>claim</td>\n",
       "      <td>under review</td>\n",
       "      <td>1603</td>\n",
       "      <td>16.684013</td>\n",
       "    </tr>\n",
       "    <tr>\n",
       "      <th>3</th>\n",
       "      <td>opinion</td>\n",
       "      <td>active</td>\n",
       "      <td>8817</td>\n",
       "      <td>93.045589</td>\n",
       "    </tr>\n",
       "    <tr>\n",
       "      <th>4</th>\n",
       "      <td>opinion</td>\n",
       "      <td>banned</td>\n",
       "      <td>196</td>\n",
       "      <td>2.068383</td>\n",
       "    </tr>\n",
       "    <tr>\n",
       "      <th>5</th>\n",
       "      <td>opinion</td>\n",
       "      <td>under review</td>\n",
       "      <td>463</td>\n",
       "      <td>4.886028</td>\n",
       "    </tr>\n",
       "  </tbody>\n",
       "</table>\n",
       "</div>"
      ],
      "text/plain": [
       "  claim_status author_ban_status  counts  percentage\n",
       "0        claim            active    6566   68.338884\n",
       "1        claim            banned    1439   14.977102\n",
       "2        claim      under review    1603   16.684013\n",
       "3      opinion            active    8817   93.045589\n",
       "4      opinion            banned     196    2.068383\n",
       "5      opinion      under review     463    4.886028"
      ]
     },
     "execution_count": 64,
     "metadata": {},
     "output_type": "execute_result"
    }
   ],
   "source": [
    "# Get counts for each group combination of claim status and author ban status\n",
    "percentage_counts = df.groupby(['claim_status', 'author_ban_status']).size().reset_index(name='counts')\n",
    "\n",
    "# Calculate the percentage for each group combination\n",
    "percentage_counts['percentage'] = percentage_counts['counts'] / percentage_counts.groupby('claim_status')['counts'].transform('sum') * 100\n",
    "\n",
    "percentage_counts"
   ]
  },
  {
   "cell_type": "code",
   "execution_count": 65,
   "metadata": {
    "colab": {
     "base_uri": "https://localhost:8080/",
     "height": 143
    },
    "id": "BjzJSDI2dQmO",
    "outputId": "9c779172-f396-4922-b3ae-31841ed65514"
   },
   "outputs": [
    {
     "data": {
      "text/html": [
       "<div>\n",
       "<style scoped>\n",
       "    .dataframe tbody tr th:only-of-type {\n",
       "        vertical-align: middle;\n",
       "    }\n",
       "\n",
       "    .dataframe tbody tr th {\n",
       "        vertical-align: top;\n",
       "    }\n",
       "\n",
       "    .dataframe thead tr th {\n",
       "        text-align: left;\n",
       "    }\n",
       "</style>\n",
       "<table border=\"1\" class=\"dataframe\">\n",
       "  <thead>\n",
       "    <tr>\n",
       "      <th></th>\n",
       "      <th>claim_status</th>\n",
       "      <th>likes_per_view</th>\n",
       "      <th>comments_per_view</th>\n",
       "      <th>shares_per_view</th>\n",
       "    </tr>\n",
       "    <tr>\n",
       "      <th></th>\n",
       "      <th></th>\n",
       "      <th>mean</th>\n",
       "      <th>mean</th>\n",
       "      <th>mean</th>\n",
       "    </tr>\n",
       "  </thead>\n",
       "  <tbody>\n",
       "    <tr>\n",
       "      <th>0</th>\n",
       "      <td>claim</td>\n",
       "      <td>0.331610</td>\n",
       "      <td>0.001386</td>\n",
       "      <td>0.065867</td>\n",
       "    </tr>\n",
       "    <tr>\n",
       "      <th>1</th>\n",
       "      <td>opinion</td>\n",
       "      <td>0.219802</td>\n",
       "      <td>0.000516</td>\n",
       "      <td>0.043699</td>\n",
       "    </tr>\n",
       "  </tbody>\n",
       "</table>\n",
       "</div>"
      ],
      "text/plain": [
       "  claim_status likes_per_view comments_per_view shares_per_view\n",
       "                         mean              mean            mean\n",
       "0        claim       0.331610          0.001386        0.065867\n",
       "1      opinion       0.219802          0.000516        0.043699"
      ]
     },
     "execution_count": 65,
     "metadata": {},
     "output_type": "execute_result"
    }
   ],
   "source": [
    "engagement_metrics = df.groupby(['claim_status']).agg({\n",
    "    'likes_per_view': ['mean'],\n",
    "    'comments_per_view': ['mean'],\n",
    "    'shares_per_view': ['mean']\n",
    "}).reset_index()\n",
    "\n",
    "engagement_metrics"
   ]
  },
  {
   "cell_type": "code",
   "execution_count": 66,
   "metadata": {
    "colab": {
     "base_uri": "https://localhost:8080/",
     "height": 237
    },
    "id": "jwcsYKRKM1DR",
    "outputId": "30f2c299-50a6-457c-a8dc-717e51683e3b"
   },
   "outputs": [
    {
     "data": {
      "text/html": [
       "<div>\n",
       "<style scoped>\n",
       "    .dataframe tbody tr th:only-of-type {\n",
       "        vertical-align: middle;\n",
       "    }\n",
       "\n",
       "    .dataframe tbody tr th {\n",
       "        vertical-align: top;\n",
       "    }\n",
       "\n",
       "    .dataframe thead th {\n",
       "        text-align: right;\n",
       "    }\n",
       "</style>\n",
       "<table border=\"1\" class=\"dataframe\">\n",
       "  <thead>\n",
       "    <tr style=\"text-align: right;\">\n",
       "      <th></th>\n",
       "      <th>claim_status</th>\n",
       "      <th>author_ban_status</th>\n",
       "      <th>counts</th>\n",
       "      <th>percentage</th>\n",
       "      <th>average_video_duration_sec</th>\n",
       "    </tr>\n",
       "  </thead>\n",
       "  <tbody>\n",
       "    <tr>\n",
       "      <th>0</th>\n",
       "      <td>claim</td>\n",
       "      <td>active</td>\n",
       "      <td>6566</td>\n",
       "      <td>68.338884</td>\n",
       "      <td>32.633567</td>\n",
       "    </tr>\n",
       "    <tr>\n",
       "      <th>1</th>\n",
       "      <td>claim</td>\n",
       "      <td>banned</td>\n",
       "      <td>1439</td>\n",
       "      <td>14.977102</td>\n",
       "      <td>32.370396</td>\n",
       "    </tr>\n",
       "    <tr>\n",
       "      <th>2</th>\n",
       "      <td>claim</td>\n",
       "      <td>under review</td>\n",
       "      <td>1603</td>\n",
       "      <td>16.684013</td>\n",
       "      <td>31.990643</td>\n",
       "    </tr>\n",
       "    <tr>\n",
       "      <th>3</th>\n",
       "      <td>opinion</td>\n",
       "      <td>active</td>\n",
       "      <td>8817</td>\n",
       "      <td>93.045589</td>\n",
       "      <td>32.489395</td>\n",
       "    </tr>\n",
       "    <tr>\n",
       "      <th>4</th>\n",
       "      <td>opinion</td>\n",
       "      <td>banned</td>\n",
       "      <td>196</td>\n",
       "      <td>2.068383</td>\n",
       "      <td>31.979592</td>\n",
       "    </tr>\n",
       "    <tr>\n",
       "      <th>5</th>\n",
       "      <td>opinion</td>\n",
       "      <td>under review</td>\n",
       "      <td>463</td>\n",
       "      <td>4.886028</td>\n",
       "      <td>30.053996</td>\n",
       "    </tr>\n",
       "  </tbody>\n",
       "</table>\n",
       "</div>"
      ],
      "text/plain": [
       "  claim_status author_ban_status  counts  percentage  \\\n",
       "0        claim            active    6566   68.338884   \n",
       "1        claim            banned    1439   14.977102   \n",
       "2        claim      under review    1603   16.684013   \n",
       "3      opinion            active    8817   93.045589   \n",
       "4      opinion            banned     196    2.068383   \n",
       "5      opinion      under review     463    4.886028   \n",
       "\n",
       "   average_video_duration_sec  \n",
       "0                   32.633567  \n",
       "1                   32.370396  \n",
       "2                   31.990643  \n",
       "3                   32.489395  \n",
       "4                   31.979592  \n",
       "5                   30.053996  "
      ]
     },
     "execution_count": 66,
     "metadata": {},
     "output_type": "execute_result"
    }
   ],
   "source": [
    "# Get counts for each group combination of claim status and author ban status\n",
    "counts = df.groupby(['claim_status', 'author_ban_status']).size().reset_index(name='counts')\n",
    "\n",
    "# Calculate the percentage for each group combination\n",
    "counts['percentage'] = counts['counts'] / counts.groupby('claim_status')['counts'].transform('sum') * 100\n",
    "\n",
    "# Calculate the average video_duration_sec for each combination of claim status and author ban status\n",
    "average_duration = df.groupby(['claim_status', 'author_ban_status'])['video_duration_sec'].mean().reset_index(name='average_video_duration_sec')\n",
    "\n",
    "# Merge the counts and average duration into one DataFrame\n",
    "result = pd.merge(counts, average_duration, on=['claim_status', 'author_ban_status'])\n",
    "\n",
    "result"
   ]
  },
  {
   "cell_type": "code",
   "execution_count": 67,
   "metadata": {
    "colab": {
     "base_uri": "https://localhost:8080/",
     "height": 125
    },
    "id": "sRNNKbooOFuJ",
    "outputId": "4a3cfb00-9f83-49b1-b7e6-d159803bbb74"
   },
   "outputs": [
    {
     "data": {
      "text/html": [
       "<div>\n",
       "<style scoped>\n",
       "    .dataframe tbody tr th:only-of-type {\n",
       "        vertical-align: middle;\n",
       "    }\n",
       "\n",
       "    .dataframe tbody tr th {\n",
       "        vertical-align: top;\n",
       "    }\n",
       "\n",
       "    .dataframe thead th {\n",
       "        text-align: right;\n",
       "    }\n",
       "</style>\n",
       "<table border=\"1\" class=\"dataframe\">\n",
       "  <thead>\n",
       "    <tr style=\"text-align: right;\">\n",
       "      <th></th>\n",
       "      <th>claim_status</th>\n",
       "      <th>counts</th>\n",
       "      <th>mean_video_duration_sec</th>\n",
       "    </tr>\n",
       "  </thead>\n",
       "  <tbody>\n",
       "    <tr>\n",
       "      <th>0</th>\n",
       "      <td>claim</td>\n",
       "      <td>9608</td>\n",
       "      <td>32.486886</td>\n",
       "    </tr>\n",
       "    <tr>\n",
       "      <th>1</th>\n",
       "      <td>opinion</td>\n",
       "      <td>9476</td>\n",
       "      <td>32.359856</td>\n",
       "    </tr>\n",
       "  </tbody>\n",
       "</table>\n",
       "</div>"
      ],
      "text/plain": [
       "  claim_status  counts  mean_video_duration_sec\n",
       "0        claim    9608                32.486886\n",
       "1      opinion    9476                32.359856"
      ]
     },
     "execution_count": 67,
     "metadata": {},
     "output_type": "execute_result"
    }
   ],
   "source": [
    "# Determine the count of videos for each claim status\n",
    "claim_status_counts = df['claim_status'].value_counts().reset_index()\n",
    "claim_status_counts.columns = ['claim_status', 'counts']\n",
    "\n",
    "# Calculate the mean video_duration_sec for each claim status (claims and opinions)\n",
    "mean_duration_claims_opinions = df.groupby('claim_status')['video_duration_sec'].mean().reset_index()\n",
    "mean_duration_claims_opinions.columns = ['claim_status', 'mean_video_duration_sec']\n",
    "\n",
    "# Merge the counts and mean duration into one DataFrame\n",
    "avg_duration_results = pd.merge(claim_status_counts, mean_duration_claims_opinions, on='claim_status')\n",
    "\n",
    "avg_duration_results"
   ]
  }
 ],
 "metadata": {
  "colab": {
   "provenance": []
  },
  "kernelspec": {
   "display_name": "Python 3 (ipykernel)",
   "language": "python",
   "name": "python3"
  },
  "language_info": {
   "codemirror_mode": {
    "name": "ipython",
    "version": 3
   },
   "file_extension": ".py",
   "mimetype": "text/x-python",
   "name": "python",
   "nbconvert_exporter": "python",
   "pygments_lexer": "ipython3",
   "version": "3.12.4"
  }
 },
 "nbformat": 4,
 "nbformat_minor": 4
}
