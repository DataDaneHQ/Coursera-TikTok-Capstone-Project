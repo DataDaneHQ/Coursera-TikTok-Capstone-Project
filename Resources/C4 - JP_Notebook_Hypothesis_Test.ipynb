{
 "cells": [
  {
   "cell_type": "markdown",
   "id": "bee9feb2-0e0c-4824-b145-89e32c449c7a",
   "metadata": {},
   "source": [
    "# **TikTok Claims Classification Project: Hypothesis Test**"
   ]
  },
  {
   "cell_type": "markdown",
   "id": "ed2b4288-4ff5-4d9a-892e-b2e529124a16",
   "metadata": {},
   "source": [
    "<img src=\"../Images/bubble_logo.png\" alt=\"Logo\" style=\"float:left; width:120px; height:120px;\">"
   ]
  },
  {
   "cell_type": "markdown",
   "id": "f4d84109-6856-4f21-92e3-f1ec903df223",
   "metadata": {},
   "source": [
    "## **Introduction**\n",
    "\n",
    "In this stage of the TikTok Claims Classification project, we aim to determine whether there is a statistically significant difference in video view counts between verified and unverified accounts. Using descriptive statistics and hypothesis testing, we will analyze the engagement patterns of these two groups. The results will help provide deeper insights into user behavior, which can further inform the development of a machine learning model to classify TikTok interactions as either claims or opinions.\n",
    "\n",
    "This Jupyter Notebook serves as a technical summary for internal stakeholders (the data team), documenting the full analysis process, including data exploration, cleaning, statistical testing, and the interpretation of results. It is intended to provide transparency and allow for validation of the methods and findings before sharing insights with external stakeholders.\n",
    "\n",
    "## **Dataset Exploration**\n",
    "\n",
    "* Import packages and upload dataset\n",
    "* Initial Inspection\n",
    "* Descriptive Statistics - Determine the most insightful variable"
   ]
  },
  {
   "cell_type": "code",
   "execution_count": 5,
   "id": "48aa9f3b-2eb5-4ca3-9b88-e5f196cd1b77",
   "metadata": {},
   "outputs": [],
   "source": [
    "# Import packages for data manipulation\n",
    "import pandas as pd\n",
    "import numpy as np\n",
    "\n",
    "# Import package for statistical analysis\n",
    "from scipy import stats\n",
    "\n",
    "# Import packages for data visualization\n",
    "import matplotlib.pyplot as plt\n",
    "import seaborn as sns"
   ]
  },
  {
   "cell_type": "code",
   "execution_count": 8,
   "id": "769a12fe-b526-491f-98b2-86f63cb31446",
   "metadata": {},
   "outputs": [],
   "source": [
    "# Load dataset into dataframe\n",
    "df = pd.read_csv(r'C:\\Users\\danet\\Documents\\tiktok_dataset.csv')"
   ]
  },
  {
   "cell_type": "code",
   "execution_count": 9,
   "id": "39814be0-1087-4275-8cae-c25e01de4b99",
   "metadata": {},
   "outputs": [
    {
     "data": {
      "text/html": [
       "<div>\n",
       "<style scoped>\n",
       "    .dataframe tbody tr th:only-of-type {\n",
       "        vertical-align: middle;\n",
       "    }\n",
       "\n",
       "    .dataframe tbody tr th {\n",
       "        vertical-align: top;\n",
       "    }\n",
       "\n",
       "    .dataframe thead th {\n",
       "        text-align: right;\n",
       "    }\n",
       "</style>\n",
       "<table border=\"1\" class=\"dataframe\">\n",
       "  <thead>\n",
       "    <tr style=\"text-align: right;\">\n",
       "      <th></th>\n",
       "      <th>#</th>\n",
       "      <th>claim_status</th>\n",
       "      <th>video_id</th>\n",
       "      <th>video_duration_sec</th>\n",
       "      <th>video_transcription_text</th>\n",
       "      <th>verified_status</th>\n",
       "      <th>author_ban_status</th>\n",
       "      <th>video_view_count</th>\n",
       "      <th>video_like_count</th>\n",
       "      <th>video_share_count</th>\n",
       "      <th>video_download_count</th>\n",
       "      <th>video_comment_count</th>\n",
       "    </tr>\n",
       "  </thead>\n",
       "  <tbody>\n",
       "    <tr>\n",
       "      <th>0</th>\n",
       "      <td>1</td>\n",
       "      <td>claim</td>\n",
       "      <td>7017666017</td>\n",
       "      <td>59</td>\n",
       "      <td>someone shared with me that drone deliveries a...</td>\n",
       "      <td>not verified</td>\n",
       "      <td>under review</td>\n",
       "      <td>343296.0</td>\n",
       "      <td>19425.0</td>\n",
       "      <td>241.0</td>\n",
       "      <td>1.0</td>\n",
       "      <td>0.0</td>\n",
       "    </tr>\n",
       "    <tr>\n",
       "      <th>1</th>\n",
       "      <td>2</td>\n",
       "      <td>claim</td>\n",
       "      <td>4014381136</td>\n",
       "      <td>32</td>\n",
       "      <td>someone shared with me that there are more mic...</td>\n",
       "      <td>not verified</td>\n",
       "      <td>active</td>\n",
       "      <td>140877.0</td>\n",
       "      <td>77355.0</td>\n",
       "      <td>19034.0</td>\n",
       "      <td>1161.0</td>\n",
       "      <td>684.0</td>\n",
       "    </tr>\n",
       "    <tr>\n",
       "      <th>2</th>\n",
       "      <td>3</td>\n",
       "      <td>claim</td>\n",
       "      <td>9859838091</td>\n",
       "      <td>31</td>\n",
       "      <td>someone shared with me that american industria...</td>\n",
       "      <td>not verified</td>\n",
       "      <td>active</td>\n",
       "      <td>902185.0</td>\n",
       "      <td>97690.0</td>\n",
       "      <td>2858.0</td>\n",
       "      <td>833.0</td>\n",
       "      <td>329.0</td>\n",
       "    </tr>\n",
       "  </tbody>\n",
       "</table>\n",
       "</div>"
      ],
      "text/plain": [
       "   # claim_status    video_id  video_duration_sec  \\\n",
       "0  1        claim  7017666017                  59   \n",
       "1  2        claim  4014381136                  32   \n",
       "2  3        claim  9859838091                  31   \n",
       "\n",
       "                            video_transcription_text verified_status  \\\n",
       "0  someone shared with me that drone deliveries a...    not verified   \n",
       "1  someone shared with me that there are more mic...    not verified   \n",
       "2  someone shared with me that american industria...    not verified   \n",
       "\n",
       "  author_ban_status  video_view_count  video_like_count  video_share_count  \\\n",
       "0      under review          343296.0           19425.0              241.0   \n",
       "1            active          140877.0           77355.0            19034.0   \n",
       "2            active          902185.0           97690.0             2858.0   \n",
       "\n",
       "   video_download_count  video_comment_count  \n",
       "0                   1.0                  0.0  \n",
       "1                1161.0                684.0  \n",
       "2                 833.0                329.0  "
      ]
     },
     "execution_count": 9,
     "metadata": {},
     "output_type": "execute_result"
    }
   ],
   "source": [
    "df.head(3)"
   ]
  },
  {
   "cell_type": "code",
   "execution_count": 11,
   "id": "969ee424-c282-40d5-b4d1-7c209b441503",
   "metadata": {},
   "outputs": [
    {
     "data": {
      "text/html": [
       "<div>\n",
       "<style scoped>\n",
       "    .dataframe tbody tr th:only-of-type {\n",
       "        vertical-align: middle;\n",
       "    }\n",
       "\n",
       "    .dataframe tbody tr th {\n",
       "        vertical-align: top;\n",
       "    }\n",
       "\n",
       "    .dataframe thead th {\n",
       "        text-align: right;\n",
       "    }\n",
       "</style>\n",
       "<table border=\"1\" class=\"dataframe\">\n",
       "  <thead>\n",
       "    <tr style=\"text-align: right;\">\n",
       "      <th></th>\n",
       "      <th>#</th>\n",
       "      <th>video_id</th>\n",
       "      <th>video_duration_sec</th>\n",
       "      <th>video_view_count</th>\n",
       "      <th>video_like_count</th>\n",
       "      <th>video_share_count</th>\n",
       "      <th>video_download_count</th>\n",
       "      <th>video_comment_count</th>\n",
       "    </tr>\n",
       "  </thead>\n",
       "  <tbody>\n",
       "    <tr>\n",
       "      <th>count</th>\n",
       "      <td>19382.000000</td>\n",
       "      <td>1.938200e+04</td>\n",
       "      <td>19382.000000</td>\n",
       "      <td>19084.000000</td>\n",
       "      <td>19084.000000</td>\n",
       "      <td>19084.000000</td>\n",
       "      <td>19084.000000</td>\n",
       "      <td>19084.000000</td>\n",
       "    </tr>\n",
       "    <tr>\n",
       "      <th>mean</th>\n",
       "      <td>9691.500000</td>\n",
       "      <td>5.627454e+09</td>\n",
       "      <td>32.421732</td>\n",
       "      <td>254708.558688</td>\n",
       "      <td>84304.636030</td>\n",
       "      <td>16735.248323</td>\n",
       "      <td>1049.429627</td>\n",
       "      <td>349.312146</td>\n",
       "    </tr>\n",
       "    <tr>\n",
       "      <th>std</th>\n",
       "      <td>5595.245794</td>\n",
       "      <td>2.536440e+09</td>\n",
       "      <td>16.229967</td>\n",
       "      <td>322893.280814</td>\n",
       "      <td>133420.546814</td>\n",
       "      <td>32036.174350</td>\n",
       "      <td>2004.299894</td>\n",
       "      <td>799.638865</td>\n",
       "    </tr>\n",
       "    <tr>\n",
       "      <th>min</th>\n",
       "      <td>1.000000</td>\n",
       "      <td>1.234959e+09</td>\n",
       "      <td>5.000000</td>\n",
       "      <td>20.000000</td>\n",
       "      <td>0.000000</td>\n",
       "      <td>0.000000</td>\n",
       "      <td>0.000000</td>\n",
       "      <td>0.000000</td>\n",
       "    </tr>\n",
       "    <tr>\n",
       "      <th>25%</th>\n",
       "      <td>4846.250000</td>\n",
       "      <td>3.430417e+09</td>\n",
       "      <td>18.000000</td>\n",
       "      <td>4942.500000</td>\n",
       "      <td>810.750000</td>\n",
       "      <td>115.000000</td>\n",
       "      <td>7.000000</td>\n",
       "      <td>1.000000</td>\n",
       "    </tr>\n",
       "    <tr>\n",
       "      <th>50%</th>\n",
       "      <td>9691.500000</td>\n",
       "      <td>5.618664e+09</td>\n",
       "      <td>32.000000</td>\n",
       "      <td>9954.500000</td>\n",
       "      <td>3403.500000</td>\n",
       "      <td>717.000000</td>\n",
       "      <td>46.000000</td>\n",
       "      <td>9.000000</td>\n",
       "    </tr>\n",
       "    <tr>\n",
       "      <th>75%</th>\n",
       "      <td>14536.750000</td>\n",
       "      <td>7.843960e+09</td>\n",
       "      <td>47.000000</td>\n",
       "      <td>504327.000000</td>\n",
       "      <td>125020.000000</td>\n",
       "      <td>18222.000000</td>\n",
       "      <td>1156.250000</td>\n",
       "      <td>292.000000</td>\n",
       "    </tr>\n",
       "    <tr>\n",
       "      <th>max</th>\n",
       "      <td>19382.000000</td>\n",
       "      <td>9.999873e+09</td>\n",
       "      <td>60.000000</td>\n",
       "      <td>999817.000000</td>\n",
       "      <td>657830.000000</td>\n",
       "      <td>256130.000000</td>\n",
       "      <td>14994.000000</td>\n",
       "      <td>9599.000000</td>\n",
       "    </tr>\n",
       "  </tbody>\n",
       "</table>\n",
       "</div>"
      ],
      "text/plain": [
       "                  #      video_id  video_duration_sec  video_view_count  \\\n",
       "count  19382.000000  1.938200e+04        19382.000000      19084.000000   \n",
       "mean    9691.500000  5.627454e+09           32.421732     254708.558688   \n",
       "std     5595.245794  2.536440e+09           16.229967     322893.280814   \n",
       "min        1.000000  1.234959e+09            5.000000         20.000000   \n",
       "25%     4846.250000  3.430417e+09           18.000000       4942.500000   \n",
       "50%     9691.500000  5.618664e+09           32.000000       9954.500000   \n",
       "75%    14536.750000  7.843960e+09           47.000000     504327.000000   \n",
       "max    19382.000000  9.999873e+09           60.000000     999817.000000   \n",
       "\n",
       "       video_like_count  video_share_count  video_download_count  \\\n",
       "count      19084.000000       19084.000000          19084.000000   \n",
       "mean       84304.636030       16735.248323           1049.429627   \n",
       "std       133420.546814       32036.174350           2004.299894   \n",
       "min            0.000000           0.000000              0.000000   \n",
       "25%          810.750000         115.000000              7.000000   \n",
       "50%         3403.500000         717.000000             46.000000   \n",
       "75%       125020.000000       18222.000000           1156.250000   \n",
       "max       657830.000000      256130.000000          14994.000000   \n",
       "\n",
       "       video_comment_count  \n",
       "count         19084.000000  \n",
       "mean            349.312146  \n",
       "std             799.638865  \n",
       "min               0.000000  \n",
       "25%               1.000000  \n",
       "50%               9.000000  \n",
       "75%             292.000000  \n",
       "max            9599.000000  "
      ]
     },
     "execution_count": 11,
     "metadata": {},
     "output_type": "execute_result"
    }
   ],
   "source": [
    "# Descriptive Statistics\n",
    "df.describe()"
   ]
  },
  {
   "cell_type": "markdown",
   "id": "df08d1d0-25ea-4196-8df0-10259f1b1971",
   "metadata": {},
   "source": [
    "***Focus on Video View Counts***\n",
    "\n",
    "After reviewing the descriptive statistics, it's clear that video view count is a key metric for analyzing user engagement. With its significant variability and wide range, this variable provides valuable insight into how verified and unverified accounts perform on TikTok. As Rosie Mae Bradshaw suggested, focusing on video view counts will allow us to explore whether account verification leads to measurable differences in video reach and engagement."
   ]
  },
  {
   "cell_type": "markdown",
   "id": "93603928-54be-46e7-ad58-32a3686bd895",
   "metadata": {},
   "source": [
    "## **Data Cleaning**\n",
    "\n",
    "***Handling Missing Values:***\n",
    " As established in the previous EDA, there are missing values across the same 7 columns in 298 rows. Since dropping these rows only reduces the dataset by 1.54%, which is a minimal loss, I will proceed to drop them now to maintain the integrity of the analysis."
   ]
  },
  {
   "cell_type": "code",
   "execution_count": 20,
   "id": "deb5935f-116e-4090-9e8f-8cad4997e8f8",
   "metadata": {},
   "outputs": [
    {
     "name": "stdout",
     "output_type": "stream",
     "text": [
      "Total Elements: 232,584\n",
      "Total Rows: 19,382\n",
      "Total Columns: 12\n"
     ]
    },
    {
     "data": {
      "text/plain": [
       "#                             0\n",
       "claim_status                298\n",
       "video_id                      0\n",
       "video_duration_sec            0\n",
       "video_transcription_text    298\n",
       "verified_status               0\n",
       "author_ban_status             0\n",
       "video_view_count            298\n",
       "video_like_count            298\n",
       "video_share_count           298\n",
       "video_download_count        298\n",
       "video_comment_count         298\n",
       "dtype: int64"
      ]
     },
     "execution_count": 20,
     "metadata": {},
     "output_type": "execute_result"
    }
   ],
   "source": [
    "# Confirm Missing Values\n",
    "print(f\"Total Elements: {df.size:,}\")\n",
    "print(f\"Total Rows: {df.shape[0]:,}\")\n",
    "print(f\"Total Columns: {df.shape[1]}\")\n",
    "df.isnull().sum()"
   ]
  },
  {
   "cell_type": "code",
   "execution_count": 17,
   "id": "5d7c37bc-d732-4692-90e3-5ab5a4b7e328",
   "metadata": {},
   "outputs": [],
   "source": [
    "# Drop rows with missing values\n",
    "df_cleaned = df.dropna()"
   ]
  },
  {
   "cell_type": "code",
   "execution_count": 21,
   "id": "a63bbb04-9ea8-499d-8dc7-17ceba971993",
   "metadata": {},
   "outputs": [
    {
     "name": "stdout",
     "output_type": "stream",
     "text": [
      "<class 'pandas.core.frame.DataFrame'>\n",
      "Index: 19084 entries, 0 to 19083\n",
      "Data columns (total 12 columns):\n",
      " #   Column                    Non-Null Count  Dtype  \n",
      "---  ------                    --------------  -----  \n",
      " 0   #                         19084 non-null  int64  \n",
      " 1   claim_status              19084 non-null  object \n",
      " 2   video_id                  19084 non-null  int64  \n",
      " 3   video_duration_sec        19084 non-null  int64  \n",
      " 4   video_transcription_text  19084 non-null  object \n",
      " 5   verified_status           19084 non-null  object \n",
      " 6   author_ban_status         19084 non-null  object \n",
      " 7   video_view_count          19084 non-null  float64\n",
      " 8   video_like_count          19084 non-null  float64\n",
      " 9   video_share_count         19084 non-null  float64\n",
      " 10  video_download_count      19084 non-null  float64\n",
      " 11  video_comment_count       19084 non-null  float64\n",
      "dtypes: float64(5), int64(3), object(4)\n",
      "memory usage: 1.9+ MB\n"
     ]
    }
   ],
   "source": [
    "# Confirm entries has dropped from 19,382 down to 19,084\n",
    "df_cleaned.info()"
   ]
  },
  {
   "cell_type": "markdown",
   "id": "e0ed757e-36f1-49c7-8b24-2fce61ceb515",
   "metadata": {},
   "source": [
    "<br>\n",
    "\n",
    "## **Exploring Mean Video View Count by Verification Status**\n",
    "\n",
    "In this section, I aim to compare the mean video view counts between verified and unverified accounts. By calculating and displaying the total number of accounts, total video views, and average video views for each group, I can gain initial insights into how account verification affects engagement. Additionally, I will create visualizations to provide a clearer understanding of the differences between the two groups before moving into the hypothesis test."
   ]
  },
  {
   "cell_type": "code",
   "execution_count": 25,
   "id": "a1d6410f-c695-4a54-b2b9-b9cd5b3e9eb8",
   "metadata": {},
   "outputs": [
    {
     "data": {
      "text/html": [
       "<div>\n",
       "<style scoped>\n",
       "    .dataframe tbody tr th:only-of-type {\n",
       "        vertical-align: middle;\n",
       "    }\n",
       "\n",
       "    .dataframe tbody tr th {\n",
       "        vertical-align: top;\n",
       "    }\n",
       "\n",
       "    .dataframe thead th {\n",
       "        text-align: right;\n",
       "    }\n",
       "</style>\n",
       "<table border=\"1\" class=\"dataframe\">\n",
       "  <thead>\n",
       "    <tr style=\"text-align: right;\">\n",
       "      <th></th>\n",
       "      <th>Total Accounts</th>\n",
       "      <th>Total Video Views</th>\n",
       "      <th>Mean Video Views</th>\n",
       "    </tr>\n",
       "    <tr>\n",
       "      <th>verified_status</th>\n",
       "      <th></th>\n",
       "      <th></th>\n",
       "      <th></th>\n",
       "    </tr>\n",
       "  </thead>\n",
       "  <tbody>\n",
       "    <tr>\n",
       "      <th>not verified</th>\n",
       "      <td>17884</td>\n",
       "      <td>4.75B</td>\n",
       "      <td>265663.785339</td>\n",
       "    </tr>\n",
       "    <tr>\n",
       "      <th>verified</th>\n",
       "      <td>1200</td>\n",
       "      <td>109.73M</td>\n",
       "      <td>91439.164167</td>\n",
       "    </tr>\n",
       "  </tbody>\n",
       "</table>\n",
       "</div>"
      ],
      "text/plain": [
       "                 Total Accounts Total Video Views  Mean Video Views\n",
       "verified_status                                                    \n",
       "not verified              17884             4.75B     265663.785339\n",
       "verified                   1200           109.73M      91439.164167"
      ]
     },
     "execution_count": 25,
     "metadata": {},
     "output_type": "execute_result"
    }
   ],
   "source": [
    "# Function to format large numbers\n",
    "def format_large_numbers(num):\n",
    "    if num >= 1e9:\n",
    "        return f'{num/1e9:.2f}B'\n",
    "    elif num >= 1e6:\n",
    "        return f'{num/1e6:.2f}M'\n",
    "    else:\n",
    "        return f'{num}'\n",
    "\n",
    "# Group by 'verified_status' and calculate the total video view counts\n",
    "verified_view_counts = df_cleaned.groupby('verified_status')['video_view_count'].sum()\n",
    "\n",
    "# Count the total number of verified and not verified accounts\n",
    "verified_account_counts = df_cleaned['verified_status'].value_counts()\n",
    "\n",
    "# Calculate the mean video view count per verified status\n",
    "mean_view_counts = df_cleaned.groupby('verified_status')['video_view_count'].mean()\n",
    "\n",
    "# Create a DataFrame with both total counts and view counts\n",
    "summary_df = pd.DataFrame({\n",
    "    'Total Accounts': verified_account_counts,\n",
    "    'Total Video Views': verified_view_counts,\n",
    "    'Mean Video Views': mean_view_counts\n",
    "})\n",
    "\n",
    "# Apply the large number formatting to the 'Total Video Views' column\n",
    "summary_df['Total Video Views'] = summary_df['Total Video Views'].apply(format_large_numbers)\n",
    "\n",
    "# Display the updated DataFrame\n",
    "summary_df"
   ]
  },
  {
   "cell_type": "code",
   "execution_count": 27,
   "id": "3074fae8-23f4-4d16-bdec-2db2246bdb85",
   "metadata": {},
   "outputs": [
    {
     "data": {
      "image/png": "[encoded data removed]",
      "text/plain": [
       "<Figure size 1000x500 with 2 Axes>"
      ]
     },
     "metadata": {},
     "output_type": "display_data"
    }
   ],
   "source": [
    "import matplotlib.ticker as mticker\n",
    "\n",
    "# Configure sizes for both subplots\n",
    "fig, axes = plt.subplots(1, 2, figsize=(10, 5))\n",
    "\n",
    "# Bar chart for Total Accounts\n",
    "summary_df['Total Accounts'].plot(kind='bar', color=['#20D5EC', '#333333'], ax=axes[0])\n",
    "axes[0].set_title('Total Accounts')\n",
    "axes[0].set_ylabel('Number of Accounts')\n",
    "\n",
    "# Bar chart for Total Video Views\n",
    "bars2 = axes[1].bar(summary_df.index, verified_view_counts, color=['#20D5EC', '#333333'])\n",
    "axes[1].set_title('Total Video Views')\n",
    "axes[1].set_ylabel('Total Video Views')\n",
    "\n",
    "# Annotate Total Video Views bars with formatted values\n",
    "for bar, value in zip(bars2, verified_view_counts):\n",
    "    label = f'{value/1e9:.2f}B' if value >= 1e9 else f'{value/1e6:.2f}M'\n",
    "    axes[1].text(bar.get_x() + bar.get_width() / 2, bar.get_height(), label, ha='center', va='bottom')\n",
    "\n",
    "# Format y-axis labels in billions (B) or millions (M) for the second plot\n",
    "axes[1].yaxis.set_major_formatter(mticker.FuncFormatter(lambda x, _: f'{x/1e9:.1f}B' if x >= 1e9 else f'{x/1e6:.1f}M'))\n",
    "\n",
    "plt.tight_layout()\n",
    "plt.show()"
   ]
  },
  {
   "cell_type": "code",
   "execution_count": 32,
   "id": "006aa768-bc4b-417a-b8c7-a49cfe48dd7a",
   "metadata": {},
   "outputs": [
    {
     "data": {
      "image/png": "[encoded data removed]",
      "text/plain": [
       "<Figure size 500x400 with 1 Axes>"
      ]
     },
     "metadata": {},
     "output_type": "display_data"
    }
   ],
   "source": [
    "# Configure size\n",
    "plt.figure(figsize=(5, 4))\n",
    "\n",
    "# Bar chart for Mean View Count\n",
    "bars = plt.bar(summary_df.index, mean_view_counts, color=['#20D5EC', '#333333'])\n",
    "plt.title('Mean View Count per Verification Status')\n",
    "plt.ylabel('Mean View Count')\n",
    "\n",
    "# Annotate the bars with their values\n",
    "for bar, value in zip(bars, mean_view_counts):\n",
    "    plt.text(bar.get_x() + bar.get_width() / 2, bar.get_height(), f'{value:.2f}', ha='center', va='bottom')\n",
    "\n",
    "plt.show()"
   ]
  },
  {
   "cell_type": "markdown",
   "id": "3da3e252-b63a-4346-967f-4f527183ee00",
   "metadata": {},
   "source": [
    "***Insights***\n",
    "\n",
    "* The analysis shows that unverified accounts significantly outperform verified accounts in terms of video views. With 17,884 unverified accounts generating a total of 4.75 billion views (an average of 265,663 views per account), unverified accounts see nearly three times the average views compared to verified accounts.\n",
    "* In contrast, 1,200 verified accounts generated a total of 109.73 million views, with an average of 91,439 views per account. This substantial difference highlights a noteworthy gap in engagement between the two groups."
   ]
  },
  {
   "cell_type": "markdown",
   "id": "7fba43c5-15f3-4c71-a171-1283bdffe460",
   "metadata": {},
   "source": [
    "## **Hypothesis Testing: Video View Counts by Verification Status**\n",
    "\n",
    "In this section, I will conduct a hypothesis test to determine whether there is a statistically significant difference in the mean video view counts between verified and unverified TikTok accounts. This test will help confirm whether the observed differences in average video views between the two groups, as seen in the previous analysis, are due to random chance or if they reflect a real distinction in engagement. The results will provide valuable insights into the relationship between account verification and user engagement on the platform.\n",
    "\n",
    "***Null Hypothesis (H₀):*** There is no statistically significant difference in the video view counts between verified and unverified accounts.\n",
    "\n",
    "***Alternative Hypothesis (H₁):*** There is a statistically significant difference in the video view counts between verified and unverified accounts."
   ]
  },
  {
   "cell_type": "code",
   "execution_count": 33,
   "id": "270c331c-a184-460d-b043-100c02e2c32d",
   "metadata": {},
   "outputs": [
    {
     "name": "stdout",
     "output_type": "stream",
     "text": [
      "TTEST: 25.499441780633777\n",
      "P-Value: 2.6088823687177823e-120 or \n"
     ]
    }
   ],
   "source": [
    "# Significance Level\n",
    "significance_level = 0.05\n",
    "\n",
    "# Samples\n",
    "not_verified = df_cleaned[df_cleaned[\"verified_status\"] == \"not verified\"][\"video_view_count\"]\n",
    "verified = df_cleaned[df_cleaned[\"verified_status\"] == \"verified\"][\"video_view_count\"]\n",
    "\n",
    "# Implement a t-test using the two samples\n",
    "ttest, p_value = stats.ttest_ind(a=not_verified, b=verified, equal_var=False)\n",
    "print(f\"TTEST: {ttest}\")\n",
    "print(f\"P-Value: {p_value} or \")"
   ]
  },
  {
   "cell_type": "markdown",
   "id": "0852bfe4-8889-431c-8fcf-57ef60ec10c5",
   "metadata": {},
   "source": [
    "***Insight***\n",
    "\n",
    "With a p-value of 2.6088e-120, far below the 5% significance threshold, we reject the null hypothesis. The results are highly statistically significant, indicating that the difference in video view counts between verified and unverified accounts is not due to random chance."
   ]
  },
  {
   "cell_type": "markdown",
   "id": "66fd4c15-4c71-4216-9871-26d2cd696806",
   "metadata": {},
   "source": [
    "## **Summary of Results**\n",
    "\n",
    "The hypothesis test confirmed a statistically significant difference in video view counts between verified and unverified accounts (p-value: 2.6088e-120), suggesting that factors beyond verification status likely influence engagement. This raises the need to explore other elements like content type or posting frequency.\n",
    "\n",
    "Unverified accounts, on average, receive 190.54% more views than verified accounts, suggesting they may employ different content strategies that drive higher engagement.\n",
    "\n",
    "Next, we will develop a regression model incorporating verification status to further analyze its impact on user behavior and its relevance to classifying posts as claims or opinions. This model will help manage the imbalance between verified and unverified accounts and provide deeper insights into the factors driving engagement."
   ]
  }
 ],
 "metadata": {
  "kernelspec": {
   "display_name": "Python 3 (ipykernel)",
   "language": "python",
   "name": "python3"
  },
  "language_info": {
   "codemirror_mode": {
    "name": "ipython",
    "version": 3
   },
   "file_extension": ".py",
   "mimetype": "text/x-python",
   "name": "python",
   "nbconvert_exporter": "python",
   "pygments_lexer": "ipython3",
   "version": "3.12.4"
  }
 },
 "nbformat": 4,
 "nbformat_minor": 5
}
