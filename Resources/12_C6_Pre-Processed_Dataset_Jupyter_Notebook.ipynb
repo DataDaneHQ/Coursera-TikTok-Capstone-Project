{
 "cells": [
  {
   "cell_type": "markdown",
   "id": "846ded3b-e78a-4275-95c6-45540e05aa2a",
   "metadata": {},
   "source": [
    "# **TikTok Claims Classification Project: Clean and Prepare Dataset**"
   ]
  },
  {
   "cell_type": "markdown",
   "id": "495da65a-ba40-4fbf-9b65-85e94cffcd0d",
   "metadata": {},
   "source": [
    "<img src=\"../Images/bubble_logo.png\" alt=\"Logo\" style=\"float:left; width:120px; height:120px;\">"
   ]
  },
  {
   "cell_type": "markdown",
   "id": "c54ded22-7eb0-4529-a69c-7300f4c11ebb",
   "metadata": {},
   "source": [
    "## **Introduction**\n",
    "\n",
    "The goal of this notebook is to clean and prepare the TikTok dataset for machine learning modelling. This involves addressing data quality issues such as missing values, feature engineering, transforming categorical variables, and ensuring the dataset is structured appropriately for analysis. By the end of this process, the dataset will be ready for model-building in subsequent notebooks. This notebook serves as the foundation for all future steps in this stage of the project, ensuring consistency and efficiency across workflows."
   ]
  },
  {
   "cell_type": "markdown",
   "id": "771415f5-0e91-4657-800b-7da3641d6f2c",
   "metadata": {},
   "source": [
    "## **Contents**\n",
    "\n",
    "#### **Setup and Data Initionalization**\n",
    "1. Import Libraries and Packages\n",
    "2. Import Dataset\n",
    "\n",
    "#### **Data Validation, Cleaning, and Pre-Model Preparation**\n",
    "3. Data Validation\n",
    "4. Data Cleaning\n",
    "5. Begin Model Assessment and Preparation\n",
    "6. Feature Engineering\n",
    "7. Export Cleaned Dataset"
   ]
  },
  {
   "cell_type": "markdown",
   "id": "0c28dc36-e5f5-4ccb-b133-38928d0ea99e",
   "metadata": {},
   "source": [
    "<br>\n",
    "\n",
    "# **Setup and Data Initionalization**\n",
    "## **1. Import Libraries and Packages**\n",
    "\n",
    "**Import** necessary libraries for data manipulation, visualization, and modelling."
   ]
  },
  {
   "cell_type": "code",
   "execution_count": 49,
   "id": "2fb378fc-b13e-4e27-9f2a-ca571c072228",
   "metadata": {},
   "outputs": [],
   "source": [
    "# Import packages for data manipulation and visualization\n",
    "import pandas as pd\n",
    "import numpy as np\n",
    "import matplotlib.pyplot as plt\n",
    "import seaborn as sns"
   ]
  },
  {
   "cell_type": "markdown",
   "id": "f7cd583f-a628-4a59-ad76-74a6ac180051",
   "metadata": {},
   "source": [
    "<br>\n",
    "\n",
    "## **2. Import Dataset**\n",
    "\n",
    "**Load** the dataset into a DataFrame for exploration and analysis."
   ]
  },
  {
   "cell_type": "code",
   "execution_count": 50,
   "id": "ab19ad3b-898e-4eea-80fb-da43e5d45e39",
   "metadata": {},
   "outputs": [],
   "source": [
    "# Read in dataset\n",
    "data = pd.read_csv(r'C:\\Users\\danet\\Documents\\tiktok_dataset.csv')"
   ]
  },
  {
   "cell_type": "markdown",
   "id": "ccd1e90c-d49d-4cda-b7a2-3bcb6cdad2f5",
   "metadata": {},
   "source": [
    "<br>\n",
    "\n",
    "# **Data Validation, Cleaning, and Pre-Model Preparation**\n",
    "## **3. Data Validation**\n",
    "\n",
    "**Inspect** first few rows"
   ]
  },
  {
   "cell_type": "code",
   "execution_count": 51,
   "id": "11fa51cf-2fa5-4fd5-89d7-9635b4a414cb",
   "metadata": {},
   "outputs": [
    {
     "data": {
      "text/html": [
       "<div>\n",
       "<style scoped>\n",
       "    .dataframe tbody tr th:only-of-type {\n",
       "        vertical-align: middle;\n",
       "    }\n",
       "\n",
       "    .dataframe tbody tr th {\n",
       "        vertical-align: top;\n",
       "    }\n",
       "\n",
       "    .dataframe thead th {\n",
       "        text-align: right;\n",
       "    }\n",
       "</style>\n",
       "<table border=\"1\" class=\"dataframe\">\n",
       "  <thead>\n",
       "    <tr style=\"text-align: right;\">\n",
       "      <th></th>\n",
       "      <th>#</th>\n",
       "      <th>claim_status</th>\n",
       "      <th>video_id</th>\n",
       "      <th>video_duration_sec</th>\n",
       "      <th>video_transcription_text</th>\n",
       "      <th>verified_status</th>\n",
       "      <th>author_ban_status</th>\n",
       "      <th>video_view_count</th>\n",
       "      <th>video_like_count</th>\n",
       "      <th>video_share_count</th>\n",
       "      <th>video_download_count</th>\n",
       "      <th>video_comment_count</th>\n",
       "    </tr>\n",
       "  </thead>\n",
       "  <tbody>\n",
       "    <tr>\n",
       "      <th>0</th>\n",
       "      <td>1</td>\n",
       "      <td>claim</td>\n",
       "      <td>7017666017</td>\n",
       "      <td>59</td>\n",
       "      <td>someone shared with me that drone deliveries a...</td>\n",
       "      <td>not verified</td>\n",
       "      <td>under review</td>\n",
       "      <td>343296.0</td>\n",
       "      <td>19425.0</td>\n",
       "      <td>241.0</td>\n",
       "      <td>1.0</td>\n",
       "      <td>0.0</td>\n",
       "    </tr>\n",
       "    <tr>\n",
       "      <th>1</th>\n",
       "      <td>2</td>\n",
       "      <td>claim</td>\n",
       "      <td>4014381136</td>\n",
       "      <td>32</td>\n",
       "      <td>someone shared with me that there are more mic...</td>\n",
       "      <td>not verified</td>\n",
       "      <td>active</td>\n",
       "      <td>140877.0</td>\n",
       "      <td>77355.0</td>\n",
       "      <td>19034.0</td>\n",
       "      <td>1161.0</td>\n",
       "      <td>684.0</td>\n",
       "    </tr>\n",
       "    <tr>\n",
       "      <th>2</th>\n",
       "      <td>3</td>\n",
       "      <td>claim</td>\n",
       "      <td>9859838091</td>\n",
       "      <td>31</td>\n",
       "      <td>someone shared with me that american industria...</td>\n",
       "      <td>not verified</td>\n",
       "      <td>active</td>\n",
       "      <td>902185.0</td>\n",
       "      <td>97690.0</td>\n",
       "      <td>2858.0</td>\n",
       "      <td>833.0</td>\n",
       "      <td>329.0</td>\n",
       "    </tr>\n",
       "  </tbody>\n",
       "</table>\n",
       "</div>"
      ],
      "text/plain": [
       "   # claim_status    video_id  video_duration_sec  \\\n",
       "0  1        claim  7017666017                  59   \n",
       "1  2        claim  4014381136                  32   \n",
       "2  3        claim  9859838091                  31   \n",
       "\n",
       "                            video_transcription_text verified_status  \\\n",
       "0  someone shared with me that drone deliveries a...    not verified   \n",
       "1  someone shared with me that there are more mic...    not verified   \n",
       "2  someone shared with me that american industria...    not verified   \n",
       "\n",
       "  author_ban_status  video_view_count  video_like_count  video_share_count  \\\n",
       "0      under review          343296.0           19425.0              241.0   \n",
       "1            active          140877.0           77355.0            19034.0   \n",
       "2            active          902185.0           97690.0             2858.0   \n",
       "\n",
       "   video_download_count  video_comment_count  \n",
       "0                   1.0                  0.0  \n",
       "1                1161.0                684.0  \n",
       "2                 833.0                329.0  "
      ]
     },
     "execution_count": 51,
     "metadata": {},
     "output_type": "execute_result"
    }
   ],
   "source": [
    "data.head(3)"
   ]
  },
  {
   "cell_type": "markdown",
   "id": "5e01bdcc-51ba-460d-880a-083d50ee64f7",
   "metadata": {},
   "source": [
    "<br>\n",
    "\n",
    "**View** basic information about the data"
   ]
  },
  {
   "cell_type": "code",
   "execution_count": 52,
   "id": "608cc828-19b8-41fe-a881-67baa4d223e0",
   "metadata": {},
   "outputs": [
    {
     "name": "stdout",
     "output_type": "stream",
     "text": [
      "<class 'pandas.core.frame.DataFrame'>\n",
      "RangeIndex: 19382 entries, 0 to 19381\n",
      "Data columns (total 12 columns):\n",
      " #   Column                    Non-Null Count  Dtype  \n",
      "---  ------                    --------------  -----  \n",
      " 0   #                         19382 non-null  int64  \n",
      " 1   claim_status              19084 non-null  object \n",
      " 2   video_id                  19382 non-null  int64  \n",
      " 3   video_duration_sec        19382 non-null  int64  \n",
      " 4   video_transcription_text  19084 non-null  object \n",
      " 5   verified_status           19382 non-null  object \n",
      " 6   author_ban_status         19382 non-null  object \n",
      " 7   video_view_count          19084 non-null  float64\n",
      " 8   video_like_count          19084 non-null  float64\n",
      " 9   video_share_count         19084 non-null  float64\n",
      " 10  video_download_count      19084 non-null  float64\n",
      " 11  video_comment_count       19084 non-null  float64\n",
      "dtypes: float64(5), int64(3), object(4)\n",
      "memory usage: 1.8+ MB\n"
     ]
    }
   ],
   "source": [
    "data.info()"
   ]
  },
  {
   "cell_type": "markdown",
   "id": "4a06915c-d916-4f5b-9f43-8cb3af7be879",
   "metadata": {},
   "source": [
    "<br>\n",
    "\n",
    "**Generate** descriptive statistics"
   ]
  },
  {
   "cell_type": "code",
   "execution_count": 53,
   "id": "51a125bc-2adb-430f-8010-2d52335e1265",
   "metadata": {},
   "outputs": [
    {
     "data": {
      "text/html": [
       "<div>\n",
       "<style scoped>\n",
       "    .dataframe tbody tr th:only-of-type {\n",
       "        vertical-align: middle;\n",
       "    }\n",
       "\n",
       "    .dataframe tbody tr th {\n",
       "        vertical-align: top;\n",
       "    }\n",
       "\n",
       "    .dataframe thead th {\n",
       "        text-align: right;\n",
       "    }\n",
       "</style>\n",
       "<table border=\"1\" class=\"dataframe\">\n",
       "  <thead>\n",
       "    <tr style=\"text-align: right;\">\n",
       "      <th></th>\n",
       "      <th>#</th>\n",
       "      <th>video_id</th>\n",
       "      <th>video_duration_sec</th>\n",
       "      <th>video_view_count</th>\n",
       "      <th>video_like_count</th>\n",
       "      <th>video_share_count</th>\n",
       "      <th>video_download_count</th>\n",
       "      <th>video_comment_count</th>\n",
       "    </tr>\n",
       "  </thead>\n",
       "  <tbody>\n",
       "    <tr>\n",
       "      <th>count</th>\n",
       "      <td>19382.000000</td>\n",
       "      <td>1.938200e+04</td>\n",
       "      <td>19382.000000</td>\n",
       "      <td>19084.000000</td>\n",
       "      <td>19084.000000</td>\n",
       "      <td>19084.000000</td>\n",
       "      <td>19084.000000</td>\n",
       "      <td>19084.000000</td>\n",
       "    </tr>\n",
       "    <tr>\n",
       "      <th>mean</th>\n",
       "      <td>9691.500000</td>\n",
       "      <td>5.627454e+09</td>\n",
       "      <td>32.421732</td>\n",
       "      <td>254708.558688</td>\n",
       "      <td>84304.636030</td>\n",
       "      <td>16735.248323</td>\n",
       "      <td>1049.429627</td>\n",
       "      <td>349.312146</td>\n",
       "    </tr>\n",
       "    <tr>\n",
       "      <th>std</th>\n",
       "      <td>5595.245794</td>\n",
       "      <td>2.536440e+09</td>\n",
       "      <td>16.229967</td>\n",
       "      <td>322893.280814</td>\n",
       "      <td>133420.546814</td>\n",
       "      <td>32036.174350</td>\n",
       "      <td>2004.299894</td>\n",
       "      <td>799.638865</td>\n",
       "    </tr>\n",
       "    <tr>\n",
       "      <th>min</th>\n",
       "      <td>1.000000</td>\n",
       "      <td>1.234959e+09</td>\n",
       "      <td>5.000000</td>\n",
       "      <td>20.000000</td>\n",
       "      <td>0.000000</td>\n",
       "      <td>0.000000</td>\n",
       "      <td>0.000000</td>\n",
       "      <td>0.000000</td>\n",
       "    </tr>\n",
       "    <tr>\n",
       "      <th>25%</th>\n",
       "      <td>4846.250000</td>\n",
       "      <td>3.430417e+09</td>\n",
       "      <td>18.000000</td>\n",
       "      <td>4942.500000</td>\n",
       "      <td>810.750000</td>\n",
       "      <td>115.000000</td>\n",
       "      <td>7.000000</td>\n",
       "      <td>1.000000</td>\n",
       "    </tr>\n",
       "    <tr>\n",
       "      <th>50%</th>\n",
       "      <td>9691.500000</td>\n",
       "      <td>5.618664e+09</td>\n",
       "      <td>32.000000</td>\n",
       "      <td>9954.500000</td>\n",
       "      <td>3403.500000</td>\n",
       "      <td>717.000000</td>\n",
       "      <td>46.000000</td>\n",
       "      <td>9.000000</td>\n",
       "    </tr>\n",
       "    <tr>\n",
       "      <th>75%</th>\n",
       "      <td>14536.750000</td>\n",
       "      <td>7.843960e+09</td>\n",
       "      <td>47.000000</td>\n",
       "      <td>504327.000000</td>\n",
       "      <td>125020.000000</td>\n",
       "      <td>18222.000000</td>\n",
       "      <td>1156.250000</td>\n",
       "      <td>292.000000</td>\n",
       "    </tr>\n",
       "    <tr>\n",
       "      <th>max</th>\n",
       "      <td>19382.000000</td>\n",
       "      <td>9.999873e+09</td>\n",
       "      <td>60.000000</td>\n",
       "      <td>999817.000000</td>\n",
       "      <td>657830.000000</td>\n",
       "      <td>256130.000000</td>\n",
       "      <td>14994.000000</td>\n",
       "      <td>9599.000000</td>\n",
       "    </tr>\n",
       "  </tbody>\n",
       "</table>\n",
       "</div>"
      ],
      "text/plain": [
       "                  #      video_id  video_duration_sec  video_view_count  \\\n",
       "count  19382.000000  1.938200e+04        19382.000000      19084.000000   \n",
       "mean    9691.500000  5.627454e+09           32.421732     254708.558688   \n",
       "std     5595.245794  2.536440e+09           16.229967     322893.280814   \n",
       "min        1.000000  1.234959e+09            5.000000         20.000000   \n",
       "25%     4846.250000  3.430417e+09           18.000000       4942.500000   \n",
       "50%     9691.500000  5.618664e+09           32.000000       9954.500000   \n",
       "75%    14536.750000  7.843960e+09           47.000000     504327.000000   \n",
       "max    19382.000000  9.999873e+09           60.000000     999817.000000   \n",
       "\n",
       "       video_like_count  video_share_count  video_download_count  \\\n",
       "count      19084.000000       19084.000000          19084.000000   \n",
       "mean       84304.636030       16735.248323           1049.429627   \n",
       "std       133420.546814       32036.174350           2004.299894   \n",
       "min            0.000000           0.000000              0.000000   \n",
       "25%          810.750000         115.000000              7.000000   \n",
       "50%         3403.500000         717.000000             46.000000   \n",
       "75%       125020.000000       18222.000000           1156.250000   \n",
       "max       657830.000000      256130.000000          14994.000000   \n",
       "\n",
       "       video_comment_count  \n",
       "count         19084.000000  \n",
       "mean            349.312146  \n",
       "std             799.638865  \n",
       "min               0.000000  \n",
       "25%               1.000000  \n",
       "50%               9.000000  \n",
       "75%             292.000000  \n",
       "max            9599.000000  "
      ]
     },
     "execution_count": 53,
     "metadata": {},
     "output_type": "execute_result"
    }
   ],
   "source": [
    "data.describe()"
   ]
  },
  {
   "cell_type": "markdown",
   "id": "85130fd0-3a87-4280-8eb1-e0c03e85e896",
   "metadata": {},
   "source": [
    "<br>\n",
    "\n",
    "## **4. Data Cleaning**\n",
    "**Ensure** data quality by addressing missing values, duplicates, and outliers.\n",
    "\n",
    "#### **Handling Missing Values** \n"
   ]
  },
  {
   "cell_type": "code",
   "execution_count": 54,
   "id": "3823ff66-b416-402a-a881-aeea90b9ca1a",
   "metadata": {},
   "outputs": [
    {
     "data": {
      "text/html": [
       "<div>\n",
       "<style scoped>\n",
       "    .dataframe tbody tr th:only-of-type {\n",
       "        vertical-align: middle;\n",
       "    }\n",
       "\n",
       "    .dataframe tbody tr th {\n",
       "        vertical-align: top;\n",
       "    }\n",
       "\n",
       "    .dataframe thead th {\n",
       "        text-align: right;\n",
       "    }\n",
       "</style>\n",
       "<table border=\"1\" class=\"dataframe\">\n",
       "  <thead>\n",
       "    <tr style=\"text-align: right;\">\n",
       "      <th></th>\n",
       "      <th>missing</th>\n",
       "      <th>percentage</th>\n",
       "    </tr>\n",
       "  </thead>\n",
       "  <tbody>\n",
       "    <tr>\n",
       "      <th>#</th>\n",
       "      <td>0</td>\n",
       "      <td>0.0%</td>\n",
       "    </tr>\n",
       "    <tr>\n",
       "      <th>claim_status</th>\n",
       "      <td>298</td>\n",
       "      <td>1.54%</td>\n",
       "    </tr>\n",
       "    <tr>\n",
       "      <th>video_id</th>\n",
       "      <td>0</td>\n",
       "      <td>0.0%</td>\n",
       "    </tr>\n",
       "    <tr>\n",
       "      <th>video_duration_sec</th>\n",
       "      <td>0</td>\n",
       "      <td>0.0%</td>\n",
       "    </tr>\n",
       "    <tr>\n",
       "      <th>video_transcription_text</th>\n",
       "      <td>298</td>\n",
       "      <td>1.54%</td>\n",
       "    </tr>\n",
       "    <tr>\n",
       "      <th>verified_status</th>\n",
       "      <td>0</td>\n",
       "      <td>0.0%</td>\n",
       "    </tr>\n",
       "    <tr>\n",
       "      <th>author_ban_status</th>\n",
       "      <td>0</td>\n",
       "      <td>0.0%</td>\n",
       "    </tr>\n",
       "    <tr>\n",
       "      <th>video_view_count</th>\n",
       "      <td>298</td>\n",
       "      <td>1.54%</td>\n",
       "    </tr>\n",
       "    <tr>\n",
       "      <th>video_like_count</th>\n",
       "      <td>298</td>\n",
       "      <td>1.54%</td>\n",
       "    </tr>\n",
       "    <tr>\n",
       "      <th>video_share_count</th>\n",
       "      <td>298</td>\n",
       "      <td>1.54%</td>\n",
       "    </tr>\n",
       "    <tr>\n",
       "      <th>video_download_count</th>\n",
       "      <td>298</td>\n",
       "      <td>1.54%</td>\n",
       "    </tr>\n",
       "    <tr>\n",
       "      <th>video_comment_count</th>\n",
       "      <td>298</td>\n",
       "      <td>1.54%</td>\n",
       "    </tr>\n",
       "  </tbody>\n",
       "</table>\n",
       "</div>"
      ],
      "text/plain": [
       "                          missing percentage\n",
       "#                               0       0.0%\n",
       "claim_status                  298      1.54%\n",
       "video_id                        0       0.0%\n",
       "video_duration_sec              0       0.0%\n",
       "video_transcription_text      298      1.54%\n",
       "verified_status                 0       0.0%\n",
       "author_ban_status               0       0.0%\n",
       "video_view_count              298      1.54%\n",
       "video_like_count              298      1.54%\n",
       "video_share_count             298      1.54%\n",
       "video_download_count          298      1.54%\n",
       "video_comment_count           298      1.54%"
      ]
     },
     "execution_count": 54,
     "metadata": {},
     "output_type": "execute_result"
    }
   ],
   "source": [
    "# Check for missing values\n",
    "missing = data.isnull().sum()\n",
    "percentage = missing / len(data) * 100\n",
    "missing_df = pd.DataFrame({\n",
    "    'missing': missing,\n",
    "    'percentage': percentage.round(2).astype(str) + '%'\n",
    "})\n",
    "missing_df"
   ]
  },
  {
   "cell_type": "markdown",
   "id": "caea203a-ebfd-44b7-af39-291a268fa5c6",
   "metadata": {},
   "source": [
    "***Note:*** As established in the previous EDA, there are missing values across the same 7 columns in 298 rows. Since dropping these rows only reduces the dataset by 1.54%, which is a minimal loss, I will proceed to drop them now to maintain the integrity of the analysis."
   ]
  },
  {
   "cell_type": "code",
   "execution_count": 55,
   "id": "14df920d-7673-49a8-9954-4bb6c93ee3a9",
   "metadata": {},
   "outputs": [],
   "source": [
    "# Drop rows with missing values\n",
    "data_cleaned = data.dropna().reset_index(drop=True)"
   ]
  },
  {
   "cell_type": "code",
   "execution_count": 56,
   "id": "57251bc5-fb6c-4181-81a4-93c5bc52eea7",
   "metadata": {},
   "outputs": [
    {
     "data": {
      "text/plain": [
       "#                           0\n",
       "claim_status                0\n",
       "video_id                    0\n",
       "video_duration_sec          0\n",
       "video_transcription_text    0\n",
       "verified_status             0\n",
       "author_ban_status           0\n",
       "video_view_count            0\n",
       "video_like_count            0\n",
       "video_share_count           0\n",
       "video_download_count        0\n",
       "video_comment_count         0\n",
       "dtype: int64"
      ]
     },
     "execution_count": 56,
     "metadata": {},
     "output_type": "execute_result"
    }
   ],
   "source": [
    "# Confirm changes\n",
    "data_cleaned.isnull().sum()"
   ]
  },
  {
   "cell_type": "markdown",
   "id": "a2913dec-d7bc-4d7b-a3ac-878ea9c732d6",
   "metadata": {},
   "source": [
    "**All** missing values have now been dropped leaving **19,084** rows of data.\n",
    "\n",
    "<br>\n",
    "\n",
    "#### **Check for and Handle Duplicates**"
   ]
  },
  {
   "cell_type": "code",
   "execution_count": 57,
   "id": "4526d56c-8d04-4162-89dd-6a2687d1b96c",
   "metadata": {},
   "outputs": [
    {
     "data": {
      "text/plain": [
       "np.int64(0)"
      ]
     },
     "execution_count": 57,
     "metadata": {},
     "output_type": "execute_result"
    }
   ],
   "source": [
    "# Check for duplicate rows\n",
    "data_cleaned.duplicated().sum()"
   ]
  },
  {
   "cell_type": "markdown",
   "id": "be902388-bf84-45f1-9f4d-56fadb71056c",
   "metadata": {},
   "source": [
    "***Note:*** Zero duplicates observed.  No action required.\n",
    "\n",
    "<br>\n",
    "\n",
    "#### **Handling Outliers**\n",
    "\n",
    "**Tree-Based** machine learning models are usually quite robust to outliers so the outliers observed in previous stages can be left as is."
   ]
  },
  {
   "cell_type": "markdown",
   "id": "8b3fc63f-73ca-4622-8b88-1da7cb059612",
   "metadata": {},
   "source": [
    "<br>\n",
    "\n",
    "## **5. Begin Model Assessment and Preparation**\n",
    "\n",
    "#### **Assess Class Imbalance**\n",
    "\n",
    "**Prepare** data for modelling by ensuring balanced classes."
   ]
  },
  {
   "cell_type": "code",
   "execution_count": 58,
   "id": "bc168708-fe76-4440-bcc5-014ea0990166",
   "metadata": {},
   "outputs": [
    {
     "data": {
      "text/html": [
       "<div>\n",
       "<style scoped>\n",
       "    .dataframe tbody tr th:only-of-type {\n",
       "        vertical-align: middle;\n",
       "    }\n",
       "\n",
       "    .dataframe tbody tr th {\n",
       "        vertical-align: top;\n",
       "    }\n",
       "\n",
       "    .dataframe thead th {\n",
       "        text-align: right;\n",
       "    }\n",
       "</style>\n",
       "<table border=\"1\" class=\"dataframe\">\n",
       "  <thead>\n",
       "    <tr style=\"text-align: right;\">\n",
       "      <th></th>\n",
       "      <th>claim_status</th>\n",
       "      <th>balance</th>\n",
       "    </tr>\n",
       "    <tr>\n",
       "      <th>claim_status</th>\n",
       "      <th></th>\n",
       "      <th></th>\n",
       "    </tr>\n",
       "  </thead>\n",
       "  <tbody>\n",
       "    <tr>\n",
       "      <th>claim</th>\n",
       "      <td>9608</td>\n",
       "      <td>50.35%</td>\n",
       "    </tr>\n",
       "    <tr>\n",
       "      <th>opinion</th>\n",
       "      <td>9476</td>\n",
       "      <td>49.65%</td>\n",
       "    </tr>\n",
       "  </tbody>\n",
       "</table>\n",
       "</div>"
      ],
      "text/plain": [
       "              claim_status balance\n",
       "claim_status                      \n",
       "claim                 9608  50.35%\n",
       "opinion               9476  49.65%"
      ]
     },
     "execution_count": 58,
     "metadata": {},
     "output_type": "execute_result"
    }
   ],
   "source": [
    "# Check class balance\n",
    "values = data_cleaned['claim_status'].value_counts()\n",
    "distribution = values / values.sum() * 100\n",
    "balance_df = pd.DataFrame({\n",
    "    'claim_status': values,\n",
    "    'balance': distribution.round(2).astype(str) + \"%\"\n",
    "})\n",
    "balance_df"
   ]
  },
  {
   "cell_type": "markdown",
   "id": "c28bab37-3ac3-4d0e-9ca1-e9e2bdef3c39",
   "metadata": {},
   "source": [
    "***Note:*** The target variable is well-balanced, with **50.35% classified as claims** and **49.65% as opinions**, ensuring that the model has an equal opportunity to learn and predict both classes effectively."
   ]
  },
  {
   "cell_type": "markdown",
   "id": "c97adeb3-5c5d-4bf6-8cdc-03d717cab512",
   "metadata": {},
   "source": [
    "<br>\n",
    "\n",
    "## **6. Feature Engineering**\n",
    "\n",
    "#### **Transform `video_transcription_text`**\n",
    "\n",
    "**Extract** the length of each `video_transcription_text` and add it as a new column in the DataFrame to use as a potential feature for the model."
   ]
  },
  {
   "cell_type": "code",
   "execution_count": 59,
   "id": "e2609e9c-d0aa-42cb-be29-2387712a9358",
   "metadata": {},
   "outputs": [
    {
     "data": {
      "text/html": [
       "<div>\n",
       "<style scoped>\n",
       "    .dataframe tbody tr th:only-of-type {\n",
       "        vertical-align: middle;\n",
       "    }\n",
       "\n",
       "    .dataframe tbody tr th {\n",
       "        vertical-align: top;\n",
       "    }\n",
       "\n",
       "    .dataframe thead th {\n",
       "        text-align: right;\n",
       "    }\n",
       "</style>\n",
       "<table border=\"1\" class=\"dataframe\">\n",
       "  <thead>\n",
       "    <tr style=\"text-align: right;\">\n",
       "      <th></th>\n",
       "      <th>text_length</th>\n",
       "      <th>video_transcription_text</th>\n",
       "    </tr>\n",
       "  </thead>\n",
       "  <tbody>\n",
       "    <tr>\n",
       "      <th>0</th>\n",
       "      <td>97</td>\n",
       "      <td>someone shared with me that drone deliveries a...</td>\n",
       "    </tr>\n",
       "    <tr>\n",
       "      <th>1</th>\n",
       "      <td>107</td>\n",
       "      <td>someone shared with me that there are more mic...</td>\n",
       "    </tr>\n",
       "    <tr>\n",
       "      <th>2</th>\n",
       "      <td>137</td>\n",
       "      <td>someone shared with me that american industria...</td>\n",
       "    </tr>\n",
       "    <tr>\n",
       "      <th>3</th>\n",
       "      <td>131</td>\n",
       "      <td>someone shared with me that the metro of st. p...</td>\n",
       "    </tr>\n",
       "    <tr>\n",
       "      <th>4</th>\n",
       "      <td>128</td>\n",
       "      <td>someone shared with me that the number of busi...</td>\n",
       "    </tr>\n",
       "  </tbody>\n",
       "</table>\n",
       "</div>"
      ],
      "text/plain": [
       "   text_length                           video_transcription_text\n",
       "0           97  someone shared with me that drone deliveries a...\n",
       "1          107  someone shared with me that there are more mic...\n",
       "2          137  someone shared with me that american industria...\n",
       "3          131  someone shared with me that the metro of st. p...\n",
       "4          128  someone shared with me that the number of busi..."
      ]
     },
     "execution_count": 59,
     "metadata": {},
     "output_type": "execute_result"
    }
   ],
   "source": [
    "# Extract the length of each `video_transcription_text` and add this as a column to the dataframe\n",
    "data_cleaned['text_length'] = data_cleaned['video_transcription_text'].str.len()\n",
    "data_cleaned[['text_length', 'video_transcription_text']].head()"
   ]
  },
  {
   "cell_type": "code",
   "execution_count": 60,
   "id": "b5f80de2-7a32-4f0c-a5a9-b3540d468178",
   "metadata": {},
   "outputs": [
    {
     "data": {
      "text/plain": [
       "claim_status\n",
       "claim      95.376978\n",
       "opinion    82.722562\n",
       "Name: text_length, dtype: float64"
      ]
     },
     "execution_count": 60,
     "metadata": {},
     "output_type": "execute_result"
    }
   ],
   "source": [
    "# Calculate the average text_length for claims and opinions\n",
    "avg_claim_text_length = data_cleaned.groupby('claim_status')['text_length'].mean()\n",
    "avg_claim_text_length"
   ]
  },
  {
   "cell_type": "markdown",
   "id": "a6a42d33-d720-4d1a-8fd7-04b73e8dfcb0",
   "metadata": {},
   "source": [
    "***Note:*** **Claim (95.38)** has a higher average text_length than **opinions (82.72)**\n",
    "\n",
    "<br>"
   ]
  },
  {
   "cell_type": "code",
   "execution_count": 61,
   "id": "e3f073c4-7284-4c59-95a9-70682bca6f6a",
   "metadata": {},
   "outputs": [
    {
     "data": {
      "image/png": "[encoded data removed]",
      "text/plain": [
       "<Figure size 600x400 with 1 Axes>"
      ]
     },
     "metadata": {},
     "output_type": "display_data"
    }
   ],
   "source": [
    "# Visualize the distribution of `text_length` for claims and opinions\n",
    "plt.figure(figsize=(6,4))\n",
    "tiktok_colours = [\"#20D5EC\", \"#000000\"]\n",
    "sns.histplot(data=data_cleaned, stat=\"count\", multiple=\"dodge\", x=\"text_length\", kde=False, palette=tiktok_colours, \n",
    "             hue=\"claim_status\", element=\"bars\", legend=True)\n",
    "plt.xlabel(\"Character Count of Video Transcription Text\")\n",
    "plt.ylabel(\"Count\")\n",
    "plt.title(\"Distribution of Video Transcription Length for Claims vs. Opinions\")\n",
    "plt.show()"
   ]
  },
  {
   "cell_type": "markdown",
   "id": "331abb96-2458-465b-98ce-9f70b7c4654c",
   "metadata": {},
   "source": [
    "***Note:*** The histogram reveals a subtle difference in the distribution of transcription text length between claims and opinions.\n",
    "\n",
    "* Claims tend to have slightly longer transcription lengths, with a peak around 90-100 characters.\n",
    "* Opinions are more concentrated in the 70-80 character range.\n",
    "* The overlap between the distributions indicates that text length alone is not a definitive distinguishing factor but could still provide moderate predictive power when combined with other features.\n",
    "\n",
    "**Business Takeaway:**  \n",
    "Text length offers limited but meaningful differentiation between claims and opinions. It can serve as a supporting feature in the model, especially when used alongside more impactful features like engagement metrics."
   ]
  },
  {
   "cell_type": "markdown",
   "id": "9650b154-c6cd-467d-a43d-86014b91b1d5",
   "metadata": {},
   "source": [
    "<br>\n",
    "\n",
    "**Encode** target and categorical variables."
   ]
  },
  {
   "cell_type": "code",
   "execution_count": 62,
   "id": "3505734c-26ca-41f7-815a-0ba82e575588",
   "metadata": {},
   "outputs": [],
   "source": [
    "# Encode target variable\n",
    "pd.set_option('future.no_silent_downcasting', True)\n",
    "data_cleaned['claim_status'] = data_cleaned['claim_status'].replace({'opinion': 0, 'claim': 1}).astype(int)"
   ]
  },
  {
   "cell_type": "code",
   "execution_count": 63,
   "id": "fa77b012-5739-4b98-9bcc-e882a4347ae3",
   "metadata": {},
   "outputs": [],
   "source": [
    "# Dummy encode remaining categorical values\n",
    "data_cleaned = pd.get_dummies(data_cleaned, \n",
    "                  columns=['verified_status', 'author_ban_status'],\n",
    "                  drop_first=True)"
   ]
  },
  {
   "cell_type": "markdown",
   "id": "65743c5b-12b4-48e9-a0f5-388e3bb0a882",
   "metadata": {},
   "source": [
    "<br>\n",
    "\n",
    "**Remove** all unecessary columns and view final dataset."
   ]
  },
  {
   "cell_type": "code",
   "execution_count": 64,
   "id": "c551c801-a5af-49db-8412-0eb3ed1d39aa",
   "metadata": {},
   "outputs": [
    {
     "data": {
      "text/html": [
       "<div>\n",
       "<style scoped>\n",
       "    .dataframe tbody tr th:only-of-type {\n",
       "        vertical-align: middle;\n",
       "    }\n",
       "\n",
       "    .dataframe tbody tr th {\n",
       "        vertical-align: top;\n",
       "    }\n",
       "\n",
       "    .dataframe thead th {\n",
       "        text-align: right;\n",
       "    }\n",
       "</style>\n",
       "<table border=\"1\" class=\"dataframe\">\n",
       "  <thead>\n",
       "    <tr style=\"text-align: right;\">\n",
       "      <th></th>\n",
       "      <th>claim_status</th>\n",
       "      <th>video_duration_sec</th>\n",
       "      <th>video_transcription_text</th>\n",
       "      <th>video_view_count</th>\n",
       "      <th>video_like_count</th>\n",
       "      <th>video_share_count</th>\n",
       "      <th>video_download_count</th>\n",
       "      <th>video_comment_count</th>\n",
       "      <th>text_length</th>\n",
       "      <th>verified_status_verified</th>\n",
       "      <th>author_ban_status_banned</th>\n",
       "      <th>author_ban_status_under review</th>\n",
       "    </tr>\n",
       "  </thead>\n",
       "  <tbody>\n",
       "    <tr>\n",
       "      <th>0</th>\n",
       "      <td>1</td>\n",
       "      <td>59</td>\n",
       "      <td>someone shared with me that drone deliveries a...</td>\n",
       "      <td>343296.0</td>\n",
       "      <td>19425.0</td>\n",
       "      <td>241.0</td>\n",
       "      <td>1.0</td>\n",
       "      <td>0.0</td>\n",
       "      <td>97</td>\n",
       "      <td>False</td>\n",
       "      <td>False</td>\n",
       "      <td>True</td>\n",
       "    </tr>\n",
       "    <tr>\n",
       "      <th>1</th>\n",
       "      <td>1</td>\n",
       "      <td>32</td>\n",
       "      <td>someone shared with me that there are more mic...</td>\n",
       "      <td>140877.0</td>\n",
       "      <td>77355.0</td>\n",
       "      <td>19034.0</td>\n",
       "      <td>1161.0</td>\n",
       "      <td>684.0</td>\n",
       "      <td>107</td>\n",
       "      <td>False</td>\n",
       "      <td>False</td>\n",
       "      <td>False</td>\n",
       "    </tr>\n",
       "    <tr>\n",
       "      <th>2</th>\n",
       "      <td>1</td>\n",
       "      <td>31</td>\n",
       "      <td>someone shared with me that american industria...</td>\n",
       "      <td>902185.0</td>\n",
       "      <td>97690.0</td>\n",
       "      <td>2858.0</td>\n",
       "      <td>833.0</td>\n",
       "      <td>329.0</td>\n",
       "      <td>137</td>\n",
       "      <td>False</td>\n",
       "      <td>False</td>\n",
       "      <td>False</td>\n",
       "    </tr>\n",
       "    <tr>\n",
       "      <th>3</th>\n",
       "      <td>1</td>\n",
       "      <td>25</td>\n",
       "      <td>someone shared with me that the metro of st. p...</td>\n",
       "      <td>437506.0</td>\n",
       "      <td>239954.0</td>\n",
       "      <td>34812.0</td>\n",
       "      <td>1234.0</td>\n",
       "      <td>584.0</td>\n",
       "      <td>131</td>\n",
       "      <td>False</td>\n",
       "      <td>False</td>\n",
       "      <td>False</td>\n",
       "    </tr>\n",
       "    <tr>\n",
       "      <th>4</th>\n",
       "      <td>1</td>\n",
       "      <td>19</td>\n",
       "      <td>someone shared with me that the number of busi...</td>\n",
       "      <td>56167.0</td>\n",
       "      <td>34987.0</td>\n",
       "      <td>4110.0</td>\n",
       "      <td>547.0</td>\n",
       "      <td>152.0</td>\n",
       "      <td>128</td>\n",
       "      <td>False</td>\n",
       "      <td>False</td>\n",
       "      <td>False</td>\n",
       "    </tr>\n",
       "  </tbody>\n",
       "</table>\n",
       "</div>"
      ],
      "text/plain": [
       "   claim_status  video_duration_sec  \\\n",
       "0             1                  59   \n",
       "1             1                  32   \n",
       "2             1                  31   \n",
       "3             1                  25   \n",
       "4             1                  19   \n",
       "\n",
       "                            video_transcription_text  video_view_count  \\\n",
       "0  someone shared with me that drone deliveries a...          343296.0   \n",
       "1  someone shared with me that there are more mic...          140877.0   \n",
       "2  someone shared with me that american industria...          902185.0   \n",
       "3  someone shared with me that the metro of st. p...          437506.0   \n",
       "4  someone shared with me that the number of busi...           56167.0   \n",
       "\n",
       "   video_like_count  video_share_count  video_download_count  \\\n",
       "0           19425.0              241.0                   1.0   \n",
       "1           77355.0            19034.0                1161.0   \n",
       "2           97690.0             2858.0                 833.0   \n",
       "3          239954.0            34812.0                1234.0   \n",
       "4           34987.0             4110.0                 547.0   \n",
       "\n",
       "   video_comment_count  text_length  verified_status_verified  \\\n",
       "0                  0.0           97                     False   \n",
       "1                684.0          107                     False   \n",
       "2                329.0          137                     False   \n",
       "3                584.0          131                     False   \n",
       "4                152.0          128                     False   \n",
       "\n",
       "   author_ban_status_banned  author_ban_status_under review  \n",
       "0                     False                            True  \n",
       "1                     False                           False  \n",
       "2                     False                           False  \n",
       "3                     False                           False  \n",
       "4                     False                           False  "
      ]
     },
     "execution_count": 64,
     "metadata": {},
     "output_type": "execute_result"
    }
   ],
   "source": [
    "# Drop unnecessary columns\n",
    "data_cleaned = data_cleaned.drop(['#', 'video_id'], axis=1)\n",
    "\n",
    "# View cleaned and prepared dataset\n",
    "data_cleaned.head()"
   ]
  },
  {
   "cell_type": "code",
   "execution_count": 66,
   "id": "b553177c-6add-4ac1-a87c-d6893eef7ed2",
   "metadata": {},
   "outputs": [
    {
     "name": "stdout",
     "output_type": "stream",
     "text": [
      "<class 'pandas.core.frame.DataFrame'>\n",
      "RangeIndex: 19084 entries, 0 to 19083\n",
      "Data columns (total 12 columns):\n",
      " #   Column                          Non-Null Count  Dtype  \n",
      "---  ------                          --------------  -----  \n",
      " 0   claim_status                    19084 non-null  int64  \n",
      " 1   video_duration_sec              19084 non-null  int64  \n",
      " 2   video_transcription_text        19084 non-null  object \n",
      " 3   video_view_count                19084 non-null  float64\n",
      " 4   video_like_count                19084 non-null  float64\n",
      " 5   video_share_count               19084 non-null  float64\n",
      " 6   video_download_count            19084 non-null  float64\n",
      " 7   video_comment_count             19084 non-null  float64\n",
      " 8   text_length                     19084 non-null  int64  \n",
      " 9   verified_status_verified        19084 non-null  bool   \n",
      " 10  author_ban_status_banned        19084 non-null  bool   \n",
      " 11  author_ban_status_under review  19084 non-null  bool   \n",
      "dtypes: bool(3), float64(5), int64(3), object(1)\n",
      "memory usage: 1.4+ MB\n"
     ]
    }
   ],
   "source": [
    "# Review basic information about the data\n",
    "data_cleaned.info()"
   ]
  },
  {
   "cell_type": "markdown",
   "id": "9db70ace-dab6-479c-9c12-f8ce9fe59ae8",
   "metadata": {},
   "source": [
    "***Note:*** Both target variables and predictive feature data types are ready for model creation except for `video_transcription_text`.  I have kept that feature for now as I have something planned for that column in subsequent notebooks.\n",
    "\n",
    "<br>\n",
    "\n",
    "## **7. Export Cleaned Dataset**"
   ]
  },
  {
   "cell_type": "code",
   "execution_count": 67,
   "id": "74f30bcc-7d2e-4fcb-8441-42329d2f9dd2",
   "metadata": {},
   "outputs": [],
   "source": [
    "# Export the cleaned dataset to a CSV file\n",
    "data_cleaned.to_csv(\"cleaned_tiktok_dataset.csv\", index=False)"
   ]
  },
  {
   "cell_type": "markdown",
   "id": "b632e33d-8e6f-43d7-9194-9cf3a070bf99",
   "metadata": {},
   "source": [
    "#### **Final Note**\n",
    "\n",
    "This notebook successfully establishes a clean and well-structured dataset, ready for model-building in subsequent steps of the project. By addressing data quality issues, feature engineering, and pre-model preparation, it lays a solid foundation to ensure consistency, accuracy, and efficiency across all future workflows."
   ]
  }
 ],
 "metadata": {
  "kernelspec": {
   "display_name": "Python 3 (ipykernel)",
   "language": "python",
   "name": "python3"
  },
  "language_info": {
   "codemirror_mode": {
    "name": "ipython",
    "version": 3
   },
   "file_extension": ".py",
   "mimetype": "text/x-python",
   "name": "python",
   "nbconvert_exporter": "python",
   "pygments_lexer": "ipython3",
   "version": "3.12.4"
  }
 },
 "nbformat": 4,
 "nbformat_minor": 5
}
