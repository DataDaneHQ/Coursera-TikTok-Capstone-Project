{
 "cells": [
  {
   "cell_type": "markdown",
   "id": "9facdd88-5bb1-4efb-abbc-71bf6f175b59",
   "metadata": {
    "editable": true,
    "slideshow": {
     "slide_type": ""
    },
    "tags": []
   },
   "source": [
    "# **TikTok Claims Classification Project: Regression Modelling**"
   ]
  },
  {
   "cell_type": "markdown",
   "id": "56c6a587-f153-4cce-9a5f-dc9018a061e4",
   "metadata": {
    "editable": true,
    "slideshow": {
     "slide_type": ""
    },
    "tags": []
   },
   "source": [
    "<img src=\"..\\Images\\Bubble logo.png\" alt=\"Logo\" style=\"float:left; width:120px; height:120px;\">"
   ]
  },
  {
   "cell_type": "markdown",
   "id": "b7a5dda9-ce8f-4f57-80a8-b67a982a8cb0",
   "metadata": {},
   "source": [
    "## **Introduction**\n",
    "\n",
    "The data team is developing a machine learning model to classify videos as either containing a claim or offering an opinion. This predictive model aims to help TikTok streamline the handling of user reports, reducing backlog and improving prioritization efficiency.\n",
    "\n",
    "Progress on the project is well underway, with the team having completed an action plan, initial Python coding, exploratory data analysis (EDA), and hypothesis testing. Following a review of the hypothesis testing results, TikTok’s Operations Lead, Maika Abadi, expressed interest in understanding how various factors are associated with user verification status. Initial observations suggest that verified users are more likely to post opinion-based videos.\n",
    "\n",
    "To gain deeper insights, the data team has decided to investigate the predictors of verification status. I have been tasked with conducting a logistic regression analysis using verified status as the outcome variable. The findings from this analysis may provide valuable context for the final model to distinguish between claims and opinions in video content."
   ]
  },
  {
   "cell_type": "markdown",
   "id": "cb0c3d97-f3e7-4561-9900-3612a3eadbb4",
   "metadata": {
    "editable": true,
    "slideshow": {
     "slide_type": ""
    },
    "tags": []
   },
   "source": [
    "## **Contents**\n",
    "\n",
    "#### **Plan**\n",
    "1. Environment and Version Verification\n",
    "2. Import Libraries and Packages\n",
    "3. Import Dataset\n",
    "\n",
    "#### **Analyze**\n",
    "4. Data Validation\n",
    "5. Data Cleaning\n",
    "6. Confirm Data Team's Observations\n",
    "7. Begin Model Assessment and Preparation\n",
    "8. Feature Engineering\n",
    "9. Examine Correlations\n",
    "\n",
    "#### **Construct**\n",
    "10. Variable Selection\n",
    "11. Train-Test Split\n",
    "12. Encode Variables\n",
    "13. Encode Outcome Variable\n",
    "14. Model Building\n",
    "\n",
    "#### **Execute**\n",
    "15. Results and Evaluation\n",
    "16. Visualize Model Results\n",
    "17. Interpret Model Coefficients\n",
    "\n",
    "#### **Conclusion**"
   ]
  },
  {
   "cell_type": "markdown",
   "id": "34689db0-41d1-4899-89ee-e33497d45488",
   "metadata": {
    "editable": true,
    "slideshow": {
     "slide_type": ""
    },
    "tags": []
   },
   "source": [
    "<br>\n",
    "\n",
    "# **Plan Phase:**\n",
    "\n",
    "## **1. Environment and Version Verification**\n",
    "\n",
    "**Ensure** compatibility and track the software versions used for this analysis to support reproducibility and troubleshooting."
   ]
  },
  {
   "cell_type": "code",
   "execution_count": 1,
   "id": "9af2ede6-d93b-4701-8853-e3b84054300a",
   "metadata": {
    "editable": true,
    "slideshow": {
     "slide_type": ""
    },
    "tags": []
   },
   "outputs": [
    {
     "name": "stdout",
     "output_type": "stream",
     "text": [
      "Python Version:  3.12.4\n",
      "Numpy Version:  2.0.1\n",
      "Pandas Version:  2.2.2\n",
      "Statsmodels Version:  0.14.2\n"
     ]
    }
   ],
   "source": [
    "import platform\n",
    "import statsmodels\n",
    "import pandas as pd\n",
    "import numpy as np\n",
    "print('Python Version: ', platform.python_version())\n",
    "print('Numpy Version: ', np.__version__)\n",
    "print('Pandas Version: ', pd.__version__)\n",
    "print('Statsmodels Version: ', statsmodels.__version__)"
   ]
  },
  {
   "cell_type": "markdown",
   "id": "d7517988-3c8d-4065-9383-ba9435405b6d",
   "metadata": {},
   "source": [
    "<br>\n",
    "\n",
    "## **2. Import Libraries and Packages**\n",
    "\n",
    "**Import** necessary libraries for data manipulation, visualization, and modelling."
   ]
  },
  {
   "cell_type": "code",
   "execution_count": 2,
   "id": "6f931acf-2b08-48ba-af5a-a07a1bc62fa7",
   "metadata": {
    "editable": true,
    "slideshow": {
     "slide_type": ""
    },
    "tags": []
   },
   "outputs": [],
   "source": [
    "# Import packages for data manipulation\n",
    "import pandas as pd\n",
    "import numpy as np\n",
    "\n",
    "# Import packages for data visualization\n",
    "import matplotlib.pyplot as plt\n",
    "from matplotlib.colors import LinearSegmentedColormap\n",
    "import seaborn as sns\n",
    "from sklearn.metrics import ConfusionMatrixDisplay\n",
    "\n",
    "# Import packages for data preprocessing\n",
    "from sklearn.preprocessing import StandardScaler, OneHotEncoder\n",
    "from sklearn.model_selection import train_test_split\n",
    "from sklearn.impute import SimpleImputer\n",
    "from sklearn.utils import resample\n",
    "\n",
    "# Import packages for data modeling\n",
    "from sklearn.linear_model import LogisticRegression\n",
    "import statsmodels.api as sm\n",
    "\n",
    "# Import packages for model evaluation and metrics\n",
    "from sklearn import metrics\n",
    "from sklearn.metrics import classification_report, confusion_matrix\n",
    "from statsmodels.stats.outliers_influence import variance_inflation_factor"
   ]
  },
  {
   "cell_type": "markdown",
   "id": "fd3f72ca-28d9-4a6e-ba5e-d509d4a6baab",
   "metadata": {},
   "source": [
    "<br>\n",
    "\n",
    "## **3. Import Dataset**\n",
    "\n",
    "**Load** the dataset into a DataFrame for exploration and analysis."
   ]
  },
  {
   "cell_type": "code",
   "execution_count": 3,
   "id": "8e9ed69d-e17b-4c08-ad9b-f5a1d48c9f1b",
   "metadata": {},
   "outputs": [],
   "source": [
    "# Load dataset into dataframe\n",
    "df = pd.read_csv(r'C:\\Users\\danet\\Documents\\tiktok_dataset.csv')"
   ]
  },
  {
   "cell_type": "markdown",
   "id": "866138bb-39d2-4134-b0f8-1d6a419856c8",
   "metadata": {},
   "source": [
    "<br>\n",
    "\n",
    "# **Analyse Phase:** \n",
    "\n",
    "## **4. Data Validation**\n",
    "\n",
    "**Inspect** first few rows"
   ]
  },
  {
   "cell_type": "code",
   "execution_count": 4,
   "id": "0cd31b0a-aec1-4fbe-9e26-4e703d33318f",
   "metadata": {},
   "outputs": [
    {
     "data": {
      "text/html": [
       "<div>\n",
       "<style scoped>\n",
       "    .dataframe tbody tr th:only-of-type {\n",
       "        vertical-align: middle;\n",
       "    }\n",
       "\n",
       "    .dataframe tbody tr th {\n",
       "        vertical-align: top;\n",
       "    }\n",
       "\n",
       "    .dataframe thead th {\n",
       "        text-align: right;\n",
       "    }\n",
       "</style>\n",
       "<table border=\"1\" class=\"dataframe\">\n",
       "  <thead>\n",
       "    <tr style=\"text-align: right;\">\n",
       "      <th></th>\n",
       "      <th>#</th>\n",
       "      <th>claim_status</th>\n",
       "      <th>video_id</th>\n",
       "      <th>video_duration_sec</th>\n",
       "      <th>video_transcription_text</th>\n",
       "      <th>verified_status</th>\n",
       "      <th>author_ban_status</th>\n",
       "      <th>video_view_count</th>\n",
       "      <th>video_like_count</th>\n",
       "      <th>video_share_count</th>\n",
       "      <th>video_download_count</th>\n",
       "      <th>video_comment_count</th>\n",
       "    </tr>\n",
       "  </thead>\n",
       "  <tbody>\n",
       "    <tr>\n",
       "      <th>0</th>\n",
       "      <td>1</td>\n",
       "      <td>claim</td>\n",
       "      <td>7017666017</td>\n",
       "      <td>59</td>\n",
       "      <td>someone shared with me that drone deliveries a...</td>\n",
       "      <td>not verified</td>\n",
       "      <td>under review</td>\n",
       "      <td>343296.0</td>\n",
       "      <td>19425.0</td>\n",
       "      <td>241.0</td>\n",
       "      <td>1.0</td>\n",
       "      <td>0.0</td>\n",
       "    </tr>\n",
       "    <tr>\n",
       "      <th>1</th>\n",
       "      <td>2</td>\n",
       "      <td>claim</td>\n",
       "      <td>4014381136</td>\n",
       "      <td>32</td>\n",
       "      <td>someone shared with me that there are more mic...</td>\n",
       "      <td>not verified</td>\n",
       "      <td>active</td>\n",
       "      <td>140877.0</td>\n",
       "      <td>77355.0</td>\n",
       "      <td>19034.0</td>\n",
       "      <td>1161.0</td>\n",
       "      <td>684.0</td>\n",
       "    </tr>\n",
       "    <tr>\n",
       "      <th>2</th>\n",
       "      <td>3</td>\n",
       "      <td>claim</td>\n",
       "      <td>9859838091</td>\n",
       "      <td>31</td>\n",
       "      <td>someone shared with me that american industria...</td>\n",
       "      <td>not verified</td>\n",
       "      <td>active</td>\n",
       "      <td>902185.0</td>\n",
       "      <td>97690.0</td>\n",
       "      <td>2858.0</td>\n",
       "      <td>833.0</td>\n",
       "      <td>329.0</td>\n",
       "    </tr>\n",
       "  </tbody>\n",
       "</table>\n",
       "</div>"
      ],
      "text/plain": [
       "   # claim_status    video_id  video_duration_sec  \\\n",
       "0  1        claim  7017666017                  59   \n",
       "1  2        claim  4014381136                  32   \n",
       "2  3        claim  9859838091                  31   \n",
       "\n",
       "                            video_transcription_text verified_status  \\\n",
       "0  someone shared with me that drone deliveries a...    not verified   \n",
       "1  someone shared with me that there are more mic...    not verified   \n",
       "2  someone shared with me that american industria...    not verified   \n",
       "\n",
       "  author_ban_status  video_view_count  video_like_count  video_share_count  \\\n",
       "0      under review          343296.0           19425.0              241.0   \n",
       "1            active          140877.0           77355.0            19034.0   \n",
       "2            active          902185.0           97690.0             2858.0   \n",
       "\n",
       "   video_download_count  video_comment_count  \n",
       "0                   1.0                  0.0  \n",
       "1                1161.0                684.0  \n",
       "2                 833.0                329.0  "
      ]
     },
     "execution_count": 4,
     "metadata": {},
     "output_type": "execute_result"
    }
   ],
   "source": [
    "# Display first few rows\n",
    "df.head(3)"
   ]
  },
  {
   "cell_type": "markdown",
   "id": "5ab4aaec-f367-4b9a-99a4-b145acaf2f80",
   "metadata": {
    "editable": true,
    "slideshow": {
     "slide_type": ""
    },
    "tags": []
   },
   "source": [
    "<br>\n",
    "\n",
    "**View** basic information about the data"
   ]
  },
  {
   "cell_type": "code",
   "execution_count": 5,
   "id": "7503ef68-0a24-4664-9b96-b7dbc2700cf9",
   "metadata": {
    "editable": true,
    "slideshow": {
     "slide_type": ""
    },
    "tags": []
   },
   "outputs": [
    {
     "name": "stdout",
     "output_type": "stream",
     "text": [
      "<class 'pandas.core.frame.DataFrame'>\n",
      "RangeIndex: 19382 entries, 0 to 19381\n",
      "Data columns (total 12 columns):\n",
      " #   Column                    Non-Null Count  Dtype  \n",
      "---  ------                    --------------  -----  \n",
      " 0   #                         19382 non-null  int64  \n",
      " 1   claim_status              19084 non-null  object \n",
      " 2   video_id                  19382 non-null  int64  \n",
      " 3   video_duration_sec        19382 non-null  int64  \n",
      " 4   video_transcription_text  19084 non-null  object \n",
      " 5   verified_status           19382 non-null  object \n",
      " 6   author_ban_status         19382 non-null  object \n",
      " 7   video_view_count          19084 non-null  float64\n",
      " 8   video_like_count          19084 non-null  float64\n",
      " 9   video_share_count         19084 non-null  float64\n",
      " 10  video_download_count      19084 non-null  float64\n",
      " 11  video_comment_count       19084 non-null  float64\n",
      "dtypes: float64(5), int64(3), object(4)\n",
      "memory usage: 1.8+ MB\n"
     ]
    }
   ],
   "source": [
    "df.info()"
   ]
  },
  {
   "cell_type": "markdown",
   "id": "463b1275-510d-421a-b7cd-947b24c6c525",
   "metadata": {},
   "source": [
    "<br>\n",
    "\n",
    "**Generate** descriptive statistics"
   ]
  },
  {
   "cell_type": "code",
   "execution_count": 6,
   "id": "e6eef9b1-a3eb-4801-acbb-b98c2d3f22b2",
   "metadata": {},
   "outputs": [
    {
     "data": {
      "text/html": [
       "<div>\n",
       "<style scoped>\n",
       "    .dataframe tbody tr th:only-of-type {\n",
       "        vertical-align: middle;\n",
       "    }\n",
       "\n",
       "    .dataframe tbody tr th {\n",
       "        vertical-align: top;\n",
       "    }\n",
       "\n",
       "    .dataframe thead th {\n",
       "        text-align: right;\n",
       "    }\n",
       "</style>\n",
       "<table border=\"1\" class=\"dataframe\">\n",
       "  <thead>\n",
       "    <tr style=\"text-align: right;\">\n",
       "      <th></th>\n",
       "      <th>#</th>\n",
       "      <th>video_id</th>\n",
       "      <th>video_duration_sec</th>\n",
       "      <th>video_view_count</th>\n",
       "      <th>video_like_count</th>\n",
       "      <th>video_share_count</th>\n",
       "      <th>video_download_count</th>\n",
       "      <th>video_comment_count</th>\n",
       "    </tr>\n",
       "  </thead>\n",
       "  <tbody>\n",
       "    <tr>\n",
       "      <th>count</th>\n",
       "      <td>19382.000000</td>\n",
       "      <td>1.938200e+04</td>\n",
       "      <td>19382.000000</td>\n",
       "      <td>19084.000000</td>\n",
       "      <td>19084.000000</td>\n",
       "      <td>19084.000000</td>\n",
       "      <td>19084.000000</td>\n",
       "      <td>19084.000000</td>\n",
       "    </tr>\n",
       "    <tr>\n",
       "      <th>mean</th>\n",
       "      <td>9691.500000</td>\n",
       "      <td>5.627454e+09</td>\n",
       "      <td>32.421732</td>\n",
       "      <td>254708.558688</td>\n",
       "      <td>84304.636030</td>\n",
       "      <td>16735.248323</td>\n",
       "      <td>1049.429627</td>\n",
       "      <td>349.312146</td>\n",
       "    </tr>\n",
       "    <tr>\n",
       "      <th>std</th>\n",
       "      <td>5595.245794</td>\n",
       "      <td>2.536440e+09</td>\n",
       "      <td>16.229967</td>\n",
       "      <td>322893.280814</td>\n",
       "      <td>133420.546814</td>\n",
       "      <td>32036.174350</td>\n",
       "      <td>2004.299894</td>\n",
       "      <td>799.638865</td>\n",
       "    </tr>\n",
       "    <tr>\n",
       "      <th>min</th>\n",
       "      <td>1.000000</td>\n",
       "      <td>1.234959e+09</td>\n",
       "      <td>5.000000</td>\n",
       "      <td>20.000000</td>\n",
       "      <td>0.000000</td>\n",
       "      <td>0.000000</td>\n",
       "      <td>0.000000</td>\n",
       "      <td>0.000000</td>\n",
       "    </tr>\n",
       "    <tr>\n",
       "      <th>25%</th>\n",
       "      <td>4846.250000</td>\n",
       "      <td>3.430417e+09</td>\n",
       "      <td>18.000000</td>\n",
       "      <td>4942.500000</td>\n",
       "      <td>810.750000</td>\n",
       "      <td>115.000000</td>\n",
       "      <td>7.000000</td>\n",
       "      <td>1.000000</td>\n",
       "    </tr>\n",
       "    <tr>\n",
       "      <th>50%</th>\n",
       "      <td>9691.500000</td>\n",
       "      <td>5.618664e+09</td>\n",
       "      <td>32.000000</td>\n",
       "      <td>9954.500000</td>\n",
       "      <td>3403.500000</td>\n",
       "      <td>717.000000</td>\n",
       "      <td>46.000000</td>\n",
       "      <td>9.000000</td>\n",
       "    </tr>\n",
       "    <tr>\n",
       "      <th>75%</th>\n",
       "      <td>14536.750000</td>\n",
       "      <td>7.843960e+09</td>\n",
       "      <td>47.000000</td>\n",
       "      <td>504327.000000</td>\n",
       "      <td>125020.000000</td>\n",
       "      <td>18222.000000</td>\n",
       "      <td>1156.250000</td>\n",
       "      <td>292.000000</td>\n",
       "    </tr>\n",
       "    <tr>\n",
       "      <th>max</th>\n",
       "      <td>19382.000000</td>\n",
       "      <td>9.999873e+09</td>\n",
       "      <td>60.000000</td>\n",
       "      <td>999817.000000</td>\n",
       "      <td>657830.000000</td>\n",
       "      <td>256130.000000</td>\n",
       "      <td>14994.000000</td>\n",
       "      <td>9599.000000</td>\n",
       "    </tr>\n",
       "  </tbody>\n",
       "</table>\n",
       "</div>"
      ],
      "text/plain": [
       "                  #      video_id  video_duration_sec  video_view_count  \\\n",
       "count  19382.000000  1.938200e+04        19382.000000      19084.000000   \n",
       "mean    9691.500000  5.627454e+09           32.421732     254708.558688   \n",
       "std     5595.245794  2.536440e+09           16.229967     322893.280814   \n",
       "min        1.000000  1.234959e+09            5.000000         20.000000   \n",
       "25%     4846.250000  3.430417e+09           18.000000       4942.500000   \n",
       "50%     9691.500000  5.618664e+09           32.000000       9954.500000   \n",
       "75%    14536.750000  7.843960e+09           47.000000     504327.000000   \n",
       "max    19382.000000  9.999873e+09           60.000000     999817.000000   \n",
       "\n",
       "       video_like_count  video_share_count  video_download_count  \\\n",
       "count      19084.000000       19084.000000          19084.000000   \n",
       "mean       84304.636030       16735.248323           1049.429627   \n",
       "std       133420.546814       32036.174350           2004.299894   \n",
       "min            0.000000           0.000000              0.000000   \n",
       "25%          810.750000         115.000000              7.000000   \n",
       "50%         3403.500000         717.000000             46.000000   \n",
       "75%       125020.000000       18222.000000           1156.250000   \n",
       "max       657830.000000      256130.000000          14994.000000   \n",
       "\n",
       "       video_comment_count  \n",
       "count         19084.000000  \n",
       "mean            349.312146  \n",
       "std             799.638865  \n",
       "min               0.000000  \n",
       "25%               1.000000  \n",
       "50%               9.000000  \n",
       "75%             292.000000  \n",
       "max            9599.000000  "
      ]
     },
     "execution_count": 6,
     "metadata": {},
     "output_type": "execute_result"
    }
   ],
   "source": [
    "df.describe()"
   ]
  },
  {
   "cell_type": "markdown",
   "id": "487f2246-8371-4bbc-9be8-2b555e9d3074",
   "metadata": {},
   "source": [
    "<br>\n",
    "\n",
    "## **5. Data Cleaning**\n",
    "\n",
    "**Ensure** data quality by addressing missing values, duplicates, and outliers.\n",
    "\n",
    "#### **Handling Missing Values** \n",
    "\n",
    "As established in the previous EDA, there are missing values across the same 7 columns in 298 rows. Since dropping these rows only reduces the dataset by 1.54%, which is a minimal loss, I will proceed to drop them now to maintain the integrity of the analysis."
   ]
  },
  {
   "cell_type": "code",
   "execution_count": 7,
   "id": "770c4655-4e02-4c76-a066-5f4770c182fa",
   "metadata": {},
   "outputs": [
    {
     "data": {
      "text/html": [
       "<div>\n",
       "<style scoped>\n",
       "    .dataframe tbody tr th:only-of-type {\n",
       "        vertical-align: middle;\n",
       "    }\n",
       "\n",
       "    .dataframe tbody tr th {\n",
       "        vertical-align: top;\n",
       "    }\n",
       "\n",
       "    .dataframe thead th {\n",
       "        text-align: right;\n",
       "    }\n",
       "</style>\n",
       "<table border=\"1\" class=\"dataframe\">\n",
       "  <thead>\n",
       "    <tr style=\"text-align: right;\">\n",
       "      <th></th>\n",
       "      <th>Count</th>\n",
       "      <th>Proportion</th>\n",
       "    </tr>\n",
       "  </thead>\n",
       "  <tbody>\n",
       "    <tr>\n",
       "      <th>#</th>\n",
       "      <td>0</td>\n",
       "      <td>0.0%</td>\n",
       "    </tr>\n",
       "    <tr>\n",
       "      <th>claim_status</th>\n",
       "      <td>298</td>\n",
       "      <td>1.54%</td>\n",
       "    </tr>\n",
       "    <tr>\n",
       "      <th>video_id</th>\n",
       "      <td>0</td>\n",
       "      <td>0.0%</td>\n",
       "    </tr>\n",
       "    <tr>\n",
       "      <th>video_duration_sec</th>\n",
       "      <td>0</td>\n",
       "      <td>0.0%</td>\n",
       "    </tr>\n",
       "    <tr>\n",
       "      <th>video_transcription_text</th>\n",
       "      <td>298</td>\n",
       "      <td>1.54%</td>\n",
       "    </tr>\n",
       "    <tr>\n",
       "      <th>verified_status</th>\n",
       "      <td>0</td>\n",
       "      <td>0.0%</td>\n",
       "    </tr>\n",
       "    <tr>\n",
       "      <th>author_ban_status</th>\n",
       "      <td>0</td>\n",
       "      <td>0.0%</td>\n",
       "    </tr>\n",
       "    <tr>\n",
       "      <th>video_view_count</th>\n",
       "      <td>298</td>\n",
       "      <td>1.54%</td>\n",
       "    </tr>\n",
       "    <tr>\n",
       "      <th>video_like_count</th>\n",
       "      <td>298</td>\n",
       "      <td>1.54%</td>\n",
       "    </tr>\n",
       "    <tr>\n",
       "      <th>video_share_count</th>\n",
       "      <td>298</td>\n",
       "      <td>1.54%</td>\n",
       "    </tr>\n",
       "    <tr>\n",
       "      <th>video_download_count</th>\n",
       "      <td>298</td>\n",
       "      <td>1.54%</td>\n",
       "    </tr>\n",
       "    <tr>\n",
       "      <th>video_comment_count</th>\n",
       "      <td>298</td>\n",
       "      <td>1.54%</td>\n",
       "    </tr>\n",
       "  </tbody>\n",
       "</table>\n",
       "</div>"
      ],
      "text/plain": [
       "                          Count Proportion\n",
       "#                             0       0.0%\n",
       "claim_status                298      1.54%\n",
       "video_id                      0       0.0%\n",
       "video_duration_sec            0       0.0%\n",
       "video_transcription_text    298      1.54%\n",
       "verified_status               0       0.0%\n",
       "author_ban_status             0       0.0%\n",
       "video_view_count            298      1.54%\n",
       "video_like_count            298      1.54%\n",
       "video_share_count           298      1.54%\n",
       "video_download_count        298      1.54%\n",
       "video_comment_count         298      1.54%"
      ]
     },
     "execution_count": 7,
     "metadata": {},
     "output_type": "execute_result"
    }
   ],
   "source": [
    "# Check for missing values\n",
    "missing = df.isnull().sum()\n",
    "proportion = (missing / len(df)) * 100\n",
    "missing_df = pd.DataFrame({\n",
    "    'Count' : missing,\n",
    "    'Proportion' : proportion.round(2).astype(str) + '%'\n",
    "})\n",
    "missing_df"
   ]
  },
  {
   "cell_type": "code",
   "execution_count": 8,
   "id": "4d6db597-911c-4ed3-bd75-1313fd00396d",
   "metadata": {},
   "outputs": [],
   "source": [
    "# Drop rows with missing values\n",
    "df_cleaned = df.dropna().reset_index(drop=True)"
   ]
  },
  {
   "cell_type": "code",
   "execution_count": 9,
   "id": "e98ba636-088a-4ffb-9c93-f68d1d62267b",
   "metadata": {
    "editable": true,
    "slideshow": {
     "slide_type": ""
    },
    "tags": []
   },
   "outputs": [
    {
     "name": "stdout",
     "output_type": "stream",
     "text": [
      "#                           0\n",
      "claim_status                0\n",
      "video_id                    0\n",
      "video_duration_sec          0\n",
      "video_transcription_text    0\n",
      "verified_status             0\n",
      "author_ban_status           0\n",
      "video_view_count            0\n",
      "video_like_count            0\n",
      "video_share_count           0\n",
      "video_download_count        0\n",
      "video_comment_count         0\n",
      "dtype: int64\n"
     ]
    }
   ],
   "source": [
    "# Confirm changes after handling missing values\n",
    "print(df_cleaned.isnull().sum())"
   ]
  },
  {
   "cell_type": "markdown",
   "id": "34444ad8-6292-4bc9-bb8a-7eb2b51d6d49",
   "metadata": {},
   "source": [
    "<br>\n",
    "\n",
    "#### **Check for and Handle Duplicates**"
   ]
  },
  {
   "cell_type": "code",
   "execution_count": 10,
   "id": "68cce809-80e3-4bca-8ca5-fef1a4184539",
   "metadata": {},
   "outputs": [
    {
     "data": {
      "text/plain": [
       "np.int64(0)"
      ]
     },
     "execution_count": 10,
     "metadata": {},
     "output_type": "execute_result"
    }
   ],
   "source": [
    "# Check for duplicates\n",
    "df_cleaned.duplicated().sum()"
   ]
  },
  {
   "cell_type": "markdown",
   "id": "9ccc5318-ec4b-4883-b75b-5a047e9949ce",
   "metadata": {
    "editable": true,
    "slideshow": {
     "slide_type": ""
    },
    "tags": []
   },
   "source": [
    "***Note:*** Zero duplicates observed.  No action required.\n",
    "\n",
    "<br>\n",
    "\n",
    "#### **Handling Outliers**\n",
    "\n",
    "**Construct** a dataframe displaying the number of outliers and their proportions."
   ]
  },
  {
   "cell_type": "code",
   "execution_count": 11,
   "id": "1117254e-d898-4603-b991-03dceb1e952a",
   "metadata": {
    "editable": true,
    "slideshow": {
     "slide_type": ""
    },
    "tags": []
   },
   "outputs": [
    {
     "data": {
      "text/html": [
       "<div>\n",
       "<style scoped>\n",
       "    .dataframe tbody tr th:only-of-type {\n",
       "        vertical-align: middle;\n",
       "    }\n",
       "\n",
       "    .dataframe tbody tr th {\n",
       "        vertical-align: top;\n",
       "    }\n",
       "\n",
       "    .dataframe thead th {\n",
       "        text-align: right;\n",
       "    }\n",
       "</style>\n",
       "<table border=\"1\" class=\"dataframe\">\n",
       "  <thead>\n",
       "    <tr style=\"text-align: right;\">\n",
       "      <th></th>\n",
       "      <th>Column</th>\n",
       "      <th>Total Counts</th>\n",
       "      <th>Upper Outliers</th>\n",
       "      <th>Lower Outliers</th>\n",
       "      <th>Total Outliers</th>\n",
       "      <th>Proportion</th>\n",
       "    </tr>\n",
       "  </thead>\n",
       "  <tbody>\n",
       "    <tr>\n",
       "      <th>0</th>\n",
       "      <td>video_duration_sec</td>\n",
       "      <td>6.187760e+05</td>\n",
       "      <td>0</td>\n",
       "      <td>0</td>\n",
       "      <td>0</td>\n",
       "      <td>0.00%</td>\n",
       "    </tr>\n",
       "    <tr>\n",
       "      <th>1</th>\n",
       "      <td>video_view_count</td>\n",
       "      <td>4.860858e+09</td>\n",
       "      <td>0</td>\n",
       "      <td>0</td>\n",
       "      <td>0</td>\n",
       "      <td>0.00%</td>\n",
       "    </tr>\n",
       "    <tr>\n",
       "      <th>2</th>\n",
       "      <td>video_like_count</td>\n",
       "      <td>1.608870e+09</td>\n",
       "      <td>1726</td>\n",
       "      <td>0</td>\n",
       "      <td>1726</td>\n",
       "      <td>9.04%</td>\n",
       "    </tr>\n",
       "    <tr>\n",
       "      <th>3</th>\n",
       "      <td>video_share_count</td>\n",
       "      <td>3.193755e+08</td>\n",
       "      <td>2508</td>\n",
       "      <td>0</td>\n",
       "      <td>2508</td>\n",
       "      <td>13.14%</td>\n",
       "    </tr>\n",
       "    <tr>\n",
       "      <th>4</th>\n",
       "      <td>video_download_count</td>\n",
       "      <td>2.002732e+07</td>\n",
       "      <td>2450</td>\n",
       "      <td>0</td>\n",
       "      <td>2450</td>\n",
       "      <td>12.84%</td>\n",
       "    </tr>\n",
       "    <tr>\n",
       "      <th>5</th>\n",
       "      <td>video_comment_count</td>\n",
       "      <td>6.666273e+06</td>\n",
       "      <td>2789</td>\n",
       "      <td>0</td>\n",
       "      <td>2789</td>\n",
       "      <td>14.61%</td>\n",
       "    </tr>\n",
       "  </tbody>\n",
       "</table>\n",
       "</div>"
      ],
      "text/plain": [
       "                 Column  Total Counts  Upper Outliers  Lower Outliers  \\\n",
       "0    video_duration_sec  6.187760e+05               0               0   \n",
       "1      video_view_count  4.860858e+09               0               0   \n",
       "2      video_like_count  1.608870e+09            1726               0   \n",
       "3     video_share_count  3.193755e+08            2508               0   \n",
       "4  video_download_count  2.002732e+07            2450               0   \n",
       "5   video_comment_count  6.666273e+06            2789               0   \n",
       "\n",
       "   Total Outliers Proportion  \n",
       "0               0      0.00%  \n",
       "1               0      0.00%  \n",
       "2            1726      9.04%  \n",
       "3            2508     13.14%  \n",
       "4            2450     12.84%  \n",
       "5            2789     14.61%  "
      ]
     },
     "execution_count": 11,
     "metadata": {},
     "output_type": "execute_result"
    }
   ],
   "source": [
    "# Select columns to be assessed\n",
    "column_list = ['video_duration_sec', 'video_view_count', 'video_like_count',\n",
    "               'video_share_count', 'video_download_count', 'video_comment_count']\n",
    "\n",
    "# Define function (EDA established outliers > than upper limit and not below lower limit)\n",
    "def calculate_outliers(df_cleaned, column_list):\n",
    "    results = []\n",
    "\n",
    "    for column in column_list:\n",
    "        q1 = df_cleaned[column].quantile(0.25)\n",
    "        q3 = df_cleaned[column].quantile(0.75)\n",
    "        iqr = q3 - q1\n",
    "\n",
    "        # Calculate thresholds\n",
    "        lower_threshold = q1 - 1.5 * iqr\n",
    "        upper_threshold = q3 + 1.5 * iqr\n",
    "\n",
    "        # Count outliers above and below thresholds\n",
    "        upper_outliers = (df_cleaned[column] > upper_threshold).sum()\n",
    "        lower_outliers = (df_cleaned[column] < lower_threshold).sum()\n",
    "\n",
    "        # Total outliers and proportion\n",
    "        total_outliers = upper_outliers + lower_outliers\n",
    "        proportion = (total_outliers / len(df_cleaned)) * 100\n",
    "\n",
    "        # Total count of the column\n",
    "        total_count = df_cleaned[column].sum()\n",
    "\n",
    "        results.append([\n",
    "            column,\n",
    "            total_count,\n",
    "            upper_outliers,\n",
    "            lower_outliers,\n",
    "            total_outliers,\n",
    "            f\"{proportion:.2f}%\"\n",
    "        ])\n",
    "\n",
    "    # Create a DataFrame to display the results\n",
    "    outlier_df = pd.DataFrame(results, columns=[\n",
    "        'Column',\n",
    "        'Total Counts',\n",
    "        'Upper Outliers',\n",
    "        'Lower Outliers',\n",
    "        'Total Outliers',\n",
    "        'Proportion'\n",
    "    ])\n",
    "\n",
    "    return outlier_df\n",
    "\n",
    "# Call the function and assign the result to `outlier_df`\n",
    "outlier_df = calculate_outliers(df_cleaned, column_list)\n",
    "outlier_df"
   ]
  },
  {
   "cell_type": "markdown",
   "id": "0a4a7bc1-6f7f-4515-aa4d-ebda142a35c1",
   "metadata": {},
   "source": [
    "<br>\n",
    "\n",
    "**Visualize** outliers using boxplots and selectively cap `'video_like_count'` and `'video_comment_count'` outliers using the IQR Based Upper Limit.  Reasons for this will be explained down below."
   ]
  },
  {
   "cell_type": "code",
   "execution_count": 12,
   "id": "57ef1494-3749-4560-8548-7d5ae736e767",
   "metadata": {
    "editable": true,
    "slideshow": {
     "slide_type": ""
    },
    "tags": []
   },
   "outputs": [
    {
     "data": {
      "image/png": "[encoded data removed]",
      "text/plain": [
       "<Figure size 1000x100 with 1 Axes>"
      ]
     },
     "metadata": {},
     "output_type": "display_data"
    }
   ],
   "source": [
    "# Boxplot to visualize distribution of `video_duration_sec`\n",
    "plt.figure(figsize=(10, 1))\n",
    "sns.boxplot(x=df_cleaned['video_duration_sec'], color=\"#20D5EC\")\n",
    "plt.title('Video Duration Seconds');"
   ]
  },
  {
   "cell_type": "markdown",
   "id": "52537570-04b3-46da-83dd-945239253fda",
   "metadata": {},
   "source": [
    "***Note:*** Zero outliers detected.\n",
    "\n",
    "<br>"
   ]
  },
  {
   "cell_type": "code",
   "execution_count": 13,
   "id": "af0d7b21-6274-47be-9743-9d81d4d421d0",
   "metadata": {
    "editable": true,
    "slideshow": {
     "slide_type": ""
    },
    "tags": []
   },
   "outputs": [
    {
     "data": {
      "image/png": "[encoded data removed]",
      "text/plain": [
       "<Figure size 1000x100 with 1 Axes>"
      ]
     },
     "metadata": {},
     "output_type": "display_data"
    }
   ],
   "source": [
    "# Boxplot to visualize distribution of `video_view_count`\n",
    "plt.figure(figsize=(10, 1))\n",
    "sns.boxplot(x=df_cleaned['video_view_count'], color=\"#20D5EC\")\n",
    "\n",
    "plt.xticks(ticks=range(0, 1000001, 200000), \n",
    "           labels=[f'{x//1000000}M' if x >= 1000000 else f'{x//1000}k' for x in range(0, 1000001, 200000)])\n",
    "\n",
    "plt.title('Video View Counts');"
   ]
  },
  {
   "cell_type": "markdown",
   "id": "c582a355-82d4-4a76-b38c-128600b2243f",
   "metadata": {},
   "source": [
    "***Note:*** Zero outliers detected.\n",
    "\n",
    "<br>"
   ]
  },
  {
   "cell_type": "code",
   "execution_count": 14,
   "id": "3b403f62-1a62-4b06-9efe-41ef2fdca768",
   "metadata": {
    "editable": true,
    "slideshow": {
     "slide_type": ""
    },
    "tags": []
   },
   "outputs": [
    {
     "data": {
      "image/png": "[encoded data removed]",
      "text/plain": [
       "<Figure size 1000x100 with 1 Axes>"
      ]
     },
     "metadata": {},
     "output_type": "display_data"
    }
   ],
   "source": [
    "# Boxplot to visualize distribution of `video_like_count`\n",
    "plt.figure(figsize=(10, 1))\n",
    "sns.boxplot(x=df_cleaned['video_like_count'], color=\"#20D5EC\")\n",
    "plt.xticks(ticks=range(0, 660000, 100000), labels=[f'{x//1000}k' for x in range(0, 660000, 100000)])\n",
    "plt.title('Video Like Count');"
   ]
  },
  {
   "cell_type": "code",
   "execution_count": 15,
   "id": "6ccd06a1-a893-47c6-a57b-9feaf13eb28d",
   "metadata": {
    "editable": true,
    "slideshow": {
     "slide_type": ""
    },
    "tags": []
   },
   "outputs": [],
   "source": [
    "# Capping upper outliers using the IQR method for 'video_like_count'\n",
    "percentile25 = df_cleaned[\"video_like_count\"].quantile(0.25)\n",
    "percentile75 = df_cleaned[\"video_like_count\"].quantile(0.75)\n",
    "\n",
    "iqr = percentile75 - percentile25\n",
    "upper_limit = percentile75 + 1.5 * iqr\n",
    "\n",
    "df_cleaned.loc[df_cleaned[\"video_like_count\"] > upper_limit, \"video_like_count\"] = upper_limit"
   ]
  },
  {
   "cell_type": "markdown",
   "id": "db8a8baa-44f5-4a9a-bc35-1297be2cc2b7",
   "metadata": {},
   "source": [
    "***Note:*** 1726 outliers detected (lowest number of outliers). Capped outliers at upper limit.\n",
    "\n",
    "<br>"
   ]
  },
  {
   "cell_type": "code",
   "execution_count": 16,
   "id": "10817e58-7160-45c8-a81a-02311f1ba333",
   "metadata": {
    "editable": true,
    "slideshow": {
     "slide_type": ""
    },
    "tags": []
   },
   "outputs": [
    {
     "data": {
      "image/png": "[encoded data removed]",
      "text/plain": [
       "<Figure size 1000x100 with 1 Axes>"
      ]
     },
     "metadata": {},
     "output_type": "display_data"
    }
   ],
   "source": [
    "# Boxplot to visualize distribution of `video_share_count`\n",
    "plt.figure(figsize=(10, 1))\n",
    "sns.boxplot(x=df_cleaned['video_share_count'], color=\"#20D5EC\")\n",
    "plt.title('Video Share Count');"
   ]
  },
  {
   "cell_type": "code",
   "execution_count": 17,
   "id": "73d4eded-1901-44cb-b5e4-1dc19cd08e02",
   "metadata": {
    "jupyter": {
     "source_hidden": true
    }
   },
   "outputs": [],
   "source": [
    "# Click to Unhide - Test Case Alternative Code\n",
    "# Check for and handle outliers for video_share_count\n",
    "if False:\n",
    "    percentile25 = df_cleaned[\"video_share_count\"].quantile(0.25)\n",
    "    percentile75 = df_cleaned[\"video_share_count\"].quantile(0.75)\n",
    "    \n",
    "    iqr = percentile75 - percentile25\n",
    "    upper_limit = percentile75 + 1.5 * iqr\n",
    "    \n",
    "    df_cleaned.loc[df_cleaned[\"video_share_count\"] > upper_limit, \"video_share_count\"] = upper_limit"
   ]
  },
  {
   "cell_type": "markdown",
   "id": "784d979d-01fd-422c-b9e8-c6973f899522",
   "metadata": {
    "editable": true,
    "slideshow": {
     "slide_type": ""
    },
    "tags": []
   },
   "source": [
    "***Note:*** 2508 outliers detected. Left as is.\n",
    "\n",
    "<br>"
   ]
  },
  {
   "cell_type": "code",
   "execution_count": 18,
   "id": "6715921b-6584-4ca6-85f3-aaf7dcb29356",
   "metadata": {
    "editable": true,
    "slideshow": {
     "slide_type": ""
    },
    "tags": []
   },
   "outputs": [
    {
     "data": {
      "image/png": "[encoded data removed]",
      "text/plain": [
       "<Figure size 1000x100 with 1 Axes>"
      ]
     },
     "metadata": {},
     "output_type": "display_data"
    }
   ],
   "source": [
    "# Boxplot to visualize distribution of video_download_count\n",
    "plt.figure(figsize=(10, 1))\n",
    "sns.boxplot(x=df_cleaned['video_download_count'], color=\"#20D5EC\")\n",
    "plt.title('Video Download Count');"
   ]
  },
  {
   "cell_type": "code",
   "execution_count": 19,
   "id": "fe049329-87c8-4975-bb2c-e8fd403a7def",
   "metadata": {
    "jupyter": {
     "source_hidden": true
    }
   },
   "outputs": [],
   "source": [
    "# Click to Unhide - Test Case Alternative Code\n",
    "# Check for and handle outliers for 'video_download_count'\n",
    "if False:\n",
    "    percentile25 = df_cleaned[\"video_download_count\"].quantile(0.25)\n",
    "    percentile75 = df_cleaned[\"video_download_count\"].quantile(0.75)\n",
    "    \n",
    "    iqr = percentile75 - percentile25\n",
    "    upper_limit = percentile75 + 1.5 * iqr\n",
    "    \n",
    "    df_cleaned.loc[df_cleaned[\"video_download_count\"] > upper_limit, \"video_download_count\"] = upper_limit"
   ]
  },
  {
   "cell_type": "markdown",
   "id": "974d5880-1348-4bff-8d8b-f921b57c601c",
   "metadata": {
    "editable": true,
    "slideshow": {
     "slide_type": ""
    },
    "tags": []
   },
   "source": [
    "***Note:*** 2450 outliers detected. Left as is.\n",
    "\n",
    "<br>"
   ]
  },
  {
   "cell_type": "code",
   "execution_count": 20,
   "id": "dafe4bec-e9be-40a3-9f99-70cb441eee4c",
   "metadata": {},
   "outputs": [
    {
     "data": {
      "image/png": "[encoded data removed]",
      "text/plain": [
       "<Figure size 1000x100 with 1 Axes>"
      ]
     },
     "metadata": {},
     "output_type": "display_data"
    }
   ],
   "source": [
    "# Boxplot to visualize distribution of `video_comment_count`\n",
    "plt.figure(figsize=(10, 1))\n",
    "sns.boxplot(x=df_cleaned['video_comment_count'], color=\"#20D5EC\")\n",
    "plt.title('Video Comment Count');"
   ]
  },
  {
   "cell_type": "code",
   "execution_count": 21,
   "id": "6e484994-c694-4fed-8db2-2c77b34f5be7",
   "metadata": {},
   "outputs": [],
   "source": [
    "# Capping upper outliers using the IQR method for 'video_comment_count'\n",
    "percentile25 = df_cleaned[\"video_comment_count\"].quantile(0.25)\n",
    "percentile75 = df_cleaned[\"video_comment_count\"].quantile(0.75)\n",
    "\n",
    "iqr = percentile75 - percentile25\n",
    "upper_limit = percentile75 + 1.5 * iqr\n",
    "\n",
    "df_cleaned.loc[df_cleaned[\"video_comment_count\"] > upper_limit, \"video_comment_count\"] = upper_limit"
   ]
  },
  {
   "cell_type": "markdown",
   "id": "84bea7cd-6642-4c29-928f-28177fc35903",
   "metadata": {},
   "source": [
    "***Note:*** 2789 outliers detected (the highest number of outliers). Capped outliers at upper limit.\n",
    "\n",
    "<br>"
   ]
  },
  {
   "cell_type": "code",
   "execution_count": 22,
   "id": "b5b1d29c-edf1-418e-9362-a7b4eb07ffb0",
   "metadata": {},
   "outputs": [
    {
     "data": {
      "text/html": [
       "<div>\n",
       "<style scoped>\n",
       "    .dataframe tbody tr th:only-of-type {\n",
       "        vertical-align: middle;\n",
       "    }\n",
       "\n",
       "    .dataframe tbody tr th {\n",
       "        vertical-align: top;\n",
       "    }\n",
       "\n",
       "    .dataframe thead th {\n",
       "        text-align: right;\n",
       "    }\n",
       "</style>\n",
       "<table border=\"1\" class=\"dataframe\">\n",
       "  <thead>\n",
       "    <tr style=\"text-align: right;\">\n",
       "      <th></th>\n",
       "      <th>Column</th>\n",
       "      <th>Total Counts</th>\n",
       "      <th>Upper Outliers</th>\n",
       "      <th>Lower Outliers</th>\n",
       "      <th>Total Outliers</th>\n",
       "      <th>Proportion</th>\n",
       "    </tr>\n",
       "  </thead>\n",
       "  <tbody>\n",
       "    <tr>\n",
       "      <th>0</th>\n",
       "      <td>video_duration_sec</td>\n",
       "      <td>6.187760e+05</td>\n",
       "      <td>0</td>\n",
       "      <td>0</td>\n",
       "      <td>0</td>\n",
       "      <td>0.00%</td>\n",
       "    </tr>\n",
       "    <tr>\n",
       "      <th>1</th>\n",
       "      <td>video_view_count</td>\n",
       "      <td>4.860858e+09</td>\n",
       "      <td>0</td>\n",
       "      <td>0</td>\n",
       "      <td>0</td>\n",
       "      <td>0.00%</td>\n",
       "    </tr>\n",
       "    <tr>\n",
       "      <th>2</th>\n",
       "      <td>video_like_count</td>\n",
       "      <td>1.418390e+09</td>\n",
       "      <td>0</td>\n",
       "      <td>0</td>\n",
       "      <td>0</td>\n",
       "      <td>0.00%</td>\n",
       "    </tr>\n",
       "    <tr>\n",
       "      <th>3</th>\n",
       "      <td>video_share_count</td>\n",
       "      <td>3.193755e+08</td>\n",
       "      <td>2508</td>\n",
       "      <td>0</td>\n",
       "      <td>2508</td>\n",
       "      <td>13.14%</td>\n",
       "    </tr>\n",
       "    <tr>\n",
       "      <th>4</th>\n",
       "      <td>video_download_count</td>\n",
       "      <td>2.002732e+07</td>\n",
       "      <td>2450</td>\n",
       "      <td>0</td>\n",
       "      <td>2450</td>\n",
       "      <td>12.84%</td>\n",
       "    </tr>\n",
       "    <tr>\n",
       "      <th>5</th>\n",
       "      <td>video_comment_count</td>\n",
       "      <td>3.454652e+06</td>\n",
       "      <td>0</td>\n",
       "      <td>0</td>\n",
       "      <td>0</td>\n",
       "      <td>0.00%</td>\n",
       "    </tr>\n",
       "  </tbody>\n",
       "</table>\n",
       "</div>"
      ],
      "text/plain": [
       "                 Column  Total Counts  Upper Outliers  Lower Outliers  \\\n",
       "0    video_duration_sec  6.187760e+05               0               0   \n",
       "1      video_view_count  4.860858e+09               0               0   \n",
       "2      video_like_count  1.418390e+09               0               0   \n",
       "3     video_share_count  3.193755e+08            2508               0   \n",
       "4  video_download_count  2.002732e+07            2450               0   \n",
       "5   video_comment_count  3.454652e+06               0               0   \n",
       "\n",
       "   Total Outliers Proportion  \n",
       "0               0      0.00%  \n",
       "1               0      0.00%  \n",
       "2               0      0.00%  \n",
       "3            2508     13.14%  \n",
       "4            2450     12.84%  \n",
       "5               0      0.00%  "
      ]
     },
     "execution_count": 22,
     "metadata": {},
     "output_type": "execute_result"
    }
   ],
   "source": [
    "# Confirm Outlier Changes\n",
    "outlier_df = calculate_outliers(df_cleaned, column_list)\n",
    "outlier_df"
   ]
  },
  {
   "cell_type": "markdown",
   "id": "9e41ef28-de7b-44f2-8bb5-1747833848d3",
   "metadata": {
    "editable": true,
    "slideshow": {
     "slide_type": ""
    },
    "tags": []
   },
   "source": [
    "***Note:*** I've chosen to cap only the metrics with the most extreme outliers at their upper limits. This selective capping has demonstrated in previous drafts that it minimizes VIF scores, supporting a robust model that balances interpretability and predictive power, with reduced trade-offs from multicollinearity.\n",
    "\n",
    "<br>\n",
    "\n",
    "## **6. Confirm Data Teams Observation**"
   ]
  },
  {
   "cell_type": "code",
   "execution_count": 23,
   "id": "7d3945f9-e791-42d6-affd-1050b201fa10",
   "metadata": {},
   "outputs": [
    {
     "data": {
      "text/html": [
       "<div>\n",
       "<style scoped>\n",
       "    .dataframe tbody tr th:only-of-type {\n",
       "        vertical-align: middle;\n",
       "    }\n",
       "\n",
       "    .dataframe tbody tr th {\n",
       "        vertical-align: top;\n",
       "    }\n",
       "\n",
       "    .dataframe thead th {\n",
       "        text-align: right;\n",
       "    }\n",
       "</style>\n",
       "<table border=\"1\" class=\"dataframe\">\n",
       "  <thead>\n",
       "    <tr style=\"text-align: right;\">\n",
       "      <th></th>\n",
       "      <th></th>\n",
       "      <th>Count</th>\n",
       "      <th>Proportion</th>\n",
       "    </tr>\n",
       "    <tr>\n",
       "      <th>verified_status</th>\n",
       "      <th>claim_status</th>\n",
       "      <th></th>\n",
       "      <th></th>\n",
       "    </tr>\n",
       "  </thead>\n",
       "  <tbody>\n",
       "    <tr>\n",
       "      <th rowspan=\"2\" valign=\"top\">not verified</th>\n",
       "      <th>claim</th>\n",
       "      <td>9399</td>\n",
       "      <td>49.25%</td>\n",
       "    </tr>\n",
       "    <tr>\n",
       "      <th>opinion</th>\n",
       "      <td>8485</td>\n",
       "      <td>44.46%</td>\n",
       "    </tr>\n",
       "    <tr>\n",
       "      <th rowspan=\"2\" valign=\"top\">verified</th>\n",
       "      <th>opinion</th>\n",
       "      <td>991</td>\n",
       "      <td>5.19%</td>\n",
       "    </tr>\n",
       "    <tr>\n",
       "      <th>claim</th>\n",
       "      <td>209</td>\n",
       "      <td>1.1%</td>\n",
       "    </tr>\n",
       "  </tbody>\n",
       "</table>\n",
       "</div>"
      ],
      "text/plain": [
       "                              Count Proportion\n",
       "verified_status claim_status                  \n",
       "not verified    claim          9399     49.25%\n",
       "                opinion        8485     44.46%\n",
       "verified        opinion         991      5.19%\n",
       "                claim           209       1.1%"
      ]
     },
     "execution_count": 23,
     "metadata": {},
     "output_type": "execute_result"
    }
   ],
   "source": [
    "# Calculate counts of 'claim_status' within each 'verified_status' group\n",
    "counts = df_cleaned.groupby('verified_status')['claim_status'].value_counts(dropna=False)\n",
    "proportion = (counts / counts.sum() * 100).round(2)\n",
    "observation_df = pd.DataFrame({\n",
    "    'Count' : counts,\n",
    "    'Proportion' : proportion.round(2).astype(str) + '%'\n",
    "})\n",
    "observation_df"
   ]
  },
  {
   "cell_type": "markdown",
   "id": "1370961b-6a8f-4368-a841-98c1c9941979",
   "metadata": {},
   "source": [
    "***Note:*** The data team's observation that `'verified'` users are more likely to post opinion-based content has been validated."
   ]
  },
  {
   "cell_type": "markdown",
   "id": "f94cc1bf-b849-4d44-a29d-e69af788e76d",
   "metadata": {
    "editable": true,
    "slideshow": {
     "slide_type": ""
    },
    "tags": []
   },
   "source": [
    "<br>\n",
    "\n",
    "## **7. Begin Model Assessment and Preparation**\n",
    "\n",
    "#### **Assess Class Imbalance**\n",
    "\n",
    "**Prepare** data for modelling by ensuring balanced classes."
   ]
  },
  {
   "cell_type": "code",
   "execution_count": 24,
   "id": "ce316f1e-03fc-4d97-bb57-61753d8a9d9d",
   "metadata": {},
   "outputs": [
    {
     "data": {
      "text/html": [
       "<div>\n",
       "<style scoped>\n",
       "    .dataframe tbody tr th:only-of-type {\n",
       "        vertical-align: middle;\n",
       "    }\n",
       "\n",
       "    .dataframe tbody tr th {\n",
       "        vertical-align: top;\n",
       "    }\n",
       "\n",
       "    .dataframe thead th {\n",
       "        text-align: right;\n",
       "    }\n",
       "</style>\n",
       "<table border=\"1\" class=\"dataframe\">\n",
       "  <thead>\n",
       "    <tr style=\"text-align: right;\">\n",
       "      <th></th>\n",
       "      <th>Count</th>\n",
       "      <th>Distribution</th>\n",
       "    </tr>\n",
       "    <tr>\n",
       "      <th>verified_status</th>\n",
       "      <th></th>\n",
       "      <th></th>\n",
       "    </tr>\n",
       "  </thead>\n",
       "  <tbody>\n",
       "    <tr>\n",
       "      <th>not verified</th>\n",
       "      <td>17884</td>\n",
       "      <td>93.71%</td>\n",
       "    </tr>\n",
       "    <tr>\n",
       "      <th>verified</th>\n",
       "      <td>1200</td>\n",
       "      <td>6.29%</td>\n",
       "    </tr>\n",
       "  </tbody>\n",
       "</table>\n",
       "</div>"
      ],
      "text/plain": [
       "                 Count Distribution\n",
       "verified_status                    \n",
       "not verified     17884       93.71%\n",
       "verified          1200        6.29%"
      ]
     },
     "execution_count": 24,
     "metadata": {},
     "output_type": "execute_result"
    }
   ],
   "source": [
    "# Check class balance\n",
    "values = df_cleaned['verified_status'].value_counts(dropna=False)\n",
    "distribution = (values / values.sum() * 100).round(2)\n",
    "balance_df = pd.DataFrame({\n",
    "    'Count' : values,\n",
    "    'Distribution' : distribution.round(2).astype(str) + '%'\n",
    "})\n",
    "balance_df"
   ]
  },
  {
   "cell_type": "markdown",
   "id": "2acfd582-620a-4657-9742-695c71b5e86b",
   "metadata": {},
   "source": [
    "***Insight:*** \n",
    "\n",
    "* The dataset shows a significant class imbalance, with verified accounts comprising only 6.29% of the data. To address this, I will apply resampling techniques to create a more balanced representation of the outcome variable in the model.\n",
    "\n",
    "<br>\n",
    "\n",
    "**Balance** dataset."
   ]
  },
  {
   "cell_type": "code",
   "execution_count": 25,
   "id": "8368f946-5254-45db-ac70-4d108889c0c0",
   "metadata": {},
   "outputs": [
    {
     "data": {
      "text/plain": [
       "verified_status\n",
       "not verified    17884\n",
       "verified        17884\n",
       "Name: count, dtype: int64"
      ]
     },
     "execution_count": 25,
     "metadata": {},
     "output_type": "execute_result"
    }
   ],
   "source": [
    "# Identify data points from majority and minority classes\n",
    "data_majority = df_cleaned[df_cleaned[\"verified_status\"] == \"not verified\"]\n",
    "data_minority = df_cleaned[df_cleaned[\"verified_status\"] == \"verified\"]\n",
    "\n",
    "# Upsample the minority class (which is \"verified\")\n",
    "data_minority_upsampled = resample(data_minority,\n",
    "                                 replace=True,                 # to sample with replacement\n",
    "                                 n_samples=len(data_majority), # to match majority class\n",
    "                                 random_state=0)               # to create reproducible results\n",
    "\n",
    "# Combine majority class with upsampled minority class\n",
    "data_upsampled = pd.concat([data_majority, data_minority_upsampled]).reset_index(drop=True)\n",
    "\n",
    "# Display new class counts\n",
    "data_upsampled[\"verified_status\"].value_counts()"
   ]
  },
  {
   "cell_type": "markdown",
   "id": "82255678-6bfd-4d8b-9f70-789d50de1606",
   "metadata": {
    "editable": true,
    "slideshow": {
     "slide_type": ""
    },
    "tags": []
   },
   "source": [
    "<br>\n",
    "\n",
    "## **8. Feature Engineering**\n",
    "\n",
    "**Calculate** the length of each `'video_transcription_text'` and add it as a new column in the dataframe, making it available as a potential feature for the model."
   ]
  },
  {
   "cell_type": "code",
   "execution_count": 26,
   "id": "afd87fb6-b279-499e-94e3-f349a86e2751",
   "metadata": {
    "editable": true,
    "slideshow": {
     "slide_type": ""
    },
    "tags": []
   },
   "outputs": [
    {
     "data": {
      "text/html": [
       "<div>\n",
       "<style scoped>\n",
       "    .dataframe tbody tr th:only-of-type {\n",
       "        vertical-align: middle;\n",
       "    }\n",
       "\n",
       "    .dataframe tbody tr th {\n",
       "        vertical-align: top;\n",
       "    }\n",
       "\n",
       "    .dataframe thead th {\n",
       "        text-align: right;\n",
       "    }\n",
       "</style>\n",
       "<table border=\"1\" class=\"dataframe\">\n",
       "  <thead>\n",
       "    <tr style=\"text-align: right;\">\n",
       "      <th></th>\n",
       "      <th>verified_status</th>\n",
       "      <th>text_length</th>\n",
       "    </tr>\n",
       "  </thead>\n",
       "  <tbody>\n",
       "    <tr>\n",
       "      <th>0</th>\n",
       "      <td>not verified</td>\n",
       "      <td>89.401141</td>\n",
       "    </tr>\n",
       "    <tr>\n",
       "      <th>1</th>\n",
       "      <td>verified</td>\n",
       "      <td>84.569559</td>\n",
       "    </tr>\n",
       "  </tbody>\n",
       "</table>\n",
       "</div>"
      ],
      "text/plain": [
       "  verified_status  text_length\n",
       "0    not verified    89.401141\n",
       "1        verified    84.569559"
      ]
     },
     "execution_count": 26,
     "metadata": {},
     "output_type": "execute_result"
    }
   ],
   "source": [
    "# Get the average `video_transcription_text` length for verified and the average `video_transcription_text` length for not verified\n",
    "data_upsampled['text_length'] = data_upsampled['video_transcription_text'].str.len()\n",
    "average_lengths = data_upsampled.groupby('verified_status')['text_length'].mean().reset_index()\n",
    "average_lengths"
   ]
  },
  {
   "cell_type": "code",
   "execution_count": 27,
   "id": "886b9910-6195-47e1-a550-4084a4a408d3",
   "metadata": {},
   "outputs": [
    {
     "data": {
      "text/html": [
       "<div>\n",
       "<style scoped>\n",
       "    .dataframe tbody tr th:only-of-type {\n",
       "        vertical-align: middle;\n",
       "    }\n",
       "\n",
       "    .dataframe tbody tr th {\n",
       "        vertical-align: top;\n",
       "    }\n",
       "\n",
       "    .dataframe thead th {\n",
       "        text-align: right;\n",
       "    }\n",
       "</style>\n",
       "<table border=\"1\" class=\"dataframe\">\n",
       "  <thead>\n",
       "    <tr style=\"text-align: right;\">\n",
       "      <th></th>\n",
       "      <th>claim_status</th>\n",
       "      <th>text_length</th>\n",
       "    </tr>\n",
       "  </thead>\n",
       "  <tbody>\n",
       "    <tr>\n",
       "      <th>0</th>\n",
       "      <td>claim</td>\n",
       "      <td>95.200032</td>\n",
       "    </tr>\n",
       "    <tr>\n",
       "      <th>1</th>\n",
       "      <td>opinion</td>\n",
       "      <td>82.570643</td>\n",
       "    </tr>\n",
       "  </tbody>\n",
       "</table>\n",
       "</div>"
      ],
      "text/plain": [
       "  claim_status  text_length\n",
       "0        claim    95.200032\n",
       "1      opinion    82.570643"
      ]
     },
     "execution_count": 27,
     "metadata": {},
     "output_type": "execute_result"
    }
   ],
   "source": [
    "# Get the average `video_transcription_text` length for claims and the average `video_transcription_text` length for opinions\n",
    "average_claims_lengths = data_upsampled.groupby('claim_status')['text_length'].mean().reset_index()\n",
    "average_claims_lengths"
   ]
  },
  {
   "cell_type": "markdown",
   "id": "220fa17d-6417-40fe-8338-f768e0efeb0d",
   "metadata": {},
   "source": [
    "***Insight:*** \n",
    "\n",
    "* Both `'not verified'` and `'claims'` contain the longest average text length within their respective groups.\n",
    "\n",
    "<br>"
   ]
  },
  {
   "cell_type": "code",
   "execution_count": 28,
   "id": "b25e0ef2-b9a9-42a3-8363-703a8dcd95fd",
   "metadata": {},
   "outputs": [
    {
     "data": {
      "text/html": [
       "<div>\n",
       "<style scoped>\n",
       "    .dataframe tbody tr th:only-of-type {\n",
       "        vertical-align: middle;\n",
       "    }\n",
       "\n",
       "    .dataframe tbody tr th {\n",
       "        vertical-align: top;\n",
       "    }\n",
       "\n",
       "    .dataframe thead th {\n",
       "        text-align: right;\n",
       "    }\n",
       "</style>\n",
       "<table border=\"1\" class=\"dataframe\">\n",
       "  <thead>\n",
       "    <tr style=\"text-align: right;\">\n",
       "      <th></th>\n",
       "      <th>#</th>\n",
       "      <th>claim_status</th>\n",
       "      <th>video_id</th>\n",
       "      <th>video_duration_sec</th>\n",
       "      <th>video_transcription_text</th>\n",
       "      <th>verified_status</th>\n",
       "      <th>author_ban_status</th>\n",
       "      <th>video_view_count</th>\n",
       "      <th>video_like_count</th>\n",
       "      <th>video_share_count</th>\n",
       "      <th>video_download_count</th>\n",
       "      <th>video_comment_count</th>\n",
       "      <th>text_length</th>\n",
       "    </tr>\n",
       "  </thead>\n",
       "  <tbody>\n",
       "    <tr>\n",
       "      <th>0</th>\n",
       "      <td>1</td>\n",
       "      <td>claim</td>\n",
       "      <td>7017666017</td>\n",
       "      <td>59</td>\n",
       "      <td>someone shared with me that drone deliveries a...</td>\n",
       "      <td>not verified</td>\n",
       "      <td>under review</td>\n",
       "      <td>343296.0</td>\n",
       "      <td>19425.0</td>\n",
       "      <td>241.0</td>\n",
       "      <td>1.0</td>\n",
       "      <td>0.0</td>\n",
       "      <td>97</td>\n",
       "    </tr>\n",
       "    <tr>\n",
       "      <th>1</th>\n",
       "      <td>2</td>\n",
       "      <td>claim</td>\n",
       "      <td>4014381136</td>\n",
       "      <td>32</td>\n",
       "      <td>someone shared with me that there are more mic...</td>\n",
       "      <td>not verified</td>\n",
       "      <td>active</td>\n",
       "      <td>140877.0</td>\n",
       "      <td>77355.0</td>\n",
       "      <td>19034.0</td>\n",
       "      <td>1161.0</td>\n",
       "      <td>684.0</td>\n",
       "      <td>107</td>\n",
       "    </tr>\n",
       "    <tr>\n",
       "      <th>2</th>\n",
       "      <td>3</td>\n",
       "      <td>claim</td>\n",
       "      <td>9859838091</td>\n",
       "      <td>31</td>\n",
       "      <td>someone shared with me that american industria...</td>\n",
       "      <td>not verified</td>\n",
       "      <td>active</td>\n",
       "      <td>902185.0</td>\n",
       "      <td>97690.0</td>\n",
       "      <td>2858.0</td>\n",
       "      <td>833.0</td>\n",
       "      <td>329.0</td>\n",
       "      <td>137</td>\n",
       "    </tr>\n",
       "  </tbody>\n",
       "</table>\n",
       "</div>"
      ],
      "text/plain": [
       "   # claim_status    video_id  video_duration_sec  \\\n",
       "0  1        claim  7017666017                  59   \n",
       "1  2        claim  4014381136                  32   \n",
       "2  3        claim  9859838091                  31   \n",
       "\n",
       "                            video_transcription_text verified_status  \\\n",
       "0  someone shared with me that drone deliveries a...    not verified   \n",
       "1  someone shared with me that there are more mic...    not verified   \n",
       "2  someone shared with me that american industria...    not verified   \n",
       "\n",
       "  author_ban_status  video_view_count  video_like_count  video_share_count  \\\n",
       "0      under review          343296.0           19425.0              241.0   \n",
       "1            active          140877.0           77355.0            19034.0   \n",
       "2            active          902185.0           97690.0             2858.0   \n",
       "\n",
       "   video_download_count  video_comment_count  text_length  \n",
       "0                   1.0                  0.0           97  \n",
       "1                1161.0                684.0          107  \n",
       "2                 833.0                329.0          137  "
      ]
     },
     "execution_count": 28,
     "metadata": {},
     "output_type": "execute_result"
    }
   ],
   "source": [
    "# Display first few rows of dataframe after adding new column\n",
    "data_upsampled.head(3)"
   ]
  },
  {
   "cell_type": "markdown",
   "id": "63d14f89-d048-40a7-8c93-47d87c220bdf",
   "metadata": {},
   "source": [
    "<br>\n",
    "\n",
    "**Visualize** the distribution of `'video_transcription_text'` lengths using newly created `'text_length'` column for videos posted by verified and unverified accounts."
   ]
  },
  {
   "cell_type": "code",
   "execution_count": 29,
   "id": "7d4db1c4-9ccb-4d53-a9a9-e73c052ce1a5",
   "metadata": {
    "editable": true,
    "slideshow": {
     "slide_type": ""
    },
    "tags": []
   },
   "outputs": [
    {
     "data": {
      "image/png": "[encoded data removed]",
      "text/plain": [
       "<Figure size 800x480 with 1 Axes>"
      ]
     },
     "metadata": {},
     "output_type": "display_data"
    }
   ],
   "source": [
    "# Plot histograms for verified and unverified accounts\n",
    "plt.figure(figsize=(8,4.8))\n",
    "tiktok_colours = [\"#20D5EC\", \"#FE2C55\"]\n",
    "sns.histplot(data=data_upsampled, stat=\"count\", multiple=\"stack\", x=\"text_length\", kde=False, palette=tiktok_colours, \n",
    "             hue=\"verified_status\", element=\"bars\", legend=True)\n",
    "plt.title(\"Seaborn Stacked Histogram\")\n",
    "plt.xlabel(\"Character Count of Video Transcription Text\")\n",
    "plt.ylabel(\"Count\")\n",
    "plt.title(\"Distribution of Video Transcription Length for Verified vs. Unverified Accounts\")\n",
    "plt.show()"
   ]
  },
  {
   "cell_type": "markdown",
   "id": "ea58ce67-e844-4225-b1fd-396270bb1e84",
   "metadata": {
    "editable": true,
    "slideshow": {
     "slide_type": ""
    },
    "tags": []
   },
   "source": [
    "<br>\n",
    "\n",
    "## **9. Examine Correlations**\n",
    "\n",
    "Visualize feature correlations to identify highly correlated metrics.\n",
    "\n",
    "**Create** a correlation matrix."
   ]
  },
  {
   "cell_type": "code",
   "execution_count": 30,
   "id": "efb5bcb8-3d34-45e4-acfc-5b3f6c38ce6e",
   "metadata": {},
   "outputs": [
    {
     "data": {
      "text/html": [
       "<div>\n",
       "<style scoped>\n",
       "    .dataframe tbody tr th:only-of-type {\n",
       "        vertical-align: middle;\n",
       "    }\n",
       "\n",
       "    .dataframe tbody tr th {\n",
       "        vertical-align: top;\n",
       "    }\n",
       "\n",
       "    .dataframe thead th {\n",
       "        text-align: right;\n",
       "    }\n",
       "</style>\n",
       "<table border=\"1\" class=\"dataframe\">\n",
       "  <thead>\n",
       "    <tr style=\"text-align: right;\">\n",
       "      <th></th>\n",
       "      <th>#</th>\n",
       "      <th>video_id</th>\n",
       "      <th>video_duration_sec</th>\n",
       "      <th>video_view_count</th>\n",
       "      <th>video_like_count</th>\n",
       "      <th>video_share_count</th>\n",
       "      <th>video_download_count</th>\n",
       "      <th>video_comment_count</th>\n",
       "      <th>text_length</th>\n",
       "    </tr>\n",
       "  </thead>\n",
       "  <tbody>\n",
       "    <tr>\n",
       "      <th>#</th>\n",
       "      <td>1.000000</td>\n",
       "      <td>-0.000853</td>\n",
       "      <td>-0.011729</td>\n",
       "      <td>-0.697007</td>\n",
       "      <td>-0.626385</td>\n",
       "      <td>-0.504015</td>\n",
       "      <td>-0.487096</td>\n",
       "      <td>-0.608773</td>\n",
       "      <td>-0.193677</td>\n",
       "    </tr>\n",
       "    <tr>\n",
       "      <th>video_id</th>\n",
       "      <td>-0.000853</td>\n",
       "      <td>1.000000</td>\n",
       "      <td>0.011859</td>\n",
       "      <td>0.002554</td>\n",
       "      <td>0.005993</td>\n",
       "      <td>0.010515</td>\n",
       "      <td>0.008753</td>\n",
       "      <td>0.012674</td>\n",
       "      <td>-0.007083</td>\n",
       "    </tr>\n",
       "    <tr>\n",
       "      <th>video_duration_sec</th>\n",
       "      <td>-0.011729</td>\n",
       "      <td>0.011859</td>\n",
       "      <td>1.000000</td>\n",
       "      <td>0.013589</td>\n",
       "      <td>0.004494</td>\n",
       "      <td>0.002206</td>\n",
       "      <td>0.003989</td>\n",
       "      <td>-0.001086</td>\n",
       "      <td>-0.002981</td>\n",
       "    </tr>\n",
       "    <tr>\n",
       "      <th>video_view_count</th>\n",
       "      <td>-0.697007</td>\n",
       "      <td>0.002554</td>\n",
       "      <td>0.013589</td>\n",
       "      <td>1.000000</td>\n",
       "      <td>0.856937</td>\n",
       "      <td>0.711313</td>\n",
       "      <td>0.690048</td>\n",
       "      <td>0.748361</td>\n",
       "      <td>0.244693</td>\n",
       "    </tr>\n",
       "    <tr>\n",
       "      <th>video_like_count</th>\n",
       "      <td>-0.626385</td>\n",
       "      <td>0.005993</td>\n",
       "      <td>0.004494</td>\n",
       "      <td>0.856937</td>\n",
       "      <td>1.000000</td>\n",
       "      <td>0.832146</td>\n",
       "      <td>0.805543</td>\n",
       "      <td>0.818032</td>\n",
       "      <td>0.216693</td>\n",
       "    </tr>\n",
       "    <tr>\n",
       "      <th>video_share_count</th>\n",
       "      <td>-0.504015</td>\n",
       "      <td>0.010515</td>\n",
       "      <td>0.002206</td>\n",
       "      <td>0.711313</td>\n",
       "      <td>0.832146</td>\n",
       "      <td>1.000000</td>\n",
       "      <td>0.710117</td>\n",
       "      <td>0.671335</td>\n",
       "      <td>0.171651</td>\n",
       "    </tr>\n",
       "    <tr>\n",
       "      <th>video_download_count</th>\n",
       "      <td>-0.487096</td>\n",
       "      <td>0.008753</td>\n",
       "      <td>0.003989</td>\n",
       "      <td>0.690048</td>\n",
       "      <td>0.805543</td>\n",
       "      <td>0.710117</td>\n",
       "      <td>1.000000</td>\n",
       "      <td>0.793668</td>\n",
       "      <td>0.173396</td>\n",
       "    </tr>\n",
       "    <tr>\n",
       "      <th>video_comment_count</th>\n",
       "      <td>-0.608773</td>\n",
       "      <td>0.012674</td>\n",
       "      <td>-0.001086</td>\n",
       "      <td>0.748361</td>\n",
       "      <td>0.818032</td>\n",
       "      <td>0.671335</td>\n",
       "      <td>0.793668</td>\n",
       "      <td>1.000000</td>\n",
       "      <td>0.217661</td>\n",
       "    </tr>\n",
       "    <tr>\n",
       "      <th>text_length</th>\n",
       "      <td>-0.193677</td>\n",
       "      <td>-0.007083</td>\n",
       "      <td>-0.002981</td>\n",
       "      <td>0.244693</td>\n",
       "      <td>0.216693</td>\n",
       "      <td>0.171651</td>\n",
       "      <td>0.173396</td>\n",
       "      <td>0.217661</td>\n",
       "      <td>1.000000</td>\n",
       "    </tr>\n",
       "  </tbody>\n",
       "</table>\n",
       "</div>"
      ],
      "text/plain": [
       "                             #  video_id  video_duration_sec  \\\n",
       "#                     1.000000 -0.000853           -0.011729   \n",
       "video_id             -0.000853  1.000000            0.011859   \n",
       "video_duration_sec   -0.011729  0.011859            1.000000   \n",
       "video_view_count     -0.697007  0.002554            0.013589   \n",
       "video_like_count     -0.626385  0.005993            0.004494   \n",
       "video_share_count    -0.504015  0.010515            0.002206   \n",
       "video_download_count -0.487096  0.008753            0.003989   \n",
       "video_comment_count  -0.608773  0.012674           -0.001086   \n",
       "text_length          -0.193677 -0.007083           -0.002981   \n",
       "\n",
       "                      video_view_count  video_like_count  video_share_count  \\\n",
       "#                            -0.697007         -0.626385          -0.504015   \n",
       "video_id                      0.002554          0.005993           0.010515   \n",
       "video_duration_sec            0.013589          0.004494           0.002206   \n",
       "video_view_count              1.000000          0.856937           0.711313   \n",
       "video_like_count              0.856937          1.000000           0.832146   \n",
       "video_share_count             0.711313          0.832146           1.000000   \n",
       "video_download_count          0.690048          0.805543           0.710117   \n",
       "video_comment_count           0.748361          0.818032           0.671335   \n",
       "text_length                   0.244693          0.216693           0.171651   \n",
       "\n",
       "                      video_download_count  video_comment_count  text_length  \n",
       "#                                -0.487096            -0.608773    -0.193677  \n",
       "video_id                          0.008753             0.012674    -0.007083  \n",
       "video_duration_sec                0.003989            -0.001086    -0.002981  \n",
       "video_view_count                  0.690048             0.748361     0.244693  \n",
       "video_like_count                  0.805543             0.818032     0.216693  \n",
       "video_share_count                 0.710117             0.671335     0.171651  \n",
       "video_download_count              1.000000             0.793668     0.173396  \n",
       "video_comment_count               0.793668             1.000000     0.217661  \n",
       "text_length                       0.173396             0.217661     1.000000  "
      ]
     },
     "execution_count": 30,
     "metadata": {},
     "output_type": "execute_result"
    }
   ],
   "source": [
    "# Correlation matrix to help determine most correlated variables\n",
    "data_upsampled.corr(numeric_only = True)"
   ]
  },
  {
   "cell_type": "markdown",
   "id": "6c4cf7ec-7362-4115-aff1-a4b19059a699",
   "metadata": {
    "editable": true,
    "slideshow": {
     "slide_type": ""
    },
    "tags": []
   },
   "source": [
    "<br>\n",
    "\n",
    "**Visualize** a correlation heatmap of the data."
   ]
  },
  {
   "cell_type": "code",
   "execution_count": 31,
   "id": "fcbd5395-684b-402a-98dc-6fa3d74b8b9d",
   "metadata": {},
   "outputs": [
    {
     "data": {
      "image/png": "[encoded data removed]",
      "text/plain": [
       "<Figure size 600x450 with 2 Axes>"
      ]
     },
     "metadata": {},
     "output_type": "display_data"
    }
   ],
   "source": [
    "# Plot Heatmap\n",
    "plt.figure(figsize = (6, 4.5))\n",
    "sns.heatmap(\n",
    "    data_upsampled[[\"video_duration_sec\", \"claim_status\", \"author_ban_status\", \"video_view_count\", \n",
    "                    \"video_like_count\", \"video_share_count\", \"video_download_count\", \"video_comment_count\", \"text_length\"]]\n",
    "    .corr(numeric_only=True), \n",
    "    annot = True, \n",
    "    cmap = \"crest\")\n",
    "\n",
    "plt.title(\"Correlation Heatmap\")\n",
    "plt.show()"
   ]
  },
  {
   "cell_type": "markdown",
   "id": "d81f72c2-4421-4b40-8a1d-491d6766754e",
   "metadata": {},
   "source": [
    "***Insight:*** \n",
    "\n",
    "* `'video_like_count'` has the highest correlation score across the highly correlated features.\n",
    "\n",
    "<br>\n",
    "\n",
    "**Calculate** the averages of highly correlated features to assess pairwise correlation strength."
   ]
  },
  {
   "cell_type": "code",
   "execution_count": 32,
   "id": "6c182da2-d732-4320-85b0-e39a18a33fc7",
   "metadata": {},
   "outputs": [
    {
     "name": "stdout",
     "output_type": "stream",
     "text": [
      "video_view_count     | 0.7525\n",
      "video_like_count     | 0.83\n",
      "video_share_count    | 0.73\n",
      "video_download_count | 0.75\n",
      "video_comment_count  | 0.7575\n"
     ]
    }
   ],
   "source": [
    "print(f\"video_view_count     | {(0.86+0.71+0.69+0.75)/4}\")\n",
    "print(f\"video_like_count     | {(0.86+0.83+0.81+0.82)/4}\")\n",
    "print(f\"video_share_count    | {(0.71+0.83+0.71+0.67)/4}\")\n",
    "print(f\"video_download_count | {(0.69+0.81+0.71+0.79)/4}\")\n",
    "print(f\"video_comment_count  | {(0.75+0.82+0.67+0.79)/4}\")"
   ]
  },
  {
   "cell_type": "markdown",
   "id": "d614c376-1d7e-4fc3-b24a-e12369b2ffa7",
   "metadata": {},
   "source": [
    "***Inights:***\n",
    "\n",
    "* Minimal correlation from `'video_duration_sec'` and `'text_length'` features.\n",
    "* `'video_like_count'` contains highest average correlation score.\n",
    "\n",
    "<br>\n",
    "\n",
    "#### **Check for Multicollinearity**\n",
    "\n",
    "**After** viewing the correlation heatmap, checking for multicollinearity is essential because the heatmap only provides a visual sense of pairwise correlations between features. However, multicollinearity involves complex interactions where a single feature may be highly correlated with a combination of multiple other features, which isn’t fully captured in a heatmap."
   ]
  },
  {
   "cell_type": "markdown",
   "id": "ab22c51a-7b14-475b-a2fe-525d754a9c01",
   "metadata": {},
   "source": [
    "**Calculate** VIF scores."
   ]
  },
  {
   "cell_type": "code",
   "execution_count": 33,
   "id": "28c9a60e-587b-4478-82a1-49c2e63a1c75",
   "metadata": {},
   "outputs": [
    {
     "data": {
      "text/html": [
       "<div>\n",
       "<style scoped>\n",
       "    .dataframe tbody tr th:only-of-type {\n",
       "        vertical-align: middle;\n",
       "    }\n",
       "\n",
       "    .dataframe tbody tr th {\n",
       "        vertical-align: top;\n",
       "    }\n",
       "\n",
       "    .dataframe thead th {\n",
       "        text-align: right;\n",
       "    }\n",
       "</style>\n",
       "<table border=\"1\" class=\"dataframe\">\n",
       "  <thead>\n",
       "    <tr style=\"text-align: right;\">\n",
       "      <th></th>\n",
       "      <th>Feature</th>\n",
       "      <th>VIF</th>\n",
       "    </tr>\n",
       "  </thead>\n",
       "  <tbody>\n",
       "    <tr>\n",
       "      <th>1</th>\n",
       "      <td>video_view_count</td>\n",
       "      <td>3.882412</td>\n",
       "    </tr>\n",
       "    <tr>\n",
       "      <th>2</th>\n",
       "      <td>video_like_count</td>\n",
       "      <td>8.098610</td>\n",
       "    </tr>\n",
       "    <tr>\n",
       "      <th>3</th>\n",
       "      <td>video_share_count</td>\n",
       "      <td>3.324211</td>\n",
       "    </tr>\n",
       "    <tr>\n",
       "      <th>4</th>\n",
       "      <td>video_download_count</td>\n",
       "      <td>3.465061</td>\n",
       "    </tr>\n",
       "    <tr>\n",
       "      <th>5</th>\n",
       "      <td>video_comment_count</td>\n",
       "      <td>3.721522</td>\n",
       "    </tr>\n",
       "  </tbody>\n",
       "</table>\n",
       "</div>"
      ],
      "text/plain": [
       "                Feature       VIF\n",
       "1      video_view_count  3.882412\n",
       "2      video_like_count  8.098610\n",
       "3     video_share_count  3.324211\n",
       "4  video_download_count  3.465061\n",
       "5   video_comment_count  3.721522"
      ]
     },
     "execution_count": 33,
     "metadata": {},
     "output_type": "execute_result"
    }
   ],
   "source": [
    "# Select only the numerical columns you want to check for multicollinearity\n",
    "X_vif = data_upsampled[['video_view_count', 'video_like_count', 'video_share_count', \n",
    "                        'video_download_count', 'video_comment_count']]\n",
    "\n",
    "# Add a constant column to X_vif for VIF calculation\n",
    "X_vif = sm.add_constant(X_vif)\n",
    "\n",
    "# Calculate VIF for each feature\n",
    "vif_data = pd.DataFrame({\n",
    "    \"Feature\": X_vif.columns,\n",
    "    \"VIF\": [variance_inflation_factor(X_vif.values, i) for i in range(X_vif.shape[1])]\n",
    "})\n",
    "\n",
    "# Drop the constant column from the results\n",
    "vif_data = vif_data[vif_data['Feature'] != 'const']\n",
    "\n",
    "vif_data"
   ]
  },
  {
   "cell_type": "markdown",
   "id": "38eb0ea1-323a-4a18-b953-0293c4a484ff",
   "metadata": {
    "editable": true,
    "slideshow": {
     "slide_type": ""
    },
    "tags": []
   },
   "source": [
    "***Insights:*** \n",
    "\n",
    "* As noted in the data cleaning stage, selectively capping metrics with the fewest and most extreme outliers in this instance helped keep VIF scores relatively low, with the exception of `'video_like_count'`.\n",
    "* `'video_like_count'` has a high VIF score (8.1) and the strongest average correlation (0.83) with other features, indicating significant pairwise correlation and multicollinearity. To improve model stability and interpretability, this metric will be excluded from the model."
   ]
  },
  {
   "cell_type": "markdown",
   "id": "9e2778d6-8f61-42ac-8b9f-5be7d3da2d13",
   "metadata": {},
   "source": [
    "<br>\n",
    "\n",
    "# **Construct Phase:**\n",
    "\n",
    "## **10. Variable Selection**\n",
    "\n",
    "**Define** the target variable (Y) and predictor variables (X) for the model."
   ]
  },
  {
   "cell_type": "code",
   "execution_count": 34,
   "id": "3396b685-1a44-489c-a14d-9713f791b844",
   "metadata": {},
   "outputs": [],
   "source": [
    "# Select outcome variable\n",
    "y = data_upsampled['verified_status']"
   ]
  },
  {
   "cell_type": "code",
   "execution_count": 35,
   "id": "9e840034-fc1e-47ad-8b32-d0c1d53097df",
   "metadata": {
    "jupyter": {
     "source_hidden": true
    }
   },
   "outputs": [],
   "source": [
    "# Click to Unhide - Test Case Variable Selection\n",
    "# Includes 'video_like_count'\n",
    "if False:\n",
    "    # Select features\n",
    "    X = data_upsampled[['claim_status', 'video_duration_sec', 'author_ban_status', 'video_view_count', \n",
    "                        'video_like_count', 'video_share_count', 'video_download_count', 'video_comment_count']]\n",
    "    \n",
    "    # Display first few rows of features dataframe\n",
    "    X.head()"
   ]
  },
  {
   "cell_type": "code",
   "execution_count": 36,
   "id": "55bf6dfd-9419-456a-8e1c-56509e92c735",
   "metadata": {},
   "outputs": [
    {
     "data": {
      "text/html": [
       "<div>\n",
       "<style scoped>\n",
       "    .dataframe tbody tr th:only-of-type {\n",
       "        vertical-align: middle;\n",
       "    }\n",
       "\n",
       "    .dataframe tbody tr th {\n",
       "        vertical-align: top;\n",
       "    }\n",
       "\n",
       "    .dataframe thead th {\n",
       "        text-align: right;\n",
       "    }\n",
       "</style>\n",
       "<table border=\"1\" class=\"dataframe\">\n",
       "  <thead>\n",
       "    <tr style=\"text-align: right;\">\n",
       "      <th></th>\n",
       "      <th>claim_status</th>\n",
       "      <th>video_duration_sec</th>\n",
       "      <th>author_ban_status</th>\n",
       "      <th>video_view_count</th>\n",
       "      <th>video_share_count</th>\n",
       "      <th>video_download_count</th>\n",
       "      <th>video_comment_count</th>\n",
       "    </tr>\n",
       "  </thead>\n",
       "  <tbody>\n",
       "    <tr>\n",
       "      <th>0</th>\n",
       "      <td>claim</td>\n",
       "      <td>59</td>\n",
       "      <td>under review</td>\n",
       "      <td>343296.0</td>\n",
       "      <td>241.0</td>\n",
       "      <td>1.0</td>\n",
       "      <td>0.0</td>\n",
       "    </tr>\n",
       "    <tr>\n",
       "      <th>1</th>\n",
       "      <td>claim</td>\n",
       "      <td>32</td>\n",
       "      <td>active</td>\n",
       "      <td>140877.0</td>\n",
       "      <td>19034.0</td>\n",
       "      <td>1161.0</td>\n",
       "      <td>684.0</td>\n",
       "    </tr>\n",
       "    <tr>\n",
       "      <th>2</th>\n",
       "      <td>claim</td>\n",
       "      <td>31</td>\n",
       "      <td>active</td>\n",
       "      <td>902185.0</td>\n",
       "      <td>2858.0</td>\n",
       "      <td>833.0</td>\n",
       "      <td>329.0</td>\n",
       "    </tr>\n",
       "    <tr>\n",
       "      <th>3</th>\n",
       "      <td>claim</td>\n",
       "      <td>25</td>\n",
       "      <td>active</td>\n",
       "      <td>437506.0</td>\n",
       "      <td>34812.0</td>\n",
       "      <td>1234.0</td>\n",
       "      <td>584.0</td>\n",
       "    </tr>\n",
       "    <tr>\n",
       "      <th>4</th>\n",
       "      <td>claim</td>\n",
       "      <td>19</td>\n",
       "      <td>active</td>\n",
       "      <td>56167.0</td>\n",
       "      <td>4110.0</td>\n",
       "      <td>547.0</td>\n",
       "      <td>152.0</td>\n",
       "    </tr>\n",
       "  </tbody>\n",
       "</table>\n",
       "</div>"
      ],
      "text/plain": [
       "  claim_status  video_duration_sec author_ban_status  video_view_count  \\\n",
       "0        claim                  59      under review          343296.0   \n",
       "1        claim                  32            active          140877.0   \n",
       "2        claim                  31            active          902185.0   \n",
       "3        claim                  25            active          437506.0   \n",
       "4        claim                  19            active           56167.0   \n",
       "\n",
       "   video_share_count  video_download_count  video_comment_count  \n",
       "0              241.0                   1.0                  0.0  \n",
       "1            19034.0                1161.0                684.0  \n",
       "2             2858.0                 833.0                329.0  \n",
       "3            34812.0                1234.0                584.0  \n",
       "4             4110.0                 547.0                152.0  "
      ]
     },
     "execution_count": 36,
     "metadata": {},
     "output_type": "execute_result"
    }
   ],
   "source": [
    "# Select features\n",
    "X = data_upsampled[['claim_status', 'video_duration_sec', 'author_ban_status', 'video_view_count', \n",
    "                    'video_share_count', 'video_download_count', 'video_comment_count']]\n",
    "\n",
    "# Display first few rows of features dataframe\n",
    "X.head()"
   ]
  },
  {
   "cell_type": "markdown",
   "id": "be72e79b-7224-4d27-8ca8-f6f4ab4ac54f",
   "metadata": {},
   "source": [
    "***Note:*** The columns `'#'` and `'video_id'` have been excluded as they do not contribute value to the model. Additionally, `'video_like_count'` has been omitted due to its strong correlation with other features, as mentioned earlier. This decision aligns with the logistic regression assumption of no multicollinearity, which must be satisfied.\n",
    "\n",
    "<br>\n",
    "\n",
    "## **11. Train-test split**\n",
    "\n",
    "**Split** the dataset to assess model performance on unseen data."
   ]
  },
  {
   "cell_type": "code",
   "execution_count": 37,
   "id": "72238787-5133-420d-9b51-2ea35e6d2f90",
   "metadata": {},
   "outputs": [],
   "source": [
    "# Split the data into training and testing sets\n",
    "X_train, X_test, y_train, y_test = train_test_split(X, y, test_size=0.30, random_state=0)"
   ]
  },
  {
   "cell_type": "code",
   "execution_count": 38,
   "id": "dab788e7-b79f-4dc1-b32a-061c95eac39f",
   "metadata": {},
   "outputs": [
    {
     "data": {
      "text/plain": [
       "((25037, 7), (10731, 7), (25037,), (10731,))"
      ]
     },
     "execution_count": 38,
     "metadata": {},
     "output_type": "execute_result"
    }
   ],
   "source": [
    "# Get shape of each training and testing set\n",
    "X_train.shape, X_test.shape, y_train.shape, y_test.shape"
   ]
  },
  {
   "cell_type": "markdown",
   "id": "884f8269-78a6-4cd7-a9d5-1ffe32e16edd",
   "metadata": {},
   "source": [
    "**Note:** Number of training and testing rows and features both align.\n",
    "\n",
    "<br>\n",
    "\n",
    "## **12. Encode variables**\n",
    "\n",
    "**Transform** categorical features into a format suitable for the model.  First inspect the `'X_train'` data types."
   ]
  },
  {
   "cell_type": "code",
   "execution_count": 39,
   "id": "e033d1e7-2450-441a-84da-185da3326ce0",
   "metadata": {},
   "outputs": [
    {
     "data": {
      "text/plain": [
       "claim_status             object\n",
       "video_duration_sec        int64\n",
       "author_ban_status        object\n",
       "video_view_count        float64\n",
       "video_share_count       float64\n",
       "video_download_count    float64\n",
       "video_comment_count     float64\n",
       "dtype: object"
      ]
     },
     "execution_count": 39,
     "metadata": {},
     "output_type": "execute_result"
    }
   ],
   "source": [
    "# Check data types\n",
    "X_train.dtypes"
   ]
  },
  {
   "cell_type": "code",
   "execution_count": 40,
   "id": "bf5953cc-a10d-44ed-bfa0-5163d152dba9",
   "metadata": {},
   "outputs": [
    {
     "data": {
      "text/plain": [
       "array(['claim', 'opinion'], dtype=object)"
      ]
     },
     "execution_count": 40,
     "metadata": {},
     "output_type": "execute_result"
    }
   ],
   "source": [
    "# Get unique values in `claim_status`\n",
    "X_train['claim_status'].unique()"
   ]
  },
  {
   "cell_type": "code",
   "execution_count": 41,
   "id": "9956c136-0fe5-4fdd-9280-9a66b667548f",
   "metadata": {},
   "outputs": [
    {
     "data": {
      "text/plain": [
       "array(['active', 'under review', 'banned'], dtype=object)"
      ]
     },
     "execution_count": 41,
     "metadata": {},
     "output_type": "execute_result"
    }
   ],
   "source": [
    "# Get unique values in `author_ban_status`\n",
    "X_train['author_ban_status'].unique()"
   ]
  },
  {
   "cell_type": "markdown",
   "id": "99e80765-8dff-478b-a369-66d337fe9391",
   "metadata": {},
   "source": [
    "**Note:** To prepare for model implementation using sklearn, the `'claim_status'` and `'author_ban_status features'`, currently of type object, must be converted to numeric format. Use one-hot encoding or another suitable method to encode these categorical features in the training set.\n",
    "\n",
    "<br>\n",
    "\n",
    "**Encode** `'X-train'` features using one-hot encoding."
   ]
  },
  {
   "cell_type": "code",
   "execution_count": 42,
   "id": "21110f66-3b5e-4639-b815-247d442b786a",
   "metadata": {},
   "outputs": [
    {
     "data": {
      "text/html": [
       "<div>\n",
       "<style scoped>\n",
       "    .dataframe tbody tr th:only-of-type {\n",
       "        vertical-align: middle;\n",
       "    }\n",
       "\n",
       "    .dataframe tbody tr th {\n",
       "        vertical-align: top;\n",
       "    }\n",
       "\n",
       "    .dataframe thead th {\n",
       "        text-align: right;\n",
       "    }\n",
       "</style>\n",
       "<table border=\"1\" class=\"dataframe\">\n",
       "  <thead>\n",
       "    <tr style=\"text-align: right;\">\n",
       "      <th></th>\n",
       "      <th>claim_status</th>\n",
       "      <th>author_ban_status</th>\n",
       "    </tr>\n",
       "  </thead>\n",
       "  <tbody>\n",
       "    <tr>\n",
       "      <th>32925</th>\n",
       "      <td>claim</td>\n",
       "      <td>active</td>\n",
       "    </tr>\n",
       "    <tr>\n",
       "      <th>4266</th>\n",
       "      <td>claim</td>\n",
       "      <td>active</td>\n",
       "    </tr>\n",
       "    <tr>\n",
       "      <th>24979</th>\n",
       "      <td>opinion</td>\n",
       "      <td>active</td>\n",
       "    </tr>\n",
       "    <tr>\n",
       "      <th>24074</th>\n",
       "      <td>opinion</td>\n",
       "      <td>active</td>\n",
       "    </tr>\n",
       "    <tr>\n",
       "      <th>32056</th>\n",
       "      <td>opinion</td>\n",
       "      <td>active</td>\n",
       "    </tr>\n",
       "  </tbody>\n",
       "</table>\n",
       "</div>"
      ],
      "text/plain": [
       "      claim_status author_ban_status\n",
       "32925        claim            active\n",
       "4266         claim            active\n",
       "24979      opinion            active\n",
       "24074      opinion            active\n",
       "32056      opinion            active"
      ]
     },
     "execution_count": 42,
     "metadata": {},
     "output_type": "execute_result"
    }
   ],
   "source": [
    "# Select the training features that needs to be encoded\n",
    "features_to_encode = X_train[[\"claim_status\", \"author_ban_status\"]]\n",
    "\n",
    "# Display first few rows\n",
    "features_to_encode.head()"
   ]
  },
  {
   "cell_type": "code",
   "execution_count": 43,
   "id": "45940410-d10e-45f9-bee2-d173f7e1db9b",
   "metadata": {},
   "outputs": [],
   "source": [
    "# Set up an encoder for one-hot encoding the categorical features\n",
    "X_encoder = OneHotEncoder(drop='first', sparse_output=False)"
   ]
  },
  {
   "cell_type": "code",
   "execution_count": 44,
   "id": "1d83f4f8-d745-42b4-89ac-bbc055285982",
   "metadata": {},
   "outputs": [],
   "source": [
    "# Fit and transform the training features using the encoder\n",
    "X_train_encoded = X_encoder.fit_transform(features_to_encode)"
   ]
  },
  {
   "cell_type": "code",
   "execution_count": 45,
   "id": "1c5719f0-8d04-4a2b-bfc2-12951bff6df5",
   "metadata": {},
   "outputs": [
    {
     "data": {
      "text/plain": [
       "array(['claim_status_opinion', 'author_ban_status_banned',\n",
       "       'author_ban_status_under review'], dtype=object)"
      ]
     },
     "execution_count": 45,
     "metadata": {},
     "output_type": "execute_result"
    }
   ],
   "source": [
    "# Get feature names from encoder\n",
    "X_encoder.get_feature_names_out()"
   ]
  },
  {
   "cell_type": "code",
   "execution_count": 46,
   "id": "b2d07ed9-04b4-45d5-bd17-5369d3887474",
   "metadata": {},
   "outputs": [
    {
     "data": {
      "text/plain": [
       "array([[0., 0., 0.],\n",
       "       [0., 0., 0.],\n",
       "       [1., 0., 0.],\n",
       "       ...,\n",
       "       [1., 0., 0.],\n",
       "       [1., 0., 0.],\n",
       "       [0., 1., 0.]])"
      ]
     },
     "execution_count": 46,
     "metadata": {},
     "output_type": "execute_result"
    }
   ],
   "source": [
    "# Display first few rows of encoded training features\n",
    "X_train_encoded"
   ]
  },
  {
   "cell_type": "code",
   "execution_count": 47,
   "id": "37ad1cac-0fb4-4039-9435-469afc91a61b",
   "metadata": {},
   "outputs": [
    {
     "data": {
      "text/html": [
       "<div>\n",
       "<style scoped>\n",
       "    .dataframe tbody tr th:only-of-type {\n",
       "        vertical-align: middle;\n",
       "    }\n",
       "\n",
       "    .dataframe tbody tr th {\n",
       "        vertical-align: top;\n",
       "    }\n",
       "\n",
       "    .dataframe thead th {\n",
       "        text-align: right;\n",
       "    }\n",
       "</style>\n",
       "<table border=\"1\" class=\"dataframe\">\n",
       "  <thead>\n",
       "    <tr style=\"text-align: right;\">\n",
       "      <th></th>\n",
       "      <th>claim_status_opinion</th>\n",
       "      <th>author_ban_status_banned</th>\n",
       "      <th>author_ban_status_under review</th>\n",
       "    </tr>\n",
       "  </thead>\n",
       "  <tbody>\n",
       "    <tr>\n",
       "      <th>0</th>\n",
       "      <td>0.0</td>\n",
       "      <td>0.0</td>\n",
       "      <td>0.0</td>\n",
       "    </tr>\n",
       "    <tr>\n",
       "      <th>1</th>\n",
       "      <td>0.0</td>\n",
       "      <td>0.0</td>\n",
       "      <td>0.0</td>\n",
       "    </tr>\n",
       "    <tr>\n",
       "      <th>2</th>\n",
       "      <td>1.0</td>\n",
       "      <td>0.0</td>\n",
       "      <td>0.0</td>\n",
       "    </tr>\n",
       "    <tr>\n",
       "      <th>3</th>\n",
       "      <td>1.0</td>\n",
       "      <td>0.0</td>\n",
       "      <td>0.0</td>\n",
       "    </tr>\n",
       "    <tr>\n",
       "      <th>4</th>\n",
       "      <td>1.0</td>\n",
       "      <td>0.0</td>\n",
       "      <td>0.0</td>\n",
       "    </tr>\n",
       "  </tbody>\n",
       "</table>\n",
       "</div>"
      ],
      "text/plain": [
       "   claim_status_opinion  author_ban_status_banned  \\\n",
       "0                   0.0                       0.0   \n",
       "1                   0.0                       0.0   \n",
       "2                   1.0                       0.0   \n",
       "3                   1.0                       0.0   \n",
       "4                   1.0                       0.0   \n",
       "\n",
       "   author_ban_status_under review  \n",
       "0                             0.0  \n",
       "1                             0.0  \n",
       "2                             0.0  \n",
       "3                             0.0  \n",
       "4                             0.0  "
      ]
     },
     "execution_count": 47,
     "metadata": {},
     "output_type": "execute_result"
    }
   ],
   "source": [
    "# Place encoded training features (which is currently an array) into a dataframe\n",
    "X_train_encoded_df = pd.DataFrame(\n",
    "    data = X_train_encoded, \n",
    "    columns = X_encoder.get_feature_names_out())\n",
    "\n",
    "# Display first few rows\n",
    "X_train_encoded_df.head()"
   ]
  },
  {
   "cell_type": "code",
   "execution_count": 48,
   "id": "5b9b77ae-94e9-43fa-90d2-7e6a8cc39f7e",
   "metadata": {},
   "outputs": [
    {
     "data": {
      "text/html": [
       "<div>\n",
       "<style scoped>\n",
       "    .dataframe tbody tr th:only-of-type {\n",
       "        vertical-align: middle;\n",
       "    }\n",
       "\n",
       "    .dataframe tbody tr th {\n",
       "        vertical-align: top;\n",
       "    }\n",
       "\n",
       "    .dataframe thead th {\n",
       "        text-align: right;\n",
       "    }\n",
       "</style>\n",
       "<table border=\"1\" class=\"dataframe\">\n",
       "  <thead>\n",
       "    <tr style=\"text-align: right;\">\n",
       "      <th></th>\n",
       "      <th>video_duration_sec</th>\n",
       "      <th>video_view_count</th>\n",
       "      <th>video_share_count</th>\n",
       "      <th>video_download_count</th>\n",
       "      <th>video_comment_count</th>\n",
       "    </tr>\n",
       "  </thead>\n",
       "  <tbody>\n",
       "    <tr>\n",
       "      <th>32925</th>\n",
       "      <td>52</td>\n",
       "      <td>599928.0</td>\n",
       "      <td>13752.0</td>\n",
       "      <td>3211.0</td>\n",
       "      <td>728.5</td>\n",
       "    </tr>\n",
       "    <tr>\n",
       "      <th>4266</th>\n",
       "      <td>25</td>\n",
       "      <td>623816.0</td>\n",
       "      <td>59817.0</td>\n",
       "      <td>4177.0</td>\n",
       "      <td>728.5</td>\n",
       "    </tr>\n",
       "    <tr>\n",
       "      <th>24979</th>\n",
       "      <td>44</td>\n",
       "      <td>6575.0</td>\n",
       "      <td>9.0</td>\n",
       "      <td>0.0</td>\n",
       "      <td>0.0</td>\n",
       "    </tr>\n",
       "    <tr>\n",
       "      <th>24074</th>\n",
       "      <td>30</td>\n",
       "      <td>389.0</td>\n",
       "      <td>40.0</td>\n",
       "      <td>3.0</td>\n",
       "      <td>1.0</td>\n",
       "    </tr>\n",
       "    <tr>\n",
       "      <th>32056</th>\n",
       "      <td>9</td>\n",
       "      <td>4244.0</td>\n",
       "      <td>94.0</td>\n",
       "      <td>40.0</td>\n",
       "      <td>14.0</td>\n",
       "    </tr>\n",
       "  </tbody>\n",
       "</table>\n",
       "</div>"
      ],
      "text/plain": [
       "       video_duration_sec  video_view_count  video_share_count  \\\n",
       "32925                  52          599928.0            13752.0   \n",
       "4266                   25          623816.0            59817.0   \n",
       "24979                  44            6575.0                9.0   \n",
       "24074                  30             389.0               40.0   \n",
       "32056                   9            4244.0               94.0   \n",
       "\n",
       "       video_download_count  video_comment_count  \n",
       "32925                3211.0                728.5  \n",
       "4266                 4177.0                728.5  \n",
       "24979                   0.0                  0.0  \n",
       "24074                   3.0                  1.0  \n",
       "32056                  40.0                 14.0  "
      ]
     },
     "execution_count": 48,
     "metadata": {},
     "output_type": "execute_result"
    }
   ],
   "source": [
    "# Display the first few rows of `X_train` after dropping the `claim_status` and `author_ban_status` columns\n",
    "# since these features are being transformed into numeric format\n",
    "X_train.drop(columns = [\"claim_status\", \"author_ban_status\"]).head()"
   ]
  },
  {
   "cell_type": "code",
   "execution_count": 49,
   "id": "8bc27d30-415c-4598-8753-2dc4a4fb8609",
   "metadata": {},
   "outputs": [
    {
     "data": {
      "text/html": [
       "<div>\n",
       "<style scoped>\n",
       "    .dataframe tbody tr th:only-of-type {\n",
       "        vertical-align: middle;\n",
       "    }\n",
       "\n",
       "    .dataframe tbody tr th {\n",
       "        vertical-align: top;\n",
       "    }\n",
       "\n",
       "    .dataframe thead th {\n",
       "        text-align: right;\n",
       "    }\n",
       "</style>\n",
       "<table border=\"1\" class=\"dataframe\">\n",
       "  <thead>\n",
       "    <tr style=\"text-align: right;\">\n",
       "      <th></th>\n",
       "      <th>video_duration_sec</th>\n",
       "      <th>video_view_count</th>\n",
       "      <th>video_share_count</th>\n",
       "      <th>video_download_count</th>\n",
       "      <th>video_comment_count</th>\n",
       "      <th>claim_status_opinion</th>\n",
       "      <th>author_ban_status_banned</th>\n",
       "      <th>author_ban_status_under review</th>\n",
       "    </tr>\n",
       "  </thead>\n",
       "  <tbody>\n",
       "    <tr>\n",
       "      <th>0</th>\n",
       "      <td>52</td>\n",
       "      <td>599928.0</td>\n",
       "      <td>13752.0</td>\n",
       "      <td>3211.0</td>\n",
       "      <td>728.5</td>\n",
       "      <td>0.0</td>\n",
       "      <td>0.0</td>\n",
       "      <td>0.0</td>\n",
       "    </tr>\n",
       "    <tr>\n",
       "      <th>1</th>\n",
       "      <td>25</td>\n",
       "      <td>623816.0</td>\n",
       "      <td>59817.0</td>\n",
       "      <td>4177.0</td>\n",
       "      <td>728.5</td>\n",
       "      <td>0.0</td>\n",
       "      <td>0.0</td>\n",
       "      <td>0.0</td>\n",
       "    </tr>\n",
       "    <tr>\n",
       "      <th>2</th>\n",
       "      <td>44</td>\n",
       "      <td>6575.0</td>\n",
       "      <td>9.0</td>\n",
       "      <td>0.0</td>\n",
       "      <td>0.0</td>\n",
       "      <td>1.0</td>\n",
       "      <td>0.0</td>\n",
       "      <td>0.0</td>\n",
       "    </tr>\n",
       "    <tr>\n",
       "      <th>3</th>\n",
       "      <td>30</td>\n",
       "      <td>389.0</td>\n",
       "      <td>40.0</td>\n",
       "      <td>3.0</td>\n",
       "      <td>1.0</td>\n",
       "      <td>1.0</td>\n",
       "      <td>0.0</td>\n",
       "      <td>0.0</td>\n",
       "    </tr>\n",
       "    <tr>\n",
       "      <th>4</th>\n",
       "      <td>9</td>\n",
       "      <td>4244.0</td>\n",
       "      <td>94.0</td>\n",
       "      <td>40.0</td>\n",
       "      <td>14.0</td>\n",
       "      <td>1.0</td>\n",
       "      <td>0.0</td>\n",
       "      <td>0.0</td>\n",
       "    </tr>\n",
       "  </tbody>\n",
       "</table>\n",
       "</div>"
      ],
      "text/plain": [
       "   video_duration_sec  video_view_count  video_share_count  \\\n",
       "0                  52          599928.0            13752.0   \n",
       "1                  25          623816.0            59817.0   \n",
       "2                  44            6575.0                9.0   \n",
       "3                  30             389.0               40.0   \n",
       "4                   9            4244.0               94.0   \n",
       "\n",
       "   video_download_count  video_comment_count  claim_status_opinion  \\\n",
       "0                3211.0                728.5                   0.0   \n",
       "1                4177.0                728.5                   0.0   \n",
       "2                   0.0                  0.0                   1.0   \n",
       "3                   3.0                  1.0                   1.0   \n",
       "4                  40.0                 14.0                   1.0   \n",
       "\n",
       "   author_ban_status_banned  author_ban_status_under review  \n",
       "0                       0.0                             0.0  \n",
       "1                       0.0                             0.0  \n",
       "2                       0.0                             0.0  \n",
       "3                       0.0                             0.0  \n",
       "4                       0.0                             0.0  "
      ]
     },
     "execution_count": 49,
     "metadata": {},
     "output_type": "execute_result"
    }
   ],
   "source": [
    "# Concatenate `X_train` and `X_train_encoded_df` to create the final training dataframe (`X_train_final`)\n",
    "# Note: `.reset_index(drop=True)` is used to reset the index in `X_train` after dropping `claim_status` \n",
    "# and `author_ban_status`, ensuring alignment with the indices in `X_train_encoded_df` and `count_df`.\n",
    "\n",
    "X_train_final = pd.concat([X_train.drop(columns = [\"claim_status\", \"author_ban_status\"]).reset_index(drop=True),\n",
    "                           X_train_encoded_df], axis = 1)\n",
    "\n",
    "# Display first few rows\n",
    "X_train_final.head()"
   ]
  },
  {
   "cell_type": "markdown",
   "id": "3fd80f17-e9b1-4993-bda1-68dfa5bc703e",
   "metadata": {},
   "source": [
    "\n",
    "<br>\n",
    "\n",
    "## **13. Encode Outcome Variable**\n",
    "\n",
    "**Check** `'y_train'` unique values and data type."
   ]
  },
  {
   "cell_type": "code",
   "execution_count": 50,
   "id": "21120317-f216-4a14-ac40-3681c4f894ac",
   "metadata": {},
   "outputs": [
    {
     "data": {
      "text/plain": [
       "array(['verified', 'not verified'], dtype=object)"
      ]
     },
     "execution_count": 50,
     "metadata": {},
     "output_type": "execute_result"
    }
   ],
   "source": [
    "# Get unique values of outcome variable\n",
    "y_train.unique()"
   ]
  },
  {
   "cell_type": "markdown",
   "id": "476bf005-a37d-48a4-91e0-7bd61f879217",
   "metadata": {},
   "source": [
    "\n",
    "\n",
    "<br>\n",
    "\n",
    "**Encode** `'y-train'` features using one-hot encoding."
   ]
  },
  {
   "cell_type": "code",
   "execution_count": 51,
   "id": "a038ac33-9b4f-4611-977e-7232d2e0c360",
   "metadata": {},
   "outputs": [],
   "source": [
    "# Set up an encoder for one-hot encoding the categorical outcome variable\n",
    "y_encoder = OneHotEncoder(drop='first', sparse_output=False)"
   ]
  },
  {
   "cell_type": "code",
   "execution_count": 52,
   "id": "3b774e6f-3ed5-45a8-b1bf-0102871ec3b7",
   "metadata": {},
   "outputs": [
    {
     "data": {
      "text/plain": [
       "array([1., 0., 1., ..., 1., 1., 0.])"
      ]
     },
     "execution_count": 52,
     "metadata": {},
     "output_type": "execute_result"
    }
   ],
   "source": [
    "# Encode the training outcome variable (`y_train`):\n",
    "# - Adjust the shape of `y_train` to a 2D array before passing it into `.fit_transform()`.\n",
    "# - Use `.ravel()` to flatten the resulting array from `.fit_transform()` for compatibility when training the model.\n",
    "\n",
    "y_train_final = y_encoder.fit_transform(y_train.values.reshape(-1, 1)).ravel()\n",
    "\n",
    "# Display the encoded training outcome variable\n",
    "y_train_final"
   ]
  },
  {
   "cell_type": "markdown",
   "id": "36c2bc58-f867-49f7-815b-80e79ee7eb51",
   "metadata": {},
   "source": [
    "<br>\n",
    "\n",
    "## **14. Model building**\n",
    "\n",
    "**Construct** and fit the logistic regression model to the training data."
   ]
  },
  {
   "cell_type": "code",
   "execution_count": 53,
   "id": "dd4f7dfc-660e-4651-9941-823de7287f9a",
   "metadata": {},
   "outputs": [],
   "source": [
    "# Construct a logistic regression model and fit it to the training set\n",
    "# Scale the features\n",
    "# Assuming X_test needs to match the processed columns in X_train_final\n",
    "log_clf = LogisticRegression(random_state=0, max_iter=1000).fit(X_train_final, y_train_final)"
   ]
  },
  {
   "cell_type": "code",
   "execution_count": 54,
   "id": "3ed854e7-51f4-4a57-8de5-2921b98062eb",
   "metadata": {
    "jupyter": {
     "source_hidden": true
    }
   },
   "outputs": [],
   "source": [
    "# Click to Unhide - Test Case Alternative Code\n",
    "# Includes solver='liblinear' parameter\n",
    "if False:\n",
    "    # Construct a logistic regression model and fit it to the training set\n",
    "    # Scale the features\n",
    "    # Assuming X_test needs to match the processed columns in X_train_final\n",
    "    log_clf = LogisticRegression(random_state=0, max_iter=800, solver='liblinear').fit(X_train_final, y_train_final)"
   ]
  },
  {
   "cell_type": "markdown",
   "id": "598e45ab-05bb-4dd6-8297-ee256e2d1359",
   "metadata": {},
   "source": [
    "<br>\n",
    "\n",
    "# **Execute Phase:**\n",
    "\n",
    "## **15. Results and evaluation**\n",
    "\n",
    "**Prepare** the test set, make predictions, and evaluate the model’s performance.\n",
    "\n",
    "**Encode** `'X_test'` categorical features using the same encoding method applied to the training set."
   ]
  },
  {
   "cell_type": "code",
   "execution_count": 55,
   "id": "7cc90766-44f0-4029-9152-879dc5e1b917",
   "metadata": {},
   "outputs": [
    {
     "data": {
      "text/html": [
       "<div>\n",
       "<style scoped>\n",
       "    .dataframe tbody tr th:only-of-type {\n",
       "        vertical-align: middle;\n",
       "    }\n",
       "\n",
       "    .dataframe tbody tr th {\n",
       "        vertical-align: top;\n",
       "    }\n",
       "\n",
       "    .dataframe thead th {\n",
       "        text-align: right;\n",
       "    }\n",
       "</style>\n",
       "<table border=\"1\" class=\"dataframe\">\n",
       "  <thead>\n",
       "    <tr style=\"text-align: right;\">\n",
       "      <th></th>\n",
       "      <th>claim_status</th>\n",
       "      <th>author_ban_status</th>\n",
       "    </tr>\n",
       "  </thead>\n",
       "  <tbody>\n",
       "    <tr>\n",
       "      <th>21061</th>\n",
       "      <td>opinion</td>\n",
       "      <td>active</td>\n",
       "    </tr>\n",
       "    <tr>\n",
       "      <th>31748</th>\n",
       "      <td>opinion</td>\n",
       "      <td>active</td>\n",
       "    </tr>\n",
       "    <tr>\n",
       "      <th>20197</th>\n",
       "      <td>claim</td>\n",
       "      <td>active</td>\n",
       "    </tr>\n",
       "    <tr>\n",
       "      <th>5727</th>\n",
       "      <td>claim</td>\n",
       "      <td>active</td>\n",
       "    </tr>\n",
       "    <tr>\n",
       "      <th>11607</th>\n",
       "      <td>opinion</td>\n",
       "      <td>active</td>\n",
       "    </tr>\n",
       "  </tbody>\n",
       "</table>\n",
       "</div>"
      ],
      "text/plain": [
       "      claim_status author_ban_status\n",
       "21061      opinion            active\n",
       "31748      opinion            active\n",
       "20197        claim            active\n",
       "5727         claim            active\n",
       "11607      opinion            active"
      ]
     },
     "execution_count": 55,
     "metadata": {},
     "output_type": "execute_result"
    }
   ],
   "source": [
    "# Select the testing features that needs to be encoded\n",
    "X_test_to_encode = X_test[[\"claim_status\", \"author_ban_status\"]]\n",
    "\n",
    "# Display first few rows\n",
    "X_test_to_encode.head()"
   ]
  },
  {
   "cell_type": "code",
   "execution_count": 56,
   "id": "be31ae50-cf36-4775-94c4-a7f14d54d6e4",
   "metadata": {},
   "outputs": [
    {
     "data": {
      "text/plain": [
       "array([[1., 0., 0.],\n",
       "       [1., 0., 0.],\n",
       "       [0., 0., 0.],\n",
       "       ...,\n",
       "       [1., 0., 0.],\n",
       "       [1., 0., 0.],\n",
       "       [1., 0., 0.]])"
      ]
     },
     "execution_count": 56,
     "metadata": {},
     "output_type": "execute_result"
    }
   ],
   "source": [
    "# Transform the testing features using the encoder\n",
    "X_test_encoded = X_encoder.transform(X_test_to_encode)\n",
    "\n",
    "# Display first few rows of encoded testing features\n",
    "X_test_encoded"
   ]
  },
  {
   "cell_type": "code",
   "execution_count": 57,
   "id": "793bca86-b9e5-4986-9cca-b9d4bc41df2b",
   "metadata": {},
   "outputs": [
    {
     "data": {
      "text/html": [
       "<div>\n",
       "<style scoped>\n",
       "    .dataframe tbody tr th:only-of-type {\n",
       "        vertical-align: middle;\n",
       "    }\n",
       "\n",
       "    .dataframe tbody tr th {\n",
       "        vertical-align: top;\n",
       "    }\n",
       "\n",
       "    .dataframe thead th {\n",
       "        text-align: right;\n",
       "    }\n",
       "</style>\n",
       "<table border=\"1\" class=\"dataframe\">\n",
       "  <thead>\n",
       "    <tr style=\"text-align: right;\">\n",
       "      <th></th>\n",
       "      <th>claim_status_opinion</th>\n",
       "      <th>author_ban_status_banned</th>\n",
       "      <th>author_ban_status_under review</th>\n",
       "    </tr>\n",
       "  </thead>\n",
       "  <tbody>\n",
       "    <tr>\n",
       "      <th>0</th>\n",
       "      <td>1.0</td>\n",
       "      <td>0.0</td>\n",
       "      <td>0.0</td>\n",
       "    </tr>\n",
       "    <tr>\n",
       "      <th>1</th>\n",
       "      <td>1.0</td>\n",
       "      <td>0.0</td>\n",
       "      <td>0.0</td>\n",
       "    </tr>\n",
       "    <tr>\n",
       "      <th>2</th>\n",
       "      <td>0.0</td>\n",
       "      <td>0.0</td>\n",
       "      <td>0.0</td>\n",
       "    </tr>\n",
       "    <tr>\n",
       "      <th>3</th>\n",
       "      <td>0.0</td>\n",
       "      <td>0.0</td>\n",
       "      <td>0.0</td>\n",
       "    </tr>\n",
       "    <tr>\n",
       "      <th>4</th>\n",
       "      <td>1.0</td>\n",
       "      <td>0.0</td>\n",
       "      <td>0.0</td>\n",
       "    </tr>\n",
       "  </tbody>\n",
       "</table>\n",
       "</div>"
      ],
      "text/plain": [
       "   claim_status_opinion  author_ban_status_banned  \\\n",
       "0                   1.0                       0.0   \n",
       "1                   1.0                       0.0   \n",
       "2                   0.0                       0.0   \n",
       "3                   0.0                       0.0   \n",
       "4                   1.0                       0.0   \n",
       "\n",
       "   author_ban_status_under review  \n",
       "0                             0.0  \n",
       "1                             0.0  \n",
       "2                             0.0  \n",
       "3                             0.0  \n",
       "4                             0.0  "
      ]
     },
     "execution_count": 57,
     "metadata": {},
     "output_type": "execute_result"
    }
   ],
   "source": [
    "# Place encoded testing features (which is currently an array) into a dataframe\n",
    "X_test_encoded_df = pd.DataFrame(data = X_test_encoded, \n",
    "                                 columns = X_encoder.get_feature_names_out())\n",
    "\n",
    "# Display first few rows\n",
    "X_test_encoded_df.head()"
   ]
  },
  {
   "cell_type": "code",
   "execution_count": 58,
   "id": "deaae6b0-297d-46ac-9a21-6506ecddd7f7",
   "metadata": {},
   "outputs": [
    {
     "data": {
      "text/html": [
       "<div>\n",
       "<style scoped>\n",
       "    .dataframe tbody tr th:only-of-type {\n",
       "        vertical-align: middle;\n",
       "    }\n",
       "\n",
       "    .dataframe tbody tr th {\n",
       "        vertical-align: top;\n",
       "    }\n",
       "\n",
       "    .dataframe thead th {\n",
       "        text-align: right;\n",
       "    }\n",
       "</style>\n",
       "<table border=\"1\" class=\"dataframe\">\n",
       "  <thead>\n",
       "    <tr style=\"text-align: right;\">\n",
       "      <th></th>\n",
       "      <th>video_duration_sec</th>\n",
       "      <th>video_view_count</th>\n",
       "      <th>video_share_count</th>\n",
       "      <th>video_download_count</th>\n",
       "      <th>video_comment_count</th>\n",
       "    </tr>\n",
       "  </thead>\n",
       "  <tbody>\n",
       "    <tr>\n",
       "      <th>21061</th>\n",
       "      <td>41</td>\n",
       "      <td>2118.0</td>\n",
       "      <td>57.0</td>\n",
       "      <td>5.0</td>\n",
       "      <td>2.0</td>\n",
       "    </tr>\n",
       "    <tr>\n",
       "      <th>31748</th>\n",
       "      <td>27</td>\n",
       "      <td>5701.0</td>\n",
       "      <td>157.0</td>\n",
       "      <td>1.0</td>\n",
       "      <td>0.0</td>\n",
       "    </tr>\n",
       "    <tr>\n",
       "      <th>20197</th>\n",
       "      <td>31</td>\n",
       "      <td>449767.0</td>\n",
       "      <td>75385.0</td>\n",
       "      <td>5956.0</td>\n",
       "      <td>728.5</td>\n",
       "    </tr>\n",
       "    <tr>\n",
       "      <th>5727</th>\n",
       "      <td>19</td>\n",
       "      <td>792813.0</td>\n",
       "      <td>56597.0</td>\n",
       "      <td>5146.0</td>\n",
       "      <td>728.5</td>\n",
       "    </tr>\n",
       "    <tr>\n",
       "      <th>11607</th>\n",
       "      <td>54</td>\n",
       "      <td>2044.0</td>\n",
       "      <td>68.0</td>\n",
       "      <td>19.0</td>\n",
       "      <td>2.0</td>\n",
       "    </tr>\n",
       "  </tbody>\n",
       "</table>\n",
       "</div>"
      ],
      "text/plain": [
       "       video_duration_sec  video_view_count  video_share_count  \\\n",
       "21061                  41            2118.0               57.0   \n",
       "31748                  27            5701.0              157.0   \n",
       "20197                  31          449767.0            75385.0   \n",
       "5727                   19          792813.0            56597.0   \n",
       "11607                  54            2044.0               68.0   \n",
       "\n",
       "       video_download_count  video_comment_count  \n",
       "21061                   5.0                  2.0  \n",
       "31748                   1.0                  0.0  \n",
       "20197                5956.0                728.5  \n",
       "5727                 5146.0                728.5  \n",
       "11607                  19.0                  2.0  "
      ]
     },
     "execution_count": 58,
     "metadata": {},
     "output_type": "execute_result"
    }
   ],
   "source": [
    "# Display the first few rows of `X_test` after dropping the `claim_status` and `author_ban_status` columns\n",
    "# since these features are being transformed into numeric format\n",
    "X_test.drop(columns = [\"claim_status\", \"author_ban_status\"]).head()"
   ]
  },
  {
   "cell_type": "code",
   "execution_count": 59,
   "id": "8685bbc1-1e9f-46c4-a20b-38e298c57aa8",
   "metadata": {},
   "outputs": [
    {
     "data": {
      "text/html": [
       "<div>\n",
       "<style scoped>\n",
       "    .dataframe tbody tr th:only-of-type {\n",
       "        vertical-align: middle;\n",
       "    }\n",
       "\n",
       "    .dataframe tbody tr th {\n",
       "        vertical-align: top;\n",
       "    }\n",
       "\n",
       "    .dataframe thead th {\n",
       "        text-align: right;\n",
       "    }\n",
       "</style>\n",
       "<table border=\"1\" class=\"dataframe\">\n",
       "  <thead>\n",
       "    <tr style=\"text-align: right;\">\n",
       "      <th></th>\n",
       "      <th>video_duration_sec</th>\n",
       "      <th>video_view_count</th>\n",
       "      <th>video_share_count</th>\n",
       "      <th>video_download_count</th>\n",
       "      <th>video_comment_count</th>\n",
       "      <th>claim_status_opinion</th>\n",
       "      <th>author_ban_status_banned</th>\n",
       "      <th>author_ban_status_under review</th>\n",
       "    </tr>\n",
       "  </thead>\n",
       "  <tbody>\n",
       "    <tr>\n",
       "      <th>0</th>\n",
       "      <td>41</td>\n",
       "      <td>2118.0</td>\n",
       "      <td>57.0</td>\n",
       "      <td>5.0</td>\n",
       "      <td>2.0</td>\n",
       "      <td>1.0</td>\n",
       "      <td>0.0</td>\n",
       "      <td>0.0</td>\n",
       "    </tr>\n",
       "    <tr>\n",
       "      <th>1</th>\n",
       "      <td>27</td>\n",
       "      <td>5701.0</td>\n",
       "      <td>157.0</td>\n",
       "      <td>1.0</td>\n",
       "      <td>0.0</td>\n",
       "      <td>1.0</td>\n",
       "      <td>0.0</td>\n",
       "      <td>0.0</td>\n",
       "    </tr>\n",
       "    <tr>\n",
       "      <th>2</th>\n",
       "      <td>31</td>\n",
       "      <td>449767.0</td>\n",
       "      <td>75385.0</td>\n",
       "      <td>5956.0</td>\n",
       "      <td>728.5</td>\n",
       "      <td>0.0</td>\n",
       "      <td>0.0</td>\n",
       "      <td>0.0</td>\n",
       "    </tr>\n",
       "    <tr>\n",
       "      <th>3</th>\n",
       "      <td>19</td>\n",
       "      <td>792813.0</td>\n",
       "      <td>56597.0</td>\n",
       "      <td>5146.0</td>\n",
       "      <td>728.5</td>\n",
       "      <td>0.0</td>\n",
       "      <td>0.0</td>\n",
       "      <td>0.0</td>\n",
       "    </tr>\n",
       "    <tr>\n",
       "      <th>4</th>\n",
       "      <td>54</td>\n",
       "      <td>2044.0</td>\n",
       "      <td>68.0</td>\n",
       "      <td>19.0</td>\n",
       "      <td>2.0</td>\n",
       "      <td>1.0</td>\n",
       "      <td>0.0</td>\n",
       "      <td>0.0</td>\n",
       "    </tr>\n",
       "  </tbody>\n",
       "</table>\n",
       "</div>"
      ],
      "text/plain": [
       "   video_duration_sec  video_view_count  video_share_count  \\\n",
       "0                  41            2118.0               57.0   \n",
       "1                  27            5701.0              157.0   \n",
       "2                  31          449767.0            75385.0   \n",
       "3                  19          792813.0            56597.0   \n",
       "4                  54            2044.0               68.0   \n",
       "\n",
       "   video_download_count  video_comment_count  claim_status_opinion  \\\n",
       "0                   5.0                  2.0                   1.0   \n",
       "1                   1.0                  0.0                   1.0   \n",
       "2                5956.0                728.5                   0.0   \n",
       "3                5146.0                728.5                   0.0   \n",
       "4                  19.0                  2.0                   1.0   \n",
       "\n",
       "   author_ban_status_banned  author_ban_status_under review  \n",
       "0                       0.0                             0.0  \n",
       "1                       0.0                             0.0  \n",
       "2                       0.0                             0.0  \n",
       "3                       0.0                             0.0  \n",
       "4                       0.0                             0.0  "
      ]
     },
     "execution_count": 59,
     "metadata": {},
     "output_type": "execute_result"
    }
   ],
   "source": [
    "# Concatenate `X_test` and `X_test_encoded_df` to create the final testing dataframe (`X_test_final`):\n",
    "# - Use `.reset_index(drop=True)` to reset the index in `X_test` after dropping `claim_status` and `author_ban_status`.\n",
    "# - This ensures alignment with the indices in `X_test_encoded_df` and `test_count_df`.\n",
    "\n",
    "X_test_final = pd.concat([X_test.drop(columns = [\"claim_status\", \"author_ban_status\"]).reset_index(drop=True), \n",
    "                          X_test_encoded_df], axis=1)\n",
    "\n",
    "# Display first few rows\n",
    "X_test_final.head()"
   ]
  },
  {
   "cell_type": "markdown",
   "id": "4e8d134f-e0fd-4a0a-932c-50e965644284",
   "metadata": {},
   "source": [
    "<br>\n",
    "\n",
    "**Test** the logistic regression model. Use the model to make predictions on the encoded testing set."
   ]
  },
  {
   "cell_type": "code",
   "execution_count": 60,
   "id": "b4066b96-3933-462f-9bdb-d20c3f865cf4",
   "metadata": {},
   "outputs": [],
   "source": [
    "# Use the logistic regression model to get predictions on the encoded testing set\n",
    "y_pred = log_clf.predict(X_test_final)"
   ]
  },
  {
   "cell_type": "markdown",
   "id": "e7340625-5627-4196-9582-982bbf9a9be2",
   "metadata": {},
   "source": [
    "<br>\n",
    "\n",
    "**Display** the predictions on the encoded testing set."
   ]
  },
  {
   "cell_type": "code",
   "execution_count": 61,
   "id": "b0c3d013-863a-443a-ae84-9d2eca24c4b0",
   "metadata": {},
   "outputs": [
    {
     "data": {
      "text/plain": [
       "array([1., 1., 0., ..., 1., 1., 1.])"
      ]
     },
     "execution_count": 61,
     "metadata": {},
     "output_type": "execute_result"
    }
   ],
   "source": [
    "# Display the predictions on the encoded testing set\n",
    "y_pred"
   ]
  },
  {
   "cell_type": "markdown",
   "id": "6c7ba822-139f-4be6-891b-7824dcfb39ed",
   "metadata": {},
   "source": [
    "<br>\n",
    "\n",
    "**Display** the true labels of the testing set."
   ]
  },
  {
   "cell_type": "code",
   "execution_count": 62,
   "id": "9f9df7aa-fc1d-4e81-9f4b-4f25fbdbbfe6",
   "metadata": {},
   "outputs": [
    {
     "data": {
      "text/plain": [
       "21061        verified\n",
       "31748        verified\n",
       "20197        verified\n",
       "5727     not verified\n",
       "11607    not verified\n",
       "Name: verified_status, dtype: object"
      ]
     },
     "execution_count": 62,
     "metadata": {},
     "output_type": "execute_result"
    }
   ],
   "source": [
    "# Display the true labels of the testing set\n",
    "y_test.head()"
   ]
  },
  {
   "cell_type": "markdown",
   "id": "cfcd79f1-a9a6-4a10-9513-115a82631ef5",
   "metadata": {},
   "source": [
    "<br>\n",
    "\n",
    "**Encode** the true labels of the testing set so it can be compared to the predictions."
   ]
  },
  {
   "cell_type": "code",
   "execution_count": 63,
   "id": "b0140441-1b0c-478a-baa7-7fc995dc546b",
   "metadata": {},
   "outputs": [
    {
     "data": {
      "text/plain": [
       "array([1., 1., 1., ..., 0., 1., 1.])"
      ]
     },
     "execution_count": 63,
     "metadata": {},
     "output_type": "execute_result"
    }
   ],
   "source": [
    "# Encode the testing outcome variable (`y_test`):\n",
    "# - Adjust the shape of `y_test` to a 2D array before passing it into `.transform()`.\n",
    "# - Use `.ravel()` to flatten the resulting array from `.transform()` for compatibility when comparing with predictions.\n",
    "\n",
    "y_test_final = y_encoder.transform(y_test.values.reshape(-1, 1)).ravel()\n",
    "\n",
    "# Display the encoded testing outcome variable\n",
    "y_test_final"
   ]
  },
  {
   "cell_type": "markdown",
   "id": "3b092164-5a95-4fa2-b490-7dbfe383961d",
   "metadata": {},
   "source": [
    "<br>\n",
    "\n",
    "**Ensure** that the dimensions of the training and testing sets are correctly aligned, especially after adding new features."
   ]
  },
  {
   "cell_type": "code",
   "execution_count": 64,
   "id": "99cf8382-2fbf-443e-a06a-bec0ce3cec00",
   "metadata": {},
   "outputs": [
    {
     "data": {
      "text/plain": [
       "((25037, 8), (25037,), (10731, 8), (10731,))"
      ]
     },
     "execution_count": 64,
     "metadata": {},
     "output_type": "execute_result"
    }
   ],
   "source": [
    "# Get shape of each training and testing set\n",
    "X_train_final.shape, y_train_final.shape, X_test_final.shape, y_test_final.shape"
   ]
  },
  {
   "cell_type": "markdown",
   "id": "887ead93-9a8e-4b41-9158-aea9c51b8c5b",
   "metadata": {},
   "source": [
    "**Note:** Number of training and testing rows and features both align.\n",
    "\n",
    "<br>"
   ]
  },
  {
   "cell_type": "markdown",
   "id": "89644e1b-9a5c-4a5f-a1f4-eb68726022d7",
   "metadata": {},
   "source": [
    "## **16. Visualize model results**\n",
    "\n",
    "Evaluate the model’s performance using key metrics.\n",
    "\n",
    "**Generate** and display a confusion matrix to visualize the model’s classification performance."
   ]
  },
  {
   "cell_type": "code",
   "execution_count": 65,
   "id": "2dd47d1c-df9e-48a0-854d-5f147a4f680d",
   "metadata": {},
   "outputs": [
    {
     "data": {
      "image/png": "[encoded data removed]",
      "text/plain": [
       "<Figure size 640x480 with 2 Axes>"
      ]
     },
     "metadata": {},
     "output_type": "display_data"
    }
   ],
   "source": [
    "# Compute values for confusion matrix\n",
    "log_cm = confusion_matrix(y_test_final, y_pred, labels=log_clf.classes_)\n",
    "\n",
    "# Create display of confusion matrix\n",
    "log_disp = ConfusionMatrixDisplay(confusion_matrix=log_cm, display_labels=log_clf.classes_)\n",
    "\n",
    "# Plot confusion matrix\n",
    "log_disp.plot()\n",
    "\n",
    "# Display plot\n",
    "plt.show()"
   ]
  },
  {
   "cell_type": "markdown",
   "id": "75dc3617-6594-4e41-81f2-dc632120b6c2",
   "metadata": {},
   "source": [
    "***Insights:***\n",
    "\n",
    "**Test size set to 0.25 - Trial**\n",
    "\n",
    "| Quadrant       |Count |Proportion|Description|\n",
    "|----------------|------|--------|-------------------------------------------------------------------------------------------------------|\n",
    "|True Negatives  | 2326 | 26.01% | The number of videos posted by unverified accounts that the model correctly classified as unverified. |\n",
    "|False Positives | 2133 | 23.85% | The number of videos posted by unverified accounts that the model incorrectly classified as verified. |\n",
    "|False Negatives | 815  | 9.11%  | The number of videos posted by verified accounts that the model incorrectly classified as unverified. |\n",
    "|True Positives  | 3668 | 41.02% | The number of videos posted by verified accounts that the model correctly classified as verified.     |"
   ]
  },
  {
   "cell_type": "markdown",
   "id": "aaab09ba-e7bd-4842-a75e-1d3d6ecd11b7",
   "metadata": {},
   "source": [
    "**Test size set to 0.30 - Final**\n",
    "\n",
    "| Quadrant       |Count |Proportion|Description|\n",
    "|----------------|------|--------|-------------------------------------------------------------------------------------------------------|\n",
    "|True Negatives  | 2797 | 26.06% | The number of videos posted by unverified accounts that the model correctly classified as unverified. |\n",
    "|False Positives | 2545 | 23.71% | The number of videos posted by unverified accounts that the model incorrectly classified as verified. |\n",
    "|False Negatives | 963  | 8.97%  | The number of videos posted by verified accounts that the model incorrectly classified as unverified. |\n",
    "|True Positives  | 4426 | 41.24% | The number of videos posted by verified accounts that the model correctly classified as verified.     |\n",
    "\n",
    "<br>\n",
    "\n",
    "* An ideal model would classify all instances correctly, resulting in only true positives and true negatives, with zero false positives or false negatives. However, this model shows 23.71% false positives and 8.97% false negatives.\n",
    "* Increasing the test size from 25% to 30% resulted in a slight improvement in both correct and incorrect predictions, while leaving the classification report unchanged.\n",
    "* While selective capping of outliers improved the VIF scores, reducing multicollinearity among features, the overall performance of the logistic regression model remains subpar. This suggests that addressing multicollinearity alone is insufficient to achieve a strong predictive model, indicating a need to explore alternative methods or additional features.\n",
    "\n",
    "<br>\n",
    "\n",
    "**Create** a classification report that includes precision, recall, f1-score, and accuracy to provide a comprehensive evaluation of the model."
   ]
  },
  {
   "cell_type": "code",
   "execution_count": 66,
   "id": "b38efdd6-1d0e-4439-9594-8c6e03d32d00",
   "metadata": {},
   "outputs": [
    {
     "name": "stdout",
     "output_type": "stream",
     "text": [
      "              precision    recall  f1-score   support\n",
      "\n",
      "    verified       0.74      0.52      0.61      5342\n",
      "not verified       0.63      0.82      0.72      5389\n",
      "\n",
      "    accuracy                           0.67     10731\n",
      "   macro avg       0.69      0.67      0.67     10731\n",
      "weighted avg       0.69      0.67      0.67     10731\n",
      "\n"
     ]
    }
   ],
   "source": [
    "# Create a classification report\n",
    "target_labels = [\"verified\", \"not verified\"]\n",
    "print(classification_report(y_test_final, y_pred, target_names=target_labels))"
   ]
  },
  {
   "cell_type": "markdown",
   "id": "53841681-1e6a-4343-9ab1-8256cdb279e7",
   "metadata": {},
   "source": [
    "***Insights:***\n",
    "\n",
    "* The model achieved a precision of 74% and a recall of 52% for the `'verified'` class, indicating that while the model correctly identifies a high proportion of true 'verified' cases among all 'verified' predictions, it misses many actual 'verified' cases.\n",
    "* The `'not verified'` class, which is the target class, achieved a precision of 63% and a recall of 82%, meaning the model performs better at identifying 'not_verified' cases but at the cost of increased false positives.\n",
    "* Overall scores were\n",
    "```\n",
    "Weighted Precision Avg | 69%\n",
    "Weighted Recall Avg    | 67%\n",
    "Accuracy               | 67%\n",
    "```"
   ]
  },
  {
   "cell_type": "markdown",
   "id": "aa09219a-ec58-448c-84ff-a692b4e04a39",
   "metadata": {},
   "source": [
    "<Br>\n",
    "\n",
    "## **17. Interpret model coefficients**\n",
    "\n",
    "**Interpret** the coefficients from the logistic regression model to understand the influence of each feature."
   ]
  },
  {
   "cell_type": "code",
   "execution_count": 67,
   "id": "c3004dab-dcca-43c2-af10-100d4afdf12b",
   "metadata": {},
   "outputs": [
    {
     "data": {
      "text/html": [
       "<div>\n",
       "<style scoped>\n",
       "    .dataframe tbody tr th:only-of-type {\n",
       "        vertical-align: middle;\n",
       "    }\n",
       "\n",
       "    .dataframe tbody tr th {\n",
       "        vertical-align: top;\n",
       "    }\n",
       "\n",
       "    .dataframe thead th {\n",
       "        text-align: right;\n",
       "    }\n",
       "</style>\n",
       "<table border=\"1\" class=\"dataframe\">\n",
       "  <thead>\n",
       "    <tr style=\"text-align: right;\">\n",
       "      <th></th>\n",
       "      <th>Feature Name</th>\n",
       "      <th>Model Coefficient</th>\n",
       "    </tr>\n",
       "  </thead>\n",
       "  <tbody>\n",
       "    <tr>\n",
       "      <th>0</th>\n",
       "      <td>video_duration_sec</td>\n",
       "      <td>-2.315862e-03</td>\n",
       "    </tr>\n",
       "    <tr>\n",
       "      <th>1</th>\n",
       "      <td>video_view_count</td>\n",
       "      <td>-2.127551e-07</td>\n",
       "    </tr>\n",
       "    <tr>\n",
       "      <th>2</th>\n",
       "      <td>video_share_count</td>\n",
       "      <td>5.034573e-06</td>\n",
       "    </tr>\n",
       "    <tr>\n",
       "      <th>3</th>\n",
       "      <td>video_download_count</td>\n",
       "      <td>-8.290600e-05</td>\n",
       "    </tr>\n",
       "    <tr>\n",
       "      <th>4</th>\n",
       "      <td>video_comment_count</td>\n",
       "      <td>4.470291e-04</td>\n",
       "    </tr>\n",
       "    <tr>\n",
       "      <th>5</th>\n",
       "      <td>claim_status_opinion</td>\n",
       "      <td>1.684831e+00</td>\n",
       "    </tr>\n",
       "    <tr>\n",
       "      <th>6</th>\n",
       "      <td>author_ban_status_banned</td>\n",
       "      <td>-4.169508e-01</td>\n",
       "    </tr>\n",
       "    <tr>\n",
       "      <th>7</th>\n",
       "      <td>author_ban_status_under review</td>\n",
       "      <td>-6.872788e-02</td>\n",
       "    </tr>\n",
       "  </tbody>\n",
       "</table>\n",
       "</div>"
      ],
      "text/plain": [
       "                     Feature Name  Model Coefficient\n",
       "0              video_duration_sec      -2.315862e-03\n",
       "1                video_view_count      -2.127551e-07\n",
       "2               video_share_count       5.034573e-06\n",
       "3            video_download_count      -8.290600e-05\n",
       "4             video_comment_count       4.470291e-04\n",
       "5            claim_status_opinion       1.684831e+00\n",
       "6        author_ban_status_banned      -4.169508e-01\n",
       "7  author_ban_status_under review      -6.872788e-02"
      ]
     },
     "execution_count": 67,
     "metadata": {},
     "output_type": "execute_result"
    }
   ],
   "source": [
    "# Get the feature names from the model and the model coefficients (which represent log-odds ratios)\n",
    "# Place into a DataFrame for readability\n",
    "pd.DataFrame(data={\"Feature Name\":log_clf.feature_names_in_, \"Model Coefficient\":log_clf.coef_[0]})"
   ]
  },
  {
   "cell_type": "markdown",
   "id": "d463b568-57ec-45af-809c-0767a2014145",
   "metadata": {},
   "source": [
    "***Inisghts:***\n",
    "\n",
    "* The coefficients indicate weak relationships between the features and the outcome, with log odds ratios close to zero for most variables.\n",
    "    * This implies limited predictive power of the features in this specific dataset.\n",
    "* Several features, such as `'video_druation_sec'`, exhibit negative relationships with the outcome. A negative coefficient implies that as the feature value increases, the log-odds of the video being `'not verified'` decrease.\n",
    "    * For example, a one-unit increase in `'video_duration_sec'` corresponds to a 0.0023 decrease in the log-odds of the video being `'not verified'`, which translates into slightly lower odds of this outcome."
   ]
  },
  {
   "cell_type": "markdown",
   "id": "037f6ef1-20e4-4c8b-a723-56222404614a",
   "metadata": {},
   "source": [
    "<br>\n",
    "\n",
    "# **Conclusion**"
   ]
  },
  {
   "cell_type": "markdown",
   "id": "1f567605-0263-4ca0-be6d-5412991a9c29",
   "metadata": {},
   "source": [
    "This analysis was exploratory in nature, aiming to understand how various factors are associated with user verification status on TikTok. While the logistic regression model provided initial insights, the results indicate that the model has limited predictive power and overall performance.\n",
    "\n",
    "**Key Findings Include:**\n",
    "\n",
    "* A significant class imbalance in the dataset, with verified accounts representing only 6.29%, required resampling techniques to address this issue.\n",
    "* Multicollinearity posed a challenge, particularly with the `'video_like_count'` feature, which had a high VIF score (over 8) and strong average correlation with other metrics. Excluding this feature helped improve model stability and align with the logistic regression assumption of no multicollinearity.\n",
    "* Despite efforts to address multicollinearity and outliers, the model’s accuracy remained subpar, with an overall accuracy of 67% and weighted precision and recall averages at 69% and 67%, respectively.\n",
    "\n",
    "**Perfomance Insights:**\n",
    "\n",
    "* The model achieved better performance for the `'not verified'` class (precision: 63%, recall: 82%) than for the `'verified'` class (precision: 74%, recall: 52%). However, this came at the cost of increased false positives (23.71%) and false negatives (8.97%).\n",
    "* The weak relationships between features and the outcome, as indicated by log-odds ratios close to zero for most variables, further limited the model’s predictive power.\n",
    "\n",
    "This exploration aligns with the lab’s goal of examining how different video characteristics are associated with verification status. While the model itself is not robust enough for practical use, it has provided valuable insights into the relationships between features and verified status. These findings may help inform future models for classifying user submissions as claims or opinions. Ultimately, this stage served as an essential step in exploring relationships rather than building a final predictive solution."
   ]
  },
  {
   "cell_type": "code",
   "execution_count": null,
   "id": "c5f0993c-a4ea-4d9d-861e-79ae524a48da",
   "metadata": {},
   "outputs": [],
   "source": []
  }
 ],
 "metadata": {
  "kernelspec": {
   "display_name": "Python 3 (ipykernel)",
   "language": "python",
   "name": "python3"
  },
  "language_info": {
   "codemirror_mode": {
    "name": "ipython",
    "version": 3
   },
   "file_extension": ".py",
   "mimetype": "text/x-python",
   "name": "python",
   "nbconvert_exporter": "python",
   "pygments_lexer": "ipython3",
   "version": "3.12.4"
  }
 },
 "nbformat": 4,
 "nbformat_minor": 5
}
